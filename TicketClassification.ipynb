{
 "cells": [
  {
   "cell_type": "markdown",
   "metadata": {
    "id": "rhR-ZUkwJrFn"
   },
   "source": [
    "## Problem Statement \n",
    "\n",
    "You need to build a model that is able to classify customer complaints based on the products/services. By doing so, you can segregate these tickets into their relevant categories and, therefore, help in the quick resolution of the issue.\n",
    "\n",
    "You will be doing topic modelling on the <b>.json</b> data provided by the company. Since this data is not labelled, you need to apply NMF to analyse patterns and classify tickets into the following five clusters based on their products/services:\n",
    "\n",
    "* Credit card / Prepaid card\n",
    "\n",
    "* Bank account services\n",
    "\n",
    "* Theft/Dispute reporting\n",
    "\n",
    "* Mortgages/loans\n",
    "\n",
    "* Others \n",
    "\n",
    "\n",
    "With the help of topic modelling, you will be able to map each ticket onto its respective department/category. You can then use this data to train any supervised model such as logistic regression, decision tree or random forest. Using this trained model, you can classify any new customer complaint support ticket into its relevant department."
   ]
  },
  {
   "cell_type": "markdown",
   "metadata": {
    "id": "mcgXVNyaLUFS"
   },
   "source": [
    "## Pipelines that needs to be performed:\n",
    "\n",
    "You need to perform the following eight major tasks to complete the assignment:\n",
    "\n",
    "1.  Data loading\n",
    "\n",
    "2. Text preprocessing\n",
    "\n",
    "3. Exploratory data analysis (EDA)\n",
    "\n",
    "4. Feature extraction\n",
    "\n",
    "5. Topic modelling \n",
    "\n",
    "6. Model building using supervised learning\n",
    "\n",
    "7. Model training and evaluation\n",
    "\n",
    "8. Model inference"
   ]
  },
  {
   "cell_type": "markdown",
   "metadata": {
    "id": "JuLFIymAL58u"
   },
   "source": [
    "## Importing the necessary libraries"
   ]
  },
  {
   "cell_type": "code",
   "execution_count": null,
   "metadata": {
    "colab": {
     "base_uri": "https://localhost:8080/"
    },
    "id": "Id0lZrIQYYx0",
    "outputId": "2e3bcc20-46bb-4273-f1ec-e6a9358f87ab"
   },
   "outputs": [],
   "source": []
  },
  {
   "cell_type": "code",
   "execution_count": 1,
   "metadata": {
    "id": "-PPfvQSbHjMP"
   },
   "outputs": [
    {
     "name": "stdout",
     "output_type": "stream",
     "text": [
      "Requirement already satisfied: spacy in /opt/anaconda3/lib/python3.9/site-packages (3.2.1)\n",
      "Requirement already satisfied: murmurhash<1.1.0,>=0.28.0 in /opt/anaconda3/lib/python3.9/site-packages (from spacy) (1.0.5)\n",
      "Requirement already satisfied: packaging>=20.0 in /opt/anaconda3/lib/python3.9/site-packages (from spacy) (21.0)\n",
      "Requirement already satisfied: pydantic!=1.8,!=1.8.1,<1.9.0,>=1.7.4 in /opt/anaconda3/lib/python3.9/site-packages (from spacy) (1.8.2)\n",
      "Requirement already satisfied: preshed<3.1.0,>=3.0.2 in /opt/anaconda3/lib/python3.9/site-packages (from spacy) (3.0.5)\n",
      "Requirement already satisfied: catalogue<2.1.0,>=2.0.6 in /opt/anaconda3/lib/python3.9/site-packages (from spacy) (2.0.6)\n",
      "Requirement already satisfied: jinja2 in /opt/anaconda3/lib/python3.9/site-packages (from spacy) (2.11.3)\n",
      "Requirement already satisfied: numpy>=1.15.0 in /opt/anaconda3/lib/python3.9/site-packages (from spacy) (1.20.3)\n",
      "Requirement already satisfied: langcodes<4.0.0,>=3.2.0 in /opt/anaconda3/lib/python3.9/site-packages (from spacy) (3.3.0)\n",
      "Requirement already satisfied: spacy-loggers<2.0.0,>=1.0.0 in /opt/anaconda3/lib/python3.9/site-packages (from spacy) (1.0.1)\n",
      "Requirement already satisfied: thinc<8.1.0,>=8.0.12 in /opt/anaconda3/lib/python3.9/site-packages (from spacy) (8.0.13)\n",
      "Requirement already satisfied: spacy-legacy<3.1.0,>=3.0.8 in /opt/anaconda3/lib/python3.9/site-packages (from spacy) (3.0.8)\n",
      "Requirement already satisfied: wasabi<1.1.0,>=0.8.1 in /opt/anaconda3/lib/python3.9/site-packages (from spacy) (0.8.2)\n",
      "Requirement already satisfied: typer<0.5.0,>=0.3.0 in /opt/anaconda3/lib/python3.9/site-packages (from spacy) (0.4.0)\n",
      "Requirement already satisfied: pathy>=0.3.5 in /opt/anaconda3/lib/python3.9/site-packages (from spacy) (0.6.0)\n",
      "Requirement already satisfied: setuptools in /opt/anaconda3/lib/python3.9/site-packages (from spacy) (58.0.4)\n",
      "Requirement already satisfied: blis<0.8.0,>=0.4.0 in /opt/anaconda3/lib/python3.9/site-packages (from spacy) (0.7.4)\n",
      "Requirement already satisfied: tqdm<5.0.0,>=4.38.0 in /opt/anaconda3/lib/python3.9/site-packages (from spacy) (4.62.3)\n",
      "Requirement already satisfied: srsly<3.0.0,>=2.4.1 in /opt/anaconda3/lib/python3.9/site-packages (from spacy) (2.4.1)\n",
      "Requirement already satisfied: requests<3.0.0,>=2.13.0 in /opt/anaconda3/lib/python3.9/site-packages (from spacy) (2.26.0)\n",
      "Requirement already satisfied: cymem<2.1.0,>=2.0.2 in /opt/anaconda3/lib/python3.9/site-packages (from spacy) (2.0.5)\n",
      "Requirement already satisfied: pyparsing>=2.0.2 in /opt/anaconda3/lib/python3.9/site-packages (from packaging>=20.0->spacy) (3.0.4)\n",
      "Requirement already satisfied: smart-open<6.0.0,>=5.0.0 in /opt/anaconda3/lib/python3.9/site-packages (from pathy>=0.3.5->spacy) (5.1.0)\n",
      "Requirement already satisfied: typing-extensions>=3.7.4.3 in /opt/anaconda3/lib/python3.9/site-packages (from pydantic!=1.8,!=1.8.1,<1.9.0,>=1.7.4->spacy) (3.10.0.2)\n",
      "Requirement already satisfied: urllib3<1.27,>=1.21.1 in /opt/anaconda3/lib/python3.9/site-packages (from requests<3.0.0,>=2.13.0->spacy) (1.26.7)\n",
      "Requirement already satisfied: idna<4,>=2.5 in /opt/anaconda3/lib/python3.9/site-packages (from requests<3.0.0,>=2.13.0->spacy) (3.2)\n",
      "Requirement already satisfied: certifi>=2017.4.17 in /opt/anaconda3/lib/python3.9/site-packages (from requests<3.0.0,>=2.13.0->spacy) (2021.10.8)\n",
      "Requirement already satisfied: charset-normalizer~=2.0.0 in /opt/anaconda3/lib/python3.9/site-packages (from requests<3.0.0,>=2.13.0->spacy) (2.0.4)\n",
      "Requirement already satisfied: click<9.0.0,>=7.1.1 in /opt/anaconda3/lib/python3.9/site-packages (from typer<0.5.0,>=0.3.0->spacy) (8.0.3)\n",
      "Requirement already satisfied: MarkupSafe>=0.23 in /opt/anaconda3/lib/python3.9/site-packages (from jinja2->spacy) (1.1.1)\n"
     ]
    }
   ],
   "source": [
    "!pip install spacy"
   ]
  },
  {
   "cell_type": "code",
   "execution_count": 2,
   "metadata": {
    "id": "LrxLAMokHnc3"
   },
   "outputs": [
    {
     "name": "stdout",
     "output_type": "stream",
     "text": [
      "Requirement already satisfied: plotly in /opt/anaconda3/lib/python3.9/site-packages (5.7.0)\n",
      "Requirement already satisfied: six in /opt/anaconda3/lib/python3.9/site-packages (from plotly) (1.16.0)\n",
      "Requirement already satisfied: tenacity>=6.2.0 in /opt/anaconda3/lib/python3.9/site-packages (from plotly) (8.0.1)\n"
     ]
    }
   ],
   "source": [
    "!pip install plotly"
   ]
  },
  {
   "cell_type": "code",
   "execution_count": 3,
   "metadata": {
    "id": "O-Q9pqrcJrFr"
   },
   "outputs": [],
   "source": [
    "import json \n",
    "import numpy as np\n",
    "import pandas as pd\n",
    "import re, nltk, spacy, string\n",
    "import en_core_web_sm\n",
    "nlp = en_core_web_sm.load()\n",
    "import seaborn as sns\n",
    "import matplotlib.pyplot as plt\n",
    "%matplotlib inline\n",
    "\n",
    "from plotly.offline import plot\n",
    "import plotly.graph_objects as go\n",
    "import plotly.express as px\n",
    "\n",
    "from sklearn.feature_extraction.text import CountVectorizer, TfidfVectorizer\n",
    "from pprint import pprint"
   ]
  },
  {
   "cell_type": "code",
   "execution_count": 4,
   "metadata": {
    "id": "rM62aTLgH4uU"
   },
   "outputs": [],
   "source": [
    "from wordcloud import WordCloud, STOPWORDS\n",
    "from nltk import ngrams\n",
    "import collections"
   ]
  },
  {
   "cell_type": "code",
   "execution_count": 5,
   "metadata": {
    "id": "mmJo-nPEH9th"
   },
   "outputs": [
    {
     "name": "stderr",
     "output_type": "stream",
     "text": [
      "[nltk_data] Downloading package wordnet to\n",
      "[nltk_data]     /Users/tusharbadhwar/nltk_data...\n",
      "[nltk_data]   Package wordnet is already up-to-date!\n"
     ]
    },
    {
     "data": {
      "text/plain": [
       "True"
      ]
     },
     "execution_count": 5,
     "metadata": {},
     "output_type": "execute_result"
    }
   ],
   "source": [
    "nltk.download(\"wordnet\")"
   ]
  },
  {
   "cell_type": "code",
   "execution_count": 6,
   "metadata": {
    "id": "1q1LYjw9H-aa"
   },
   "outputs": [
    {
     "name": "stderr",
     "output_type": "stream",
     "text": [
      "[nltk_data] Downloading package punkt to\n",
      "[nltk_data]     /Users/tusharbadhwar/nltk_data...\n",
      "[nltk_data]   Package punkt is already up-to-date!\n"
     ]
    },
    {
     "data": {
      "text/plain": [
       "True"
      ]
     },
     "execution_count": 6,
     "metadata": {},
     "output_type": "execute_result"
    }
   ],
   "source": [
    "nltk.download('punkt')"
   ]
  },
  {
   "cell_type": "code",
   "execution_count": 7,
   "metadata": {
    "id": "SqqCnwZmICul"
   },
   "outputs": [
    {
     "name": "stderr",
     "output_type": "stream",
     "text": [
      "[nltk_data] Downloading package averaged_perceptron_tagger to\n",
      "[nltk_data]     /Users/tusharbadhwar/nltk_data...\n",
      "[nltk_data]   Package averaged_perceptron_tagger is already up-to-\n",
      "[nltk_data]       date!\n"
     ]
    },
    {
     "data": {
      "text/plain": [
       "True"
      ]
     },
     "execution_count": 7,
     "metadata": {},
     "output_type": "execute_result"
    }
   ],
   "source": [
    "nltk.download('averaged_perceptron_tagger')"
   ]
  },
  {
   "cell_type": "code",
   "execution_count": 8,
   "metadata": {
    "id": "k0qWtX03IDVI"
   },
   "outputs": [],
   "source": [
    "nlp=spacy.load(\"en_core_web_sm\")"
   ]
  },
  {
   "cell_type": "markdown",
   "metadata": {
    "id": "KtRLCsNVJrFt"
   },
   "source": [
    "## Loading the data\n",
    "\n",
    "The data is in JSON format and we need to convert it to a dataframe."
   ]
  },
  {
   "cell_type": "code",
   "execution_count": 9,
   "metadata": {
    "id": "puVzIf_iJrFt"
   },
   "outputs": [],
   "source": [
    "# Opening JSON file \n",
    "f = f = open('complaints.json','r')# Write the path to your data file and load it \n",
    "  \n",
    "# returns JSON object as  \n",
    "# a dictionary \n",
    "data = json.load(f)\n",
    "df=pd.json_normalize(data)"
   ]
  },
  {
   "cell_type": "markdown",
   "metadata": {
    "id": "_xYpH-sAJrFu"
   },
   "source": [
    "## Data preparation"
   ]
  },
  {
   "cell_type": "code",
   "execution_count": 10,
   "metadata": {
    "id": "Lf8ufHH5JrFu"
   },
   "outputs": [
    {
     "data": {
      "text/html": [
       "<div>\n",
       "<style scoped>\n",
       "    .dataframe tbody tr th:only-of-type {\n",
       "        vertical-align: middle;\n",
       "    }\n",
       "\n",
       "    .dataframe tbody tr th {\n",
       "        vertical-align: top;\n",
       "    }\n",
       "\n",
       "    .dataframe thead th {\n",
       "        text-align: right;\n",
       "    }\n",
       "</style>\n",
       "<table border=\"1\" class=\"dataframe\">\n",
       "  <thead>\n",
       "    <tr style=\"text-align: right;\">\n",
       "      <th></th>\n",
       "      <th>_index</th>\n",
       "      <th>_type</th>\n",
       "      <th>_id</th>\n",
       "      <th>_score</th>\n",
       "      <th>_source.tags</th>\n",
       "      <th>_source.zip_code</th>\n",
       "      <th>_source.complaint_id</th>\n",
       "      <th>_source.issue</th>\n",
       "      <th>_source.date_received</th>\n",
       "      <th>_source.state</th>\n",
       "      <th>...</th>\n",
       "      <th>_source.company_response</th>\n",
       "      <th>_source.company</th>\n",
       "      <th>_source.submitted_via</th>\n",
       "      <th>_source.date_sent_to_company</th>\n",
       "      <th>_source.company_public_response</th>\n",
       "      <th>_source.sub_product</th>\n",
       "      <th>_source.timely</th>\n",
       "      <th>_source.complaint_what_happened</th>\n",
       "      <th>_source.sub_issue</th>\n",
       "      <th>_source.consumer_consent_provided</th>\n",
       "    </tr>\n",
       "  </thead>\n",
       "  <tbody>\n",
       "    <tr>\n",
       "      <th>0</th>\n",
       "      <td>complaint-public-v2</td>\n",
       "      <td>complaint</td>\n",
       "      <td>3211475</td>\n",
       "      <td>0.0</td>\n",
       "      <td>None</td>\n",
       "      <td>90301</td>\n",
       "      <td>3211475</td>\n",
       "      <td>Attempts to collect debt not owed</td>\n",
       "      <td>2019-04-13T12:00:00-05:00</td>\n",
       "      <td>CA</td>\n",
       "      <td>...</td>\n",
       "      <td>Closed with explanation</td>\n",
       "      <td>JPMORGAN CHASE &amp; CO.</td>\n",
       "      <td>Web</td>\n",
       "      <td>2019-04-13T12:00:00-05:00</td>\n",
       "      <td>None</td>\n",
       "      <td>Credit card debt</td>\n",
       "      <td>Yes</td>\n",
       "      <td></td>\n",
       "      <td>Debt is not yours</td>\n",
       "      <td>Consent not provided</td>\n",
       "    </tr>\n",
       "    <tr>\n",
       "      <th>1</th>\n",
       "      <td>complaint-public-v2</td>\n",
       "      <td>complaint</td>\n",
       "      <td>3229299</td>\n",
       "      <td>0.0</td>\n",
       "      <td>Servicemember</td>\n",
       "      <td>319XX</td>\n",
       "      <td>3229299</td>\n",
       "      <td>Written notification about debt</td>\n",
       "      <td>2019-05-01T12:00:00-05:00</td>\n",
       "      <td>GA</td>\n",
       "      <td>...</td>\n",
       "      <td>Closed with explanation</td>\n",
       "      <td>JPMORGAN CHASE &amp; CO.</td>\n",
       "      <td>Web</td>\n",
       "      <td>2019-05-01T12:00:00-05:00</td>\n",
       "      <td>None</td>\n",
       "      <td>Credit card debt</td>\n",
       "      <td>Yes</td>\n",
       "      <td>Good morning my name is XXXX XXXX and I apprec...</td>\n",
       "      <td>Didn't receive enough information to verify debt</td>\n",
       "      <td>Consent provided</td>\n",
       "    </tr>\n",
       "    <tr>\n",
       "      <th>2</th>\n",
       "      <td>complaint-public-v2</td>\n",
       "      <td>complaint</td>\n",
       "      <td>3199379</td>\n",
       "      <td>0.0</td>\n",
       "      <td>None</td>\n",
       "      <td>77069</td>\n",
       "      <td>3199379</td>\n",
       "      <td>Other features, terms, or problems</td>\n",
       "      <td>2019-04-02T12:00:00-05:00</td>\n",
       "      <td>TX</td>\n",
       "      <td>...</td>\n",
       "      <td>Closed with explanation</td>\n",
       "      <td>JPMORGAN CHASE &amp; CO.</td>\n",
       "      <td>Web</td>\n",
       "      <td>2019-04-02T12:00:00-05:00</td>\n",
       "      <td>None</td>\n",
       "      <td>General-purpose credit card or charge card</td>\n",
       "      <td>Yes</td>\n",
       "      <td>I upgraded my XXXX XXXX card in XX/XX/2018 and...</td>\n",
       "      <td>Problem with rewards from credit card</td>\n",
       "      <td>Consent provided</td>\n",
       "    </tr>\n",
       "    <tr>\n",
       "      <th>3</th>\n",
       "      <td>complaint-public-v2</td>\n",
       "      <td>complaint</td>\n",
       "      <td>2673060</td>\n",
       "      <td>0.0</td>\n",
       "      <td>None</td>\n",
       "      <td>48066</td>\n",
       "      <td>2673060</td>\n",
       "      <td>Trouble during payment process</td>\n",
       "      <td>2017-09-13T12:00:00-05:00</td>\n",
       "      <td>MI</td>\n",
       "      <td>...</td>\n",
       "      <td>Closed with explanation</td>\n",
       "      <td>JPMORGAN CHASE &amp; CO.</td>\n",
       "      <td>Web</td>\n",
       "      <td>2017-09-14T12:00:00-05:00</td>\n",
       "      <td>None</td>\n",
       "      <td>Conventional home mortgage</td>\n",
       "      <td>Yes</td>\n",
       "      <td></td>\n",
       "      <td>None</td>\n",
       "      <td>Consent not provided</td>\n",
       "    </tr>\n",
       "    <tr>\n",
       "      <th>4</th>\n",
       "      <td>complaint-public-v2</td>\n",
       "      <td>complaint</td>\n",
       "      <td>3203545</td>\n",
       "      <td>0.0</td>\n",
       "      <td>None</td>\n",
       "      <td>10473</td>\n",
       "      <td>3203545</td>\n",
       "      <td>Fees or interest</td>\n",
       "      <td>2019-04-05T12:00:00-05:00</td>\n",
       "      <td>NY</td>\n",
       "      <td>...</td>\n",
       "      <td>Closed with explanation</td>\n",
       "      <td>JPMORGAN CHASE &amp; CO.</td>\n",
       "      <td>Referral</td>\n",
       "      <td>2019-04-05T12:00:00-05:00</td>\n",
       "      <td>None</td>\n",
       "      <td>General-purpose credit card or charge card</td>\n",
       "      <td>Yes</td>\n",
       "      <td></td>\n",
       "      <td>Charged too much interest</td>\n",
       "      <td>N/A</td>\n",
       "    </tr>\n",
       "  </tbody>\n",
       "</table>\n",
       "<p>5 rows × 22 columns</p>\n",
       "</div>"
      ],
      "text/plain": [
       "                _index      _type      _id  _score   _source.tags  \\\n",
       "0  complaint-public-v2  complaint  3211475     0.0           None   \n",
       "1  complaint-public-v2  complaint  3229299     0.0  Servicemember   \n",
       "2  complaint-public-v2  complaint  3199379     0.0           None   \n",
       "3  complaint-public-v2  complaint  2673060     0.0           None   \n",
       "4  complaint-public-v2  complaint  3203545     0.0           None   \n",
       "\n",
       "  _source.zip_code _source.complaint_id                       _source.issue  \\\n",
       "0            90301              3211475   Attempts to collect debt not owed   \n",
       "1            319XX              3229299     Written notification about debt   \n",
       "2            77069              3199379  Other features, terms, or problems   \n",
       "3            48066              2673060      Trouble during payment process   \n",
       "4            10473              3203545                    Fees or interest   \n",
       "\n",
       "       _source.date_received _source.state  ... _source.company_response  \\\n",
       "0  2019-04-13T12:00:00-05:00            CA  ...  Closed with explanation   \n",
       "1  2019-05-01T12:00:00-05:00            GA  ...  Closed with explanation   \n",
       "2  2019-04-02T12:00:00-05:00            TX  ...  Closed with explanation   \n",
       "3  2017-09-13T12:00:00-05:00            MI  ...  Closed with explanation   \n",
       "4  2019-04-05T12:00:00-05:00            NY  ...  Closed with explanation   \n",
       "\n",
       "        _source.company _source.submitted_via _source.date_sent_to_company  \\\n",
       "0  JPMORGAN CHASE & CO.                   Web    2019-04-13T12:00:00-05:00   \n",
       "1  JPMORGAN CHASE & CO.                   Web    2019-05-01T12:00:00-05:00   \n",
       "2  JPMORGAN CHASE & CO.                   Web    2019-04-02T12:00:00-05:00   \n",
       "3  JPMORGAN CHASE & CO.                   Web    2017-09-14T12:00:00-05:00   \n",
       "4  JPMORGAN CHASE & CO.              Referral    2019-04-05T12:00:00-05:00   \n",
       "\n",
       "  _source.company_public_response                         _source.sub_product  \\\n",
       "0                            None                            Credit card debt   \n",
       "1                            None                            Credit card debt   \n",
       "2                            None  General-purpose credit card or charge card   \n",
       "3                            None                  Conventional home mortgage   \n",
       "4                            None  General-purpose credit card or charge card   \n",
       "\n",
       "  _source.timely                    _source.complaint_what_happened  \\\n",
       "0            Yes                                                      \n",
       "1            Yes  Good morning my name is XXXX XXXX and I apprec...   \n",
       "2            Yes  I upgraded my XXXX XXXX card in XX/XX/2018 and...   \n",
       "3            Yes                                                      \n",
       "4            Yes                                                      \n",
       "\n",
       "                                  _source.sub_issue  \\\n",
       "0                                 Debt is not yours   \n",
       "1  Didn't receive enough information to verify debt   \n",
       "2             Problem with rewards from credit card   \n",
       "3                                              None   \n",
       "4                         Charged too much interest   \n",
       "\n",
       "  _source.consumer_consent_provided  \n",
       "0              Consent not provided  \n",
       "1                  Consent provided  \n",
       "2                  Consent provided  \n",
       "3              Consent not provided  \n",
       "4                               N/A  \n",
       "\n",
       "[5 rows x 22 columns]"
      ]
     },
     "execution_count": 10,
     "metadata": {},
     "output_type": "execute_result"
    }
   ],
   "source": [
    "# Inspect the dataframe to understand the given data.\n",
    "df.head()"
   ]
  },
  {
   "cell_type": "code",
   "execution_count": 11,
   "metadata": {
    "id": "_Q0Ih8sBInVF"
   },
   "outputs": [
    {
     "name": "stdout",
     "output_type": "stream",
     "text": [
      "<class 'pandas.core.frame.DataFrame'>\n",
      "RangeIndex: 78313 entries, 0 to 78312\n",
      "Data columns (total 22 columns):\n",
      " #   Column                             Non-Null Count  Dtype  \n",
      "---  ------                             --------------  -----  \n",
      " 0   _index                             78313 non-null  object \n",
      " 1   _type                              78313 non-null  object \n",
      " 2   _id                                78313 non-null  object \n",
      " 3   _score                             78313 non-null  float64\n",
      " 4   _source.tags                       10900 non-null  object \n",
      " 5   _source.zip_code                   71556 non-null  object \n",
      " 6   _source.complaint_id               78313 non-null  object \n",
      " 7   _source.issue                      78313 non-null  object \n",
      " 8   _source.date_received              78313 non-null  object \n",
      " 9   _source.state                      76322 non-null  object \n",
      " 10  _source.consumer_disputed          78313 non-null  object \n",
      " 11  _source.product                    78313 non-null  object \n",
      " 12  _source.company_response           78313 non-null  object \n",
      " 13  _source.company                    78313 non-null  object \n",
      " 14  _source.submitted_via              78313 non-null  object \n",
      " 15  _source.date_sent_to_company       78313 non-null  object \n",
      " 16  _source.company_public_response    4 non-null      object \n",
      " 17  _source.sub_product                67742 non-null  object \n",
      " 18  _source.timely                     78313 non-null  object \n",
      " 19  _source.complaint_what_happened    78313 non-null  object \n",
      " 20  _source.sub_issue                  32016 non-null  object \n",
      " 21  _source.consumer_consent_provided  77305 non-null  object \n",
      "dtypes: float64(1), object(21)\n",
      "memory usage: 13.1+ MB\n"
     ]
    }
   ],
   "source": [
    "df.info()"
   ]
  },
  {
   "cell_type": "code",
   "execution_count": 12,
   "metadata": {
    "id": "uaAM1ZqOIpw8"
   },
   "outputs": [
    {
     "data": {
      "text/plain": [
       "(78313, 22)"
      ]
     },
     "execution_count": 12,
     "metadata": {},
     "output_type": "execute_result"
    }
   ],
   "source": [
    "df.shape"
   ]
  },
  {
   "cell_type": "code",
   "execution_count": 13,
   "metadata": {
    "id": "d5UdD3CMI0DN"
   },
   "outputs": [
    {
     "data": {
      "text/plain": [
       "_source.company_public_response      78309\n",
       "_source.tags                         67413\n",
       "_source.sub_issue                    46297\n",
       "_source.sub_product                  10571\n",
       "_source.zip_code                      6757\n",
       "_source.state                         1991\n",
       "_source.consumer_consent_provided     1008\n",
       "_source.company                          0\n",
       "_source.complaint_what_happened          0\n",
       "_source.timely                           0\n",
       "_source.date_sent_to_company             0\n",
       "_source.submitted_via                    0\n",
       "_index                                   0\n",
       "_source.company_response                 0\n",
       "_type                                    0\n",
       "_source.consumer_disputed                0\n",
       "_source.date_received                    0\n",
       "_source.issue                            0\n",
       "_source.complaint_id                     0\n",
       "_score                                   0\n",
       "_id                                      0\n",
       "_source.product                          0\n",
       "dtype: int64"
      ]
     },
     "execution_count": 13,
     "metadata": {},
     "output_type": "execute_result"
    }
   ],
   "source": [
    "df.isnull().sum().sort_values(ascending=False)"
   ]
  },
  {
   "cell_type": "code",
   "execution_count": 14,
   "metadata": {
    "id": "Dwcty-wmJrFw"
   },
   "outputs": [
    {
     "name": "stdout",
     "output_type": "stream",
     "text": [
      "Index(['_index', '_type', '_id', '_score', '_source.tags', '_source.zip_code',\n",
      "       '_source.complaint_id', '_source.issue', '_source.date_received',\n",
      "       '_source.state', '_source.consumer_disputed', '_source.product',\n",
      "       '_source.company_response', '_source.company', '_source.submitted_via',\n",
      "       '_source.date_sent_to_company', '_source.company_public_response',\n",
      "       '_source.sub_product', '_source.timely',\n",
      "       '_source.complaint_what_happened', '_source.sub_issue',\n",
      "       '_source.consumer_consent_provided'],\n",
      "      dtype='object')\n"
     ]
    }
   ],
   "source": [
    "#print the column names\n",
    "print(df.columns)"
   ]
  },
  {
   "cell_type": "code",
   "execution_count": 15,
   "metadata": {
    "id": "FYCtKXD1JrFw"
   },
   "outputs": [],
   "source": [
    "#Assign new column names\n",
    "df.columns=['index', 'type', 'id', 'score', 'tags', 'zip_code',\n",
    "       'complaint_id', 'issue', 'date_received',\n",
    "       'state', 'consumer_disputed', 'product',\n",
    "       'company_response', 'company', 'submitted_via',\n",
    "       'date_sent_to_company', 'company_public_response',\n",
    "       'sub_product', 'timely',\n",
    "       'complaint_what_happened', 'sub_issue',\n",
    "       'consumer_consent_provided']"
   ]
  },
  {
   "cell_type": "code",
   "execution_count": 16,
   "metadata": {
    "id": "8LeXBFsII_tJ"
   },
   "outputs": [
    {
     "data": {
      "text/html": [
       "<div>\n",
       "<style scoped>\n",
       "    .dataframe tbody tr th:only-of-type {\n",
       "        vertical-align: middle;\n",
       "    }\n",
       "\n",
       "    .dataframe tbody tr th {\n",
       "        vertical-align: top;\n",
       "    }\n",
       "\n",
       "    .dataframe thead th {\n",
       "        text-align: right;\n",
       "    }\n",
       "</style>\n",
       "<table border=\"1\" class=\"dataframe\">\n",
       "  <thead>\n",
       "    <tr style=\"text-align: right;\">\n",
       "      <th></th>\n",
       "      <th>index</th>\n",
       "      <th>type</th>\n",
       "      <th>id</th>\n",
       "      <th>score</th>\n",
       "      <th>tags</th>\n",
       "      <th>zip_code</th>\n",
       "      <th>complaint_id</th>\n",
       "      <th>issue</th>\n",
       "      <th>date_received</th>\n",
       "      <th>state</th>\n",
       "      <th>...</th>\n",
       "      <th>company_response</th>\n",
       "      <th>company</th>\n",
       "      <th>submitted_via</th>\n",
       "      <th>date_sent_to_company</th>\n",
       "      <th>company_public_response</th>\n",
       "      <th>sub_product</th>\n",
       "      <th>timely</th>\n",
       "      <th>complaint_what_happened</th>\n",
       "      <th>sub_issue</th>\n",
       "      <th>consumer_consent_provided</th>\n",
       "    </tr>\n",
       "  </thead>\n",
       "  <tbody>\n",
       "    <tr>\n",
       "      <th>0</th>\n",
       "      <td>complaint-public-v2</td>\n",
       "      <td>complaint</td>\n",
       "      <td>3211475</td>\n",
       "      <td>0.0</td>\n",
       "      <td>None</td>\n",
       "      <td>90301</td>\n",
       "      <td>3211475</td>\n",
       "      <td>Attempts to collect debt not owed</td>\n",
       "      <td>2019-04-13T12:00:00-05:00</td>\n",
       "      <td>CA</td>\n",
       "      <td>...</td>\n",
       "      <td>Closed with explanation</td>\n",
       "      <td>JPMORGAN CHASE &amp; CO.</td>\n",
       "      <td>Web</td>\n",
       "      <td>2019-04-13T12:00:00-05:00</td>\n",
       "      <td>None</td>\n",
       "      <td>Credit card debt</td>\n",
       "      <td>Yes</td>\n",
       "      <td></td>\n",
       "      <td>Debt is not yours</td>\n",
       "      <td>Consent not provided</td>\n",
       "    </tr>\n",
       "    <tr>\n",
       "      <th>1</th>\n",
       "      <td>complaint-public-v2</td>\n",
       "      <td>complaint</td>\n",
       "      <td>3229299</td>\n",
       "      <td>0.0</td>\n",
       "      <td>Servicemember</td>\n",
       "      <td>319XX</td>\n",
       "      <td>3229299</td>\n",
       "      <td>Written notification about debt</td>\n",
       "      <td>2019-05-01T12:00:00-05:00</td>\n",
       "      <td>GA</td>\n",
       "      <td>...</td>\n",
       "      <td>Closed with explanation</td>\n",
       "      <td>JPMORGAN CHASE &amp; CO.</td>\n",
       "      <td>Web</td>\n",
       "      <td>2019-05-01T12:00:00-05:00</td>\n",
       "      <td>None</td>\n",
       "      <td>Credit card debt</td>\n",
       "      <td>Yes</td>\n",
       "      <td>Good morning my name is XXXX XXXX and I apprec...</td>\n",
       "      <td>Didn't receive enough information to verify debt</td>\n",
       "      <td>Consent provided</td>\n",
       "    </tr>\n",
       "    <tr>\n",
       "      <th>2</th>\n",
       "      <td>complaint-public-v2</td>\n",
       "      <td>complaint</td>\n",
       "      <td>3199379</td>\n",
       "      <td>0.0</td>\n",
       "      <td>None</td>\n",
       "      <td>77069</td>\n",
       "      <td>3199379</td>\n",
       "      <td>Other features, terms, or problems</td>\n",
       "      <td>2019-04-02T12:00:00-05:00</td>\n",
       "      <td>TX</td>\n",
       "      <td>...</td>\n",
       "      <td>Closed with explanation</td>\n",
       "      <td>JPMORGAN CHASE &amp; CO.</td>\n",
       "      <td>Web</td>\n",
       "      <td>2019-04-02T12:00:00-05:00</td>\n",
       "      <td>None</td>\n",
       "      <td>General-purpose credit card or charge card</td>\n",
       "      <td>Yes</td>\n",
       "      <td>I upgraded my XXXX XXXX card in XX/XX/2018 and...</td>\n",
       "      <td>Problem with rewards from credit card</td>\n",
       "      <td>Consent provided</td>\n",
       "    </tr>\n",
       "    <tr>\n",
       "      <th>3</th>\n",
       "      <td>complaint-public-v2</td>\n",
       "      <td>complaint</td>\n",
       "      <td>2673060</td>\n",
       "      <td>0.0</td>\n",
       "      <td>None</td>\n",
       "      <td>48066</td>\n",
       "      <td>2673060</td>\n",
       "      <td>Trouble during payment process</td>\n",
       "      <td>2017-09-13T12:00:00-05:00</td>\n",
       "      <td>MI</td>\n",
       "      <td>...</td>\n",
       "      <td>Closed with explanation</td>\n",
       "      <td>JPMORGAN CHASE &amp; CO.</td>\n",
       "      <td>Web</td>\n",
       "      <td>2017-09-14T12:00:00-05:00</td>\n",
       "      <td>None</td>\n",
       "      <td>Conventional home mortgage</td>\n",
       "      <td>Yes</td>\n",
       "      <td></td>\n",
       "      <td>None</td>\n",
       "      <td>Consent not provided</td>\n",
       "    </tr>\n",
       "    <tr>\n",
       "      <th>4</th>\n",
       "      <td>complaint-public-v2</td>\n",
       "      <td>complaint</td>\n",
       "      <td>3203545</td>\n",
       "      <td>0.0</td>\n",
       "      <td>None</td>\n",
       "      <td>10473</td>\n",
       "      <td>3203545</td>\n",
       "      <td>Fees or interest</td>\n",
       "      <td>2019-04-05T12:00:00-05:00</td>\n",
       "      <td>NY</td>\n",
       "      <td>...</td>\n",
       "      <td>Closed with explanation</td>\n",
       "      <td>JPMORGAN CHASE &amp; CO.</td>\n",
       "      <td>Referral</td>\n",
       "      <td>2019-04-05T12:00:00-05:00</td>\n",
       "      <td>None</td>\n",
       "      <td>General-purpose credit card or charge card</td>\n",
       "      <td>Yes</td>\n",
       "      <td></td>\n",
       "      <td>Charged too much interest</td>\n",
       "      <td>N/A</td>\n",
       "    </tr>\n",
       "  </tbody>\n",
       "</table>\n",
       "<p>5 rows × 22 columns</p>\n",
       "</div>"
      ],
      "text/plain": [
       "                 index       type       id  score           tags zip_code  \\\n",
       "0  complaint-public-v2  complaint  3211475    0.0           None    90301   \n",
       "1  complaint-public-v2  complaint  3229299    0.0  Servicemember    319XX   \n",
       "2  complaint-public-v2  complaint  3199379    0.0           None    77069   \n",
       "3  complaint-public-v2  complaint  2673060    0.0           None    48066   \n",
       "4  complaint-public-v2  complaint  3203545    0.0           None    10473   \n",
       "\n",
       "  complaint_id                               issue              date_received  \\\n",
       "0      3211475   Attempts to collect debt not owed  2019-04-13T12:00:00-05:00   \n",
       "1      3229299     Written notification about debt  2019-05-01T12:00:00-05:00   \n",
       "2      3199379  Other features, terms, or problems  2019-04-02T12:00:00-05:00   \n",
       "3      2673060      Trouble during payment process  2017-09-13T12:00:00-05:00   \n",
       "4      3203545                    Fees or interest  2019-04-05T12:00:00-05:00   \n",
       "\n",
       "  state  ...         company_response               company submitted_via  \\\n",
       "0    CA  ...  Closed with explanation  JPMORGAN CHASE & CO.           Web   \n",
       "1    GA  ...  Closed with explanation  JPMORGAN CHASE & CO.           Web   \n",
       "2    TX  ...  Closed with explanation  JPMORGAN CHASE & CO.           Web   \n",
       "3    MI  ...  Closed with explanation  JPMORGAN CHASE & CO.           Web   \n",
       "4    NY  ...  Closed with explanation  JPMORGAN CHASE & CO.      Referral   \n",
       "\n",
       "        date_sent_to_company company_public_response  \\\n",
       "0  2019-04-13T12:00:00-05:00                    None   \n",
       "1  2019-05-01T12:00:00-05:00                    None   \n",
       "2  2019-04-02T12:00:00-05:00                    None   \n",
       "3  2017-09-14T12:00:00-05:00                    None   \n",
       "4  2019-04-05T12:00:00-05:00                    None   \n",
       "\n",
       "                                  sub_product timely  \\\n",
       "0                            Credit card debt    Yes   \n",
       "1                            Credit card debt    Yes   \n",
       "2  General-purpose credit card or charge card    Yes   \n",
       "3                  Conventional home mortgage    Yes   \n",
       "4  General-purpose credit card or charge card    Yes   \n",
       "\n",
       "                             complaint_what_happened  \\\n",
       "0                                                      \n",
       "1  Good morning my name is XXXX XXXX and I apprec...   \n",
       "2  I upgraded my XXXX XXXX card in XX/XX/2018 and...   \n",
       "3                                                      \n",
       "4                                                      \n",
       "\n",
       "                                          sub_issue consumer_consent_provided  \n",
       "0                                 Debt is not yours      Consent not provided  \n",
       "1  Didn't receive enough information to verify debt          Consent provided  \n",
       "2             Problem with rewards from credit card          Consent provided  \n",
       "3                                              None      Consent not provided  \n",
       "4                         Charged too much interest                       N/A  \n",
       "\n",
       "[5 rows x 22 columns]"
      ]
     },
     "execution_count": 16,
     "metadata": {},
     "output_type": "execute_result"
    }
   ],
   "source": [
    "df.head()"
   ]
  },
  {
   "cell_type": "code",
   "execution_count": 17,
   "metadata": {
    "id": "grQUPFL5JrFx"
   },
   "outputs": [],
   "source": [
    "#Assign nan in place of blanks in the complaints column\n",
    "df.complaint_what_happened=df.complaint_what_happened.apply(lambda x: np.NaN if x=='' else x)"
   ]
  },
  {
   "cell_type": "code",
   "execution_count": 18,
   "metadata": {
    "id": "Jfxd8VSmJrFy"
   },
   "outputs": [],
   "source": [
    "#Remove all rows where complaints column is nan\n",
    "df_new=df[~pd.isnull(df.complaint_what_happened)]"
   ]
  },
  {
   "cell_type": "markdown",
   "metadata": {
    "id": "L944HZpsJrFy"
   },
   "source": [
    "## Prepare the text for topic modeling\n",
    "\n",
    "Once you have removed all the blank complaints, you need to:\n",
    "\n",
    "* Make the text lowercase\n",
    "* Remove text in square brackets\n",
    "* Remove punctuation\n",
    "* Remove words containing numbers\n",
    "\n",
    "\n",
    "Once you have done these cleaning operations you need to perform the following:\n",
    "* Lemmatize the texts\n",
    "* Extract the POS tags of the lemmatized text and remove all the words which have tags other than NN[tag == \"NN\"].\n"
   ]
  },
  {
   "cell_type": "code",
   "execution_count": 19,
   "metadata": {
    "id": "qm7SjjSkJrFz"
   },
   "outputs": [],
   "source": [
    "# Write your function here to clean the text and remove all the unnecessary elements.\n",
    "def data_preprocess(complaint_df):\n",
    "    if(re.sub('\\[\\w*\\]','',complaint_df)):\n",
    "        complaint_df=re.sub('\\[\\w*\\]','',complaint_df)\n",
    "\n",
    "\n",
    "    if(re.sub(r'[^\\w\\s]', '', complaint_df)):\n",
    "        complaint_df=re.sub(r'[^\\w\\s]', '', complaint_df)\n",
    "\n",
    "    if(re.sub('\\w*\\d\\w*','',complaint_df)):\n",
    "        complaint_df=re.sub('\\w*\\d\\w*','',complaint_df)\n",
    "        \n",
    "    return complaint_df.lower()\n"
   ]
  },
  {
   "cell_type": "code",
   "execution_count": 20,
   "metadata": {
    "id": "dAoGVJKUJcNs"
   },
   "outputs": [
    {
     "name": "stderr",
     "output_type": "stream",
     "text": [
      "/opt/anaconda3/lib/python3.9/site-packages/pandas/core/generic.py:5516: SettingWithCopyWarning:\n",
      "\n",
      "\n",
      "A value is trying to be set on a copy of a slice from a DataFrame.\n",
      "Try using .loc[row_indexer,col_indexer] = value instead\n",
      "\n",
      "See the caveats in the documentation: https://pandas.pydata.org/pandas-docs/stable/user_guide/indexing.html#returning-a-view-versus-a-copy\n",
      "\n"
     ]
    }
   ],
   "source": [
    "df_new.complaint_what_happened=df_new.complaint_what_happened.apply(data_preprocess)"
   ]
  },
  {
   "cell_type": "code",
   "execution_count": 21,
   "metadata": {
    "id": "n35_ES58JiQV"
   },
   "outputs": [],
   "source": [
    "df_temp={'complaints':df_new.complaint_what_happened}\n",
    "df_clean=pd.DataFrame(df_temp)"
   ]
  },
  {
   "cell_type": "code",
   "execution_count": 22,
   "metadata": {
    "id": "2uFEysWZJlj1"
   },
   "outputs": [
    {
     "data": {
      "text/html": [
       "<div>\n",
       "<style scoped>\n",
       "    .dataframe tbody tr th:only-of-type {\n",
       "        vertical-align: middle;\n",
       "    }\n",
       "\n",
       "    .dataframe tbody tr th {\n",
       "        vertical-align: top;\n",
       "    }\n",
       "\n",
       "    .dataframe thead th {\n",
       "        text-align: right;\n",
       "    }\n",
       "</style>\n",
       "<table border=\"1\" class=\"dataframe\">\n",
       "  <thead>\n",
       "    <tr style=\"text-align: right;\">\n",
       "      <th></th>\n",
       "      <th>complaints</th>\n",
       "    </tr>\n",
       "  </thead>\n",
       "  <tbody>\n",
       "    <tr>\n",
       "      <th>1</th>\n",
       "      <td>good morning my name is xxxx xxxx and i apprec...</td>\n",
       "    </tr>\n",
       "    <tr>\n",
       "      <th>2</th>\n",
       "      <td>i upgraded my xxxx xxxx card in  and was told ...</td>\n",
       "    </tr>\n",
       "    <tr>\n",
       "      <th>10</th>\n",
       "      <td>chase card was reported on  however fraudulent...</td>\n",
       "    </tr>\n",
       "    <tr>\n",
       "      <th>11</th>\n",
       "      <td>on  while trying to book a xxxx  xxxx  ticket ...</td>\n",
       "    </tr>\n",
       "    <tr>\n",
       "      <th>14</th>\n",
       "      <td>my grand son give me check for  i deposit it i...</td>\n",
       "    </tr>\n",
       "    <tr>\n",
       "      <th>...</th>\n",
       "      <td>...</td>\n",
       "    </tr>\n",
       "    <tr>\n",
       "      <th>78303</th>\n",
       "      <td>after being a chase card customer for well ove...</td>\n",
       "    </tr>\n",
       "    <tr>\n",
       "      <th>78309</th>\n",
       "      <td>on wednesday xxxxxxxx i called chas my xxxx xx...</td>\n",
       "    </tr>\n",
       "    <tr>\n",
       "      <th>78310</th>\n",
       "      <td>i am not familiar with xxxx pay and did not un...</td>\n",
       "    </tr>\n",
       "    <tr>\n",
       "      <th>78311</th>\n",
       "      <td>i have had flawless credit for  yrs ive had ch...</td>\n",
       "    </tr>\n",
       "    <tr>\n",
       "      <th>78312</th>\n",
       "      <td>roughly  years ago i closed out my accounts wi...</td>\n",
       "    </tr>\n",
       "  </tbody>\n",
       "</table>\n",
       "<p>21072 rows × 1 columns</p>\n",
       "</div>"
      ],
      "text/plain": [
       "                                              complaints\n",
       "1      good morning my name is xxxx xxxx and i apprec...\n",
       "2      i upgraded my xxxx xxxx card in  and was told ...\n",
       "10     chase card was reported on  however fraudulent...\n",
       "11     on  while trying to book a xxxx  xxxx  ticket ...\n",
       "14     my grand son give me check for  i deposit it i...\n",
       "...                                                  ...\n",
       "78303  after being a chase card customer for well ove...\n",
       "78309  on wednesday xxxxxxxx i called chas my xxxx xx...\n",
       "78310  i am not familiar with xxxx pay and did not un...\n",
       "78311  i have had flawless credit for  yrs ive had ch...\n",
       "78312  roughly  years ago i closed out my accounts wi...\n",
       "\n",
       "[21072 rows x 1 columns]"
      ]
     },
     "execution_count": 22,
     "metadata": {},
     "output_type": "execute_result"
    }
   ],
   "source": [
    "df_clean"
   ]
  },
  {
   "cell_type": "code",
   "execution_count": 23,
   "metadata": {
    "id": "zgOu8t8HJrFz"
   },
   "outputs": [],
   "source": [
    "#Write your function to Lemmatize the texts\n",
    "def word_lemmatize(sentence):\n",
    "    doc=nlp(sentence)\n",
    "    return (\" \".join([token.lemma_ for token in doc]))"
   ]
  },
  {
   "cell_type": "code",
   "execution_count": 25,
   "metadata": {},
   "outputs": [],
   "source": [
    "#Create a dataframe('df_clean') that will have only the complaints and the lemmatized complaints "
   ]
  },
  {
   "cell_type": "code",
   "execution_count": 24,
   "metadata": {
    "colab": {
     "base_uri": "https://localhost:8080/",
     "height": 165
    },
    "id": "dbWD6U0vJtVA",
    "outputId": "e49ba017-42b7-4db5-9d62-ef13e695eace"
   },
   "outputs": [],
   "source": [
    "df_clean['lemmatized complaints']=df_clean['complaints'].apply(word_lemmatize)  "
   ]
  },
  {
   "cell_type": "code",
   "execution_count": 25,
   "metadata": {
    "id": "nOiDVvEIJrF0"
   },
   "outputs": [
    {
     "data": {
      "text/html": [
       "<div>\n",
       "<style scoped>\n",
       "    .dataframe tbody tr th:only-of-type {\n",
       "        vertical-align: middle;\n",
       "    }\n",
       "\n",
       "    .dataframe tbody tr th {\n",
       "        vertical-align: top;\n",
       "    }\n",
       "\n",
       "    .dataframe thead th {\n",
       "        text-align: right;\n",
       "    }\n",
       "</style>\n",
       "<table border=\"1\" class=\"dataframe\">\n",
       "  <thead>\n",
       "    <tr style=\"text-align: right;\">\n",
       "      <th></th>\n",
       "      <th>complaints</th>\n",
       "      <th>lemmatized complaints</th>\n",
       "    </tr>\n",
       "  </thead>\n",
       "  <tbody>\n",
       "    <tr>\n",
       "      <th>1</th>\n",
       "      <td>good morning my name is xxxx xxxx and i apprec...</td>\n",
       "      <td>good morning my name be xxxx xxxx and I apprec...</td>\n",
       "    </tr>\n",
       "    <tr>\n",
       "      <th>2</th>\n",
       "      <td>i upgraded my xxxx xxxx card in  and was told ...</td>\n",
       "      <td>I upgrade my xxxx xxxx card in   and be tell b...</td>\n",
       "    </tr>\n",
       "    <tr>\n",
       "      <th>10</th>\n",
       "      <td>chase card was reported on  however fraudulent...</td>\n",
       "      <td>chase card be report on   however fraudulent a...</td>\n",
       "    </tr>\n",
       "    <tr>\n",
       "      <th>11</th>\n",
       "      <td>on  while trying to book a xxxx  xxxx  ticket ...</td>\n",
       "      <td>on   while try to book a xxxx   xxxx   ticket ...</td>\n",
       "    </tr>\n",
       "    <tr>\n",
       "      <th>14</th>\n",
       "      <td>my grand son give me check for  i deposit it i...</td>\n",
       "      <td>my grand son give I check for   I deposit it i...</td>\n",
       "    </tr>\n",
       "    <tr>\n",
       "      <th>...</th>\n",
       "      <td>...</td>\n",
       "      <td>...</td>\n",
       "    </tr>\n",
       "    <tr>\n",
       "      <th>78303</th>\n",
       "      <td>after being a chase card customer for well ove...</td>\n",
       "      <td>after be a chase card customer for well over a...</td>\n",
       "    </tr>\n",
       "    <tr>\n",
       "      <th>78309</th>\n",
       "      <td>on wednesday xxxxxxxx i called chas my xxxx xx...</td>\n",
       "      <td>on wednesday xxxxxxxx I call chas my xxxx xxxx...</td>\n",
       "    </tr>\n",
       "    <tr>\n",
       "      <th>78310</th>\n",
       "      <td>i am not familiar with xxxx pay and did not un...</td>\n",
       "      <td>I be not familiar with xxxx pay and do not und...</td>\n",
       "    </tr>\n",
       "    <tr>\n",
       "      <th>78311</th>\n",
       "      <td>i have had flawless credit for  yrs ive had ch...</td>\n",
       "      <td>I have have flawless credit for   yrs I ve hav...</td>\n",
       "    </tr>\n",
       "    <tr>\n",
       "      <th>78312</th>\n",
       "      <td>roughly  years ago i closed out my accounts wi...</td>\n",
       "      <td>roughly   year ago I close out my account with...</td>\n",
       "    </tr>\n",
       "  </tbody>\n",
       "</table>\n",
       "<p>21072 rows × 2 columns</p>\n",
       "</div>"
      ],
      "text/plain": [
       "                                              complaints  \\\n",
       "1      good morning my name is xxxx xxxx and i apprec...   \n",
       "2      i upgraded my xxxx xxxx card in  and was told ...   \n",
       "10     chase card was reported on  however fraudulent...   \n",
       "11     on  while trying to book a xxxx  xxxx  ticket ...   \n",
       "14     my grand son give me check for  i deposit it i...   \n",
       "...                                                  ...   \n",
       "78303  after being a chase card customer for well ove...   \n",
       "78309  on wednesday xxxxxxxx i called chas my xxxx xx...   \n",
       "78310  i am not familiar with xxxx pay and did not un...   \n",
       "78311  i have had flawless credit for  yrs ive had ch...   \n",
       "78312  roughly  years ago i closed out my accounts wi...   \n",
       "\n",
       "                                   lemmatized complaints  \n",
       "1      good morning my name be xxxx xxxx and I apprec...  \n",
       "2      I upgrade my xxxx xxxx card in   and be tell b...  \n",
       "10     chase card be report on   however fraudulent a...  \n",
       "11     on   while try to book a xxxx   xxxx   ticket ...  \n",
       "14     my grand son give I check for   I deposit it i...  \n",
       "...                                                  ...  \n",
       "78303  after be a chase card customer for well over a...  \n",
       "78309  on wednesday xxxxxxxx I call chas my xxxx xxxx...  \n",
       "78310  I be not familiar with xxxx pay and do not und...  \n",
       "78311  I have have flawless credit for   yrs I ve hav...  \n",
       "78312  roughly   year ago I close out my account with...  \n",
       "\n",
       "[21072 rows x 2 columns]"
      ]
     },
     "execution_count": 25,
     "metadata": {},
     "output_type": "execute_result"
    }
   ],
   "source": [
    "df_clean"
   ]
  },
  {
   "cell_type": "code",
   "execution_count": 26,
   "metadata": {
    "id": "Kk7fc4DuJrF1"
   },
   "outputs": [],
   "source": [
    "#Write your function to extract the POS tags \n",
    "\n",
    "def pos_tag(text):\n",
    "   list_1=[]\n",
    "   tok_word=nltk.word_tokenize(text)\n",
    "   for (wrd,tag) in nltk.pos_tag(tok_word):\n",
    "     if tag=='NN':\n",
    "       list_1.append(wrd)\n",
    "   return (\" \".join(list_1))\n",
    "\n",
    "\n",
    "\n",
    "\n",
    "\n"
   ]
  },
  {
   "cell_type": "code",
   "execution_count": 27,
   "metadata": {
    "id": "c7NT1NtEKGBX"
   },
   "outputs": [],
   "source": [
    "#this column should contain lemmatized text with all the words removed which have tags other than NN[tag == \"NN\"].\n",
    "df_clean['complaint_POS_removed']=df_clean['lemmatized complaints'].apply(pos_tag)"
   ]
  },
  {
   "cell_type": "code",
   "execution_count": 28,
   "metadata": {
    "id": "AjxfchvFJrF2"
   },
   "outputs": [
    {
     "data": {
      "text/html": [
       "<div>\n",
       "<style scoped>\n",
       "    .dataframe tbody tr th:only-of-type {\n",
       "        vertical-align: middle;\n",
       "    }\n",
       "\n",
       "    .dataframe tbody tr th {\n",
       "        vertical-align: top;\n",
       "    }\n",
       "\n",
       "    .dataframe thead th {\n",
       "        text-align: right;\n",
       "    }\n",
       "</style>\n",
       "<table border=\"1\" class=\"dataframe\">\n",
       "  <thead>\n",
       "    <tr style=\"text-align: right;\">\n",
       "      <th></th>\n",
       "      <th>complaints</th>\n",
       "      <th>lemmatized complaints</th>\n",
       "      <th>complaint_POS_removed</th>\n",
       "    </tr>\n",
       "  </thead>\n",
       "  <tbody>\n",
       "    <tr>\n",
       "      <th>1</th>\n",
       "      <td>good morning my name is xxxx xxxx and i apprec...</td>\n",
       "      <td>good morning my name be xxxx xxxx and I apprec...</td>\n",
       "      <td>morning name stop bank cardmember service ask ...</td>\n",
       "    </tr>\n",
       "    <tr>\n",
       "      <th>2</th>\n",
       "      <td>i upgraded my xxxx xxxx card in  and was told ...</td>\n",
       "      <td>I upgrade my xxxx xxxx card in   and be tell b...</td>\n",
       "      <td>card agent upgrade date agent information orde...</td>\n",
       "    </tr>\n",
       "    <tr>\n",
       "      <th>10</th>\n",
       "      <td>chase card was reported on  however fraudulent...</td>\n",
       "      <td>chase card be report on   however fraudulent a...</td>\n",
       "      <td>card report application identity consent servi...</td>\n",
       "    </tr>\n",
       "    <tr>\n",
       "      <th>11</th>\n",
       "      <td>on  while trying to book a xxxx  xxxx  ticket ...</td>\n",
       "      <td>on   while try to book a xxxx   xxxx   ticket ...</td>\n",
       "      <td>try book xxxx ticket offer ticket card informa...</td>\n",
       "    </tr>\n",
       "    <tr>\n",
       "      <th>14</th>\n",
       "      <td>my grand son give me check for  i deposit it i...</td>\n",
       "      <td>my grand son give I check for   I deposit it i...</td>\n",
       "      <td>son chase account fund bank account pay money ...</td>\n",
       "    </tr>\n",
       "    <tr>\n",
       "      <th>...</th>\n",
       "      <td>...</td>\n",
       "      <td>...</td>\n",
       "      <td>...</td>\n",
       "    </tr>\n",
       "    <tr>\n",
       "      <th>78303</th>\n",
       "      <td>after being a chase card customer for well ove...</td>\n",
       "      <td>after be a chase card customer for well over a...</td>\n",
       "      <td>card customer decade solicitation credit card ...</td>\n",
       "    </tr>\n",
       "    <tr>\n",
       "      <th>78309</th>\n",
       "      <td>on wednesday xxxxxxxx i called chas my xxxx xx...</td>\n",
       "      <td>on wednesday xxxxxxxx I call chas my xxxx xxxx...</td>\n",
       "      <td>visa credit card provider claim purchase prote...</td>\n",
       "    </tr>\n",
       "    <tr>\n",
       "      <th>78310</th>\n",
       "      <td>i am not familiar with xxxx pay and did not un...</td>\n",
       "      <td>I be not familiar with xxxx pay and do not und...</td>\n",
       "      <td>pay risk provide consumer bank app chase year ...</td>\n",
       "    </tr>\n",
       "    <tr>\n",
       "      <th>78311</th>\n",
       "      <td>i have had flawless credit for  yrs ive had ch...</td>\n",
       "      <td>I have have flawless credit for   yrs I ve hav...</td>\n",
       "      <td>credit yrs credit card chase freedom xxxx prob...</td>\n",
       "    </tr>\n",
       "    <tr>\n",
       "      <th>78312</th>\n",
       "      <td>roughly  years ago i closed out my accounts wi...</td>\n",
       "      <td>roughly   year ago I close out my account with...</td>\n",
       "      <td>year account jp bank xxxx order line credit ac...</td>\n",
       "    </tr>\n",
       "  </tbody>\n",
       "</table>\n",
       "<p>21072 rows × 3 columns</p>\n",
       "</div>"
      ],
      "text/plain": [
       "                                              complaints  \\\n",
       "1      good morning my name is xxxx xxxx and i apprec...   \n",
       "2      i upgraded my xxxx xxxx card in  and was told ...   \n",
       "10     chase card was reported on  however fraudulent...   \n",
       "11     on  while trying to book a xxxx  xxxx  ticket ...   \n",
       "14     my grand son give me check for  i deposit it i...   \n",
       "...                                                  ...   \n",
       "78303  after being a chase card customer for well ove...   \n",
       "78309  on wednesday xxxxxxxx i called chas my xxxx xx...   \n",
       "78310  i am not familiar with xxxx pay and did not un...   \n",
       "78311  i have had flawless credit for  yrs ive had ch...   \n",
       "78312  roughly  years ago i closed out my accounts wi...   \n",
       "\n",
       "                                   lemmatized complaints  \\\n",
       "1      good morning my name be xxxx xxxx and I apprec...   \n",
       "2      I upgrade my xxxx xxxx card in   and be tell b...   \n",
       "10     chase card be report on   however fraudulent a...   \n",
       "11     on   while try to book a xxxx   xxxx   ticket ...   \n",
       "14     my grand son give I check for   I deposit it i...   \n",
       "...                                                  ...   \n",
       "78303  after be a chase card customer for well over a...   \n",
       "78309  on wednesday xxxxxxxx I call chas my xxxx xxxx...   \n",
       "78310  I be not familiar with xxxx pay and do not und...   \n",
       "78311  I have have flawless credit for   yrs I ve hav...   \n",
       "78312  roughly   year ago I close out my account with...   \n",
       "\n",
       "                                   complaint_POS_removed  \n",
       "1      morning name stop bank cardmember service ask ...  \n",
       "2      card agent upgrade date agent information orde...  \n",
       "10     card report application identity consent servi...  \n",
       "11     try book xxxx ticket offer ticket card informa...  \n",
       "14     son chase account fund bank account pay money ...  \n",
       "...                                                  ...  \n",
       "78303  card customer decade solicitation credit card ...  \n",
       "78309  visa credit card provider claim purchase prote...  \n",
       "78310  pay risk provide consumer bank app chase year ...  \n",
       "78311  credit yrs credit card chase freedom xxxx prob...  \n",
       "78312  year account jp bank xxxx order line credit ac...  \n",
       "\n",
       "[21072 rows x 3 columns]"
      ]
     },
     "execution_count": 28,
     "metadata": {},
     "output_type": "execute_result"
    }
   ],
   "source": [
    "#The clean dataframe should now contain the raw complaint, lemmatized complaint and the complaint after removing POS tags.\n",
    "df_clean"
   ]
  },
  {
   "cell_type": "markdown",
   "metadata": {
    "id": "_7Un1AElJrF2"
   },
   "source": [
    "## Exploratory data analysis to get familiar with the data.\n",
    "\n",
    "Write the code in this task to perform the following:\n",
    "\n",
    "*   Visualise the data according to the 'Complaint' character length\n",
    "*   Using a word cloud find the top 40 words by frequency among all the articles after processing the text\n",
    "*   Find the top unigrams,bigrams and trigrams by frequency among all the complaints after processing the text. ‘\n",
    "\n",
    "\n"
   ]
  },
  {
   "cell_type": "code",
   "execution_count": 29,
   "metadata": {
    "id": "q-zaqJF6JrF2"
   },
   "outputs": [
    {
     "data": {
      "text/plain": [
       "Text(0, 0.5, 'Frequency')"
      ]
     },
     "execution_count": 29,
     "metadata": {},
     "output_type": "execute_result"
    },
    {
     "data": {
      "image/png": "[encoded data removed]",
      "text/plain": [
       "<Figure size 432x288 with 1 Axes>"
      ]
     },
     "metadata": {
      "needs_background": "light"
     },
     "output_type": "display_data"
    }
   ],
   "source": [
    "# Write your code here to visualise the data according to the 'Complaint' character length\n",
    "df_clean['complaints'].str.len().hist(bins=50)\n",
    "plt.xlabel('Complaint character length')\n",
    "plt.ylabel('Frequency')"
   ]
  },
  {
   "cell_type": "markdown",
   "metadata": {
    "id": "T9jD_6SeJrF3"
   },
   "source": [
    "#### Find the top 40 words by frequency among all the articles after processing the text."
   ]
  },
  {
   "cell_type": "code",
   "execution_count": 30,
   "metadata": {
    "id": "QcfdvtfZJrF3"
   },
   "outputs": [],
   "source": [
    "#Using a word cloud find the top 40 words by frequency among all the articles after processing the text\n",
    "all_complaints = ' '.join(df_clean['complaint_POS_removed'].str.lower())"
   ]
  },
  {
   "cell_type": "code",
   "execution_count": 31,
   "metadata": {},
   "outputs": [
    {
     "data": {
      "image/png": "[encoded data removed]",
      "text/plain": [
       "<Figure size 1080x1440 with 1 Axes>"
      ]
     },
     "metadata": {
      "needs_background": "light"
     },
     "output_type": "display_data"
    }
   ],
   "source": [
    "from matplotlib import rcParams\n",
    "\n",
    "stopwords = STOPWORDS\n",
    "wordcloud = WordCloud(stopwords=stopwords, background_color=\"white\", max_words=40).generate(all_complaints)\n",
    "rcParams['figure.figsize'] = 15, 20\n",
    "plt.imshow(wordcloud)\n",
    "plt.axis(\"off\")\n",
    "plt.show()"
   ]
  },
  {
   "cell_type": "code",
   "execution_count": 32,
   "metadata": {
    "id": "OkSmc3UaJrF4"
   },
   "outputs": [],
   "source": [
    "#Removing -PRON- from the text corpus\n",
    "df_clean['Complaint_clean'] = df_clean['complaint_POS_removed'].str.replace('-PRON-', '')"
   ]
  },
  {
   "cell_type": "markdown",
   "metadata": {
    "id": "5DfCSbbmJrF4"
   },
   "source": [
    "#### Find the top unigrams,bigrams and trigrams by frequency among all the complaints after processing the text."
   ]
  },
  {
   "cell_type": "code",
   "execution_count": 33,
   "metadata": {
    "id": "5mbk5DS5JrF4"
   },
   "outputs": [
    {
     "name": "stdout",
     "output_type": "stream",
     "text": [
      "account 47521\n",
      "chase 46576\n",
      "xxxx 36590\n",
      "credit 34158\n",
      "card 29276\n",
      "bank 28419\n",
      "payment 21140\n",
      "time 16050\n",
      "charge 14994\n",
      "day 12955\n",
      "xxxxxxxx 12404\n",
      "money 11943\n",
      "check 11573\n",
      "loan 11003\n",
      "state 9673\n",
      "letter 9669\n",
      "information 9660\n",
      "report 8921\n",
      "transaction 8656\n",
      "fee 8635\n",
      "number 8627\n",
      "month 8464\n",
      "year 8281\n",
      "mortgage 8192\n",
      "customer 8164\n",
      "claim 7861\n",
      "balance 7745\n",
      "phone 7718\n",
      "service 7676\n",
      "company 7613\n"
     ]
    },
    {
     "data": {
      "text/plain": [
       "<AxesSubplot:title={'center':'Top 30 words after processing the text'}, xlabel='complaint_text'>"
      ]
     },
     "execution_count": 33,
     "metadata": {},
     "output_type": "execute_result"
    },
    {
     "data": {
      "image/png": "[encoded data removed]",
      "text/plain": [
       "<Figure size 1080x1440 with 1 Axes>"
      ]
     },
     "metadata": {
      "needs_background": "light"
     },
     "output_type": "display_data"
    }
   ],
   "source": [
    "#Write your code here to find the top 30 unigram frequency among the complaints in the cleaned datafram(df_clean). \n",
    "def get_top_n_words(corpus, n=None):\n",
    "    vec = CountVectorizer(stop_words = 'english').fit(corpus)\n",
    "    bag_of_words = vec.transform(corpus)\n",
    "    sum_words = bag_of_words.sum(axis=0) \n",
    "    words_freq = [(word, sum_words[0, idx]) for word, idx in vec.vocabulary_.items()]\n",
    "    words_freq =sorted(words_freq, key = lambda x: x[1], reverse=True)\n",
    "    return words_freq[:n]\n",
    "common_words = get_top_n_words(df_clean['complaint_POS_removed'], 30)\n",
    "for word, freq in common_words:\n",
    "    print(word, freq)\n",
    "df2 = pd.DataFrame(common_words, columns = ['complaint_text' , 'count'])\n",
    "df2.groupby('complaint_text').sum()['count'].sort_values(ascending=False).plot(\n",
    "    kind='bar', title='Top 30 words after processing the text')"
   ]
  },
  {
   "cell_type": "code",
   "execution_count": 34,
   "metadata": {
    "id": "YX7fedm1JrF8"
   },
   "outputs": [
    {
     "name": "stdout",
     "output_type": "stream",
     "text": [
      "account  :  47521\n",
      "chase  :  46576\n",
      "xxxx  :  36590\n",
      "credit  :  34158\n",
      "card  :  29276\n",
      "bank  :  28419\n",
      "payment  :  21140\n",
      "time  :  16050\n",
      "charge  :  14994\n",
      "day  :  12955\n"
     ]
    }
   ],
   "source": [
    "#Print the top 10 words in the unigram frequency\n",
    "for i,j in common_words[:10]:\n",
    "    print(i,\" : \",j)"
   ]
  },
  {
   "cell_type": "code",
   "execution_count": 35,
   "metadata": {
    "id": "aV7kD7w8JrF8"
   },
   "outputs": [
    {
     "name": "stdout",
     "output_type": "stream",
     "text": [
      "credit card 12783\n",
      "credit report 3976\n",
      "xxxx xxxx 3942\n",
      "customer service 3081\n",
      "chase credit 2964\n",
      "chase bank 2926\n",
      "bank account 2753\n",
      "account chase 2590\n",
      "chase account 2416\n",
      "account account 2391\n",
      "account bank 1749\n",
      "check account 1690\n",
      "card account 1598\n",
      "debit card 1561\n",
      "credit score 1541\n",
      "checking account 1519\n",
      "account credit 1484\n",
      "money account 1363\n",
      "payment payment 1341\n",
      "account xxxx 1301\n",
      "card chase 1295\n",
      "xxxx chase 1271\n",
      "phone number 1266\n",
      "business day 1262\n",
      "credit account 1236\n",
      "charge account 1215\n",
      "account number 1176\n",
      "xxxx account 1169\n",
      "card company 1123\n",
      "card card 1081\n"
     ]
    },
    {
     "data": {
      "text/plain": [
       "<AxesSubplot:title={'center':'Top 30 bigrams in Complaints after processing data'}, xlabel='Complaint_Bigram'>"
      ]
     },
     "execution_count": 35,
     "metadata": {},
     "output_type": "execute_result"
    },
    {
     "data": {
      "image/png": "[encoded data removed]",
      "text/plain": [
       "<Figure size 1080x1440 with 1 Axes>"
      ]
     },
     "metadata": {
      "needs_background": "light"
     },
     "output_type": "display_data"
    }
   ],
   "source": [
    "#Write your code here to find the top 30 bigram frequency among the complaints in the cleaned datafram(df_clean). \n",
    "def get_top_n_bigram(corpus, n=None):\n",
    "    vec = CountVectorizer(ngram_range=(2, 2), stop_words='english').fit(corpus)\n",
    "    bag_of_words = vec.transform(corpus)\n",
    "    sum_words = bag_of_words.sum(axis=0) \n",
    "    words_freq = [(word, sum_words[0, idx]) for word, idx in vec.vocabulary_.items()]\n",
    "    words_freq =sorted(words_freq, key = lambda x: x[1], reverse=True)\n",
    "    return words_freq[:n]\n",
    "\n",
    "    \n",
    "common_bigrams = get_top_n_bigram(df_clean['complaint_POS_removed'], 30)\n",
    "for word, freq in common_bigrams:\n",
    "    print(word, freq)\n",
    "df3 = pd.DataFrame(common_bigrams, columns = ['Complaint_Bigram' , 'count'])\n",
    "df3.groupby('Complaint_Bigram').sum()['count'].sort_values(ascending=False).plot(\n",
    "    kind='bar', title='Top 30 bigrams in Complaints after processing data')"
   ]
  },
  {
   "cell_type": "code",
   "execution_count": 36,
   "metadata": {
    "id": "NPnMNIpyJrF9"
   },
   "outputs": [
    {
     "name": "stdout",
     "output_type": "stream",
     "text": [
      "credit card 12783\n",
      "credit report 3976\n",
      "xxxx xxxx 3942\n",
      "customer service 3081\n",
      "chase credit 2964\n",
      "chase bank 2926\n",
      "bank account 2753\n",
      "account chase 2590\n",
      "chase account 2416\n",
      "account account 2391\n"
     ]
    }
   ],
   "source": [
    "#Print the top 10 words in the bigram frequency\n",
    "for word, freq in common_bigrams[:10]:\n",
    "    print(word, freq)"
   ]
  },
  {
   "cell_type": "code",
   "execution_count": 37,
   "metadata": {
    "id": "Xkh7vtbtJrF-"
   },
   "outputs": [
    {
     "name": "stdout",
     "output_type": "stream",
     "text": [
      "chase credit card 2062\n",
      "credit card account 1025\n",
      "credit card company 992\n",
      "credit card chase 631\n",
      "credit card credit 518\n",
      "inquiry credit report 480\n",
      "charge credit card 421\n",
      "xxxx xxxx xxxx 412\n",
      "account credit card 398\n",
      "card credit card 391\n",
      "credit reporting agency 371\n",
      "credit card bank 361\n",
      "bank credit card 349\n",
      "credit report credit 347\n",
      "xxxx credit card 333\n",
      "credit reporting act 328\n",
      "credit card charge 307\n",
      "credit card payment 294\n",
      "account credit report 288\n",
      "credit card xxxx 277\n",
      "credit card card 261\n",
      "credit card balance 260\n",
      "account chase account 257\n",
      "chase customer service 247\n",
      "consumer protection bureau 247\n",
      "victim identity theft 244\n",
      "credit card service 238\n",
      "payment credit card 235\n",
      "freedom credit card 232\n",
      "credit card statement 222\n"
     ]
    },
    {
     "data": {
      "text/plain": [
       "<AxesSubplot:title={'center':'Top 30 trigrams in complaints after processing data'}, xlabel='complaint_trigrams'>"
      ]
     },
     "execution_count": 37,
     "metadata": {},
     "output_type": "execute_result"
    },
    {
     "data": {
      "image/png": "[encoded data removed]",
      "text/plain": [
       "<Figure size 1080x1440 with 1 Axes>"
      ]
     },
     "metadata": {
      "needs_background": "light"
     },
     "output_type": "display_data"
    }
   ],
   "source": [
    "#Write your code here to find the top 30 trigram frequency among the complaints in the cleaned datafram(df_clean). \n",
    "def get_top_n_trigram(corpus, n=None):\n",
    "    vec = CountVectorizer(ngram_range=(3, 3), stop_words='english').fit(corpus)\n",
    "    bag_of_words = vec.transform(corpus)\n",
    "    sum_words = bag_of_words.sum(axis=0) \n",
    "    words_freq = [(word, sum_words[0, idx]) for word, idx in vec.vocabulary_.items()]\n",
    "    words_freq =sorted(words_freq, key = lambda x: x[1], reverse=True)\n",
    "    return words_freq[:n]\n",
    "\n",
    "\n",
    "\n",
    "common_trigrams = get_top_n_trigram(df_clean['complaint_POS_removed'], 30)\n",
    "for word, freq in common_trigrams:\n",
    "    print(word, freq)\n",
    "df4 = pd.DataFrame(common_trigrams, columns = ['complaint_trigrams' , 'count'])\n",
    "df4.groupby('complaint_trigrams').sum()['count'].sort_values(ascending=False).plot(\n",
    "    kind='bar', title='Top 30 trigrams in complaints after processing data')\n"
   ]
  },
  {
   "cell_type": "code",
   "execution_count": 38,
   "metadata": {
    "id": "REcVxNfvJrF-"
   },
   "outputs": [
    {
     "name": "stdout",
     "output_type": "stream",
     "text": [
      "chase credit card 2062\n",
      "credit card account 1025\n",
      "credit card company 992\n",
      "credit card chase 631\n",
      "credit card credit 518\n",
      "inquiry credit report 480\n",
      "charge credit card 421\n",
      "xxxx xxxx xxxx 412\n",
      "account credit card 398\n",
      "card credit card 391\n"
     ]
    }
   ],
   "source": [
    "#Print the top 10 words in the trigram frequency\n",
    "for word, freq in common_trigrams[:10]:\n",
    "    print(word, freq)"
   ]
  },
  {
   "cell_type": "markdown",
   "metadata": {
    "id": "yUXzFji0JrF_"
   },
   "source": [
    "## The personal details of customer has been masked in the dataset with xxxx. Let's remove the masked text as this will be of no use for our analysis"
   ]
  },
  {
   "cell_type": "code",
   "execution_count": 39,
   "metadata": {
    "id": "wKda-a_IJrF_"
   },
   "outputs": [],
   "source": [
    "df_clean['Complaint_clean'] = df_clean['Complaint_clean'].str.replace('xxxx','')"
   ]
  },
  {
   "cell_type": "code",
   "execution_count": 40,
   "metadata": {
    "id": "9UIFk8fQJrF_"
   },
   "outputs": [
    {
     "data": {
      "text/html": [
       "<div>\n",
       "<style scoped>\n",
       "    .dataframe tbody tr th:only-of-type {\n",
       "        vertical-align: middle;\n",
       "    }\n",
       "\n",
       "    .dataframe tbody tr th {\n",
       "        vertical-align: top;\n",
       "    }\n",
       "\n",
       "    .dataframe thead th {\n",
       "        text-align: right;\n",
       "    }\n",
       "</style>\n",
       "<table border=\"1\" class=\"dataframe\">\n",
       "  <thead>\n",
       "    <tr style=\"text-align: right;\">\n",
       "      <th></th>\n",
       "      <th>complaints</th>\n",
       "      <th>lemmatized complaints</th>\n",
       "      <th>complaint_POS_removed</th>\n",
       "      <th>Complaint_clean</th>\n",
       "    </tr>\n",
       "  </thead>\n",
       "  <tbody>\n",
       "    <tr>\n",
       "      <th>1</th>\n",
       "      <td>good morning my name is xxxx xxxx and i apprec...</td>\n",
       "      <td>good morning my name be xxxx xxxx and I apprec...</td>\n",
       "      <td>morning name stop bank cardmember service ask ...</td>\n",
       "      <td>morning name stop bank cardmember service ask ...</td>\n",
       "    </tr>\n",
       "    <tr>\n",
       "      <th>2</th>\n",
       "      <td>i upgraded my xxxx xxxx card in  and was told ...</td>\n",
       "      <td>I upgrade my xxxx xxxx card in   and be tell b...</td>\n",
       "      <td>card agent upgrade date agent information orde...</td>\n",
       "      <td>card agent upgrade date agent information orde...</td>\n",
       "    </tr>\n",
       "    <tr>\n",
       "      <th>10</th>\n",
       "      <td>chase card was reported on  however fraudulent...</td>\n",
       "      <td>chase card be report on   however fraudulent a...</td>\n",
       "      <td>card report application identity consent servi...</td>\n",
       "      <td>card report application identity consent servi...</td>\n",
       "    </tr>\n",
       "    <tr>\n",
       "      <th>11</th>\n",
       "      <td>on  while trying to book a xxxx  xxxx  ticket ...</td>\n",
       "      <td>on   while try to book a xxxx   xxxx   ticket ...</td>\n",
       "      <td>try book xxxx ticket offer ticket card informa...</td>\n",
       "      <td>try book  ticket offer ticket card information...</td>\n",
       "    </tr>\n",
       "    <tr>\n",
       "      <th>14</th>\n",
       "      <td>my grand son give me check for  i deposit it i...</td>\n",
       "      <td>my grand son give I check for   I deposit it i...</td>\n",
       "      <td>son chase account fund bank account pay money ...</td>\n",
       "      <td>son chase account fund bank account pay money ...</td>\n",
       "    </tr>\n",
       "    <tr>\n",
       "      <th>...</th>\n",
       "      <td>...</td>\n",
       "      <td>...</td>\n",
       "      <td>...</td>\n",
       "      <td>...</td>\n",
       "    </tr>\n",
       "    <tr>\n",
       "      <th>78303</th>\n",
       "      <td>after being a chase card customer for well ove...</td>\n",
       "      <td>after be a chase card customer for well over a...</td>\n",
       "      <td>card customer decade solicitation credit card ...</td>\n",
       "      <td>card customer decade solicitation credit card ...</td>\n",
       "    </tr>\n",
       "    <tr>\n",
       "      <th>78309</th>\n",
       "      <td>on wednesday xxxxxxxx i called chas my xxxx xx...</td>\n",
       "      <td>on wednesday xxxxxxxx I call chas my xxxx xxxx...</td>\n",
       "      <td>visa credit card provider claim purchase prote...</td>\n",
       "      <td>visa credit card provider claim purchase prote...</td>\n",
       "    </tr>\n",
       "    <tr>\n",
       "      <th>78310</th>\n",
       "      <td>i am not familiar with xxxx pay and did not un...</td>\n",
       "      <td>I be not familiar with xxxx pay and do not und...</td>\n",
       "      <td>pay risk provide consumer bank app chase year ...</td>\n",
       "      <td>pay risk provide consumer bank app chase year ...</td>\n",
       "    </tr>\n",
       "    <tr>\n",
       "      <th>78311</th>\n",
       "      <td>i have had flawless credit for  yrs ive had ch...</td>\n",
       "      <td>I have have flawless credit for   yrs I ve hav...</td>\n",
       "      <td>credit yrs credit card chase freedom xxxx prob...</td>\n",
       "      <td>credit yrs credit card chase freedom  problem ...</td>\n",
       "    </tr>\n",
       "    <tr>\n",
       "      <th>78312</th>\n",
       "      <td>roughly  years ago i closed out my accounts wi...</td>\n",
       "      <td>roughly   year ago I close out my account with...</td>\n",
       "      <td>year account jp bank xxxx order line credit ac...</td>\n",
       "      <td>year account jp bank  order line credit accoun...</td>\n",
       "    </tr>\n",
       "  </tbody>\n",
       "</table>\n",
       "<p>21072 rows × 4 columns</p>\n",
       "</div>"
      ],
      "text/plain": [
       "                                              complaints  \\\n",
       "1      good morning my name is xxxx xxxx and i apprec...   \n",
       "2      i upgraded my xxxx xxxx card in  and was told ...   \n",
       "10     chase card was reported on  however fraudulent...   \n",
       "11     on  while trying to book a xxxx  xxxx  ticket ...   \n",
       "14     my grand son give me check for  i deposit it i...   \n",
       "...                                                  ...   \n",
       "78303  after being a chase card customer for well ove...   \n",
       "78309  on wednesday xxxxxxxx i called chas my xxxx xx...   \n",
       "78310  i am not familiar with xxxx pay and did not un...   \n",
       "78311  i have had flawless credit for  yrs ive had ch...   \n",
       "78312  roughly  years ago i closed out my accounts wi...   \n",
       "\n",
       "                                   lemmatized complaints  \\\n",
       "1      good morning my name be xxxx xxxx and I apprec...   \n",
       "2      I upgrade my xxxx xxxx card in   and be tell b...   \n",
       "10     chase card be report on   however fraudulent a...   \n",
       "11     on   while try to book a xxxx   xxxx   ticket ...   \n",
       "14     my grand son give I check for   I deposit it i...   \n",
       "...                                                  ...   \n",
       "78303  after be a chase card customer for well over a...   \n",
       "78309  on wednesday xxxxxxxx I call chas my xxxx xxxx...   \n",
       "78310  I be not familiar with xxxx pay and do not und...   \n",
       "78311  I have have flawless credit for   yrs I ve hav...   \n",
       "78312  roughly   year ago I close out my account with...   \n",
       "\n",
       "                                   complaint_POS_removed  \\\n",
       "1      morning name stop bank cardmember service ask ...   \n",
       "2      card agent upgrade date agent information orde...   \n",
       "10     card report application identity consent servi...   \n",
       "11     try book xxxx ticket offer ticket card informa...   \n",
       "14     son chase account fund bank account pay money ...   \n",
       "...                                                  ...   \n",
       "78303  card customer decade solicitation credit card ...   \n",
       "78309  visa credit card provider claim purchase prote...   \n",
       "78310  pay risk provide consumer bank app chase year ...   \n",
       "78311  credit yrs credit card chase freedom xxxx prob...   \n",
       "78312  year account jp bank xxxx order line credit ac...   \n",
       "\n",
       "                                         Complaint_clean  \n",
       "1      morning name stop bank cardmember service ask ...  \n",
       "2      card agent upgrade date agent information orde...  \n",
       "10     card report application identity consent servi...  \n",
       "11     try book  ticket offer ticket card information...  \n",
       "14     son chase account fund bank account pay money ...  \n",
       "...                                                  ...  \n",
       "78303  card customer decade solicitation credit card ...  \n",
       "78309  visa credit card provider claim purchase prote...  \n",
       "78310  pay risk provide consumer bank app chase year ...  \n",
       "78311  credit yrs credit card chase freedom  problem ...  \n",
       "78312  year account jp bank  order line credit accoun...  \n",
       "\n",
       "[21072 rows x 4 columns]"
      ]
     },
     "execution_count": 40,
     "metadata": {},
     "output_type": "execute_result"
    }
   ],
   "source": [
    "#All masked texts has been removed\n",
    "df_clean"
   ]
  },
  {
   "cell_type": "markdown",
   "metadata": {
    "id": "k-I0k0QtJrGA"
   },
   "source": [
    "## Feature Extraction\n",
    "Convert the raw texts to a matrix of TF-IDF features\n",
    "\n",
    "**max_df** is used for removing terms that appear too frequently, also known as \"corpus-specific stop words\"\n",
    "max_df = 0.95 means \"ignore terms that appear in more than 95% of the complaints\"\n",
    "\n",
    "**min_df** is used for removing terms that appear too infrequently\n",
    "min_df = 2 means \"ignore terms that appear in less than 2 complaints\""
   ]
  },
  {
   "cell_type": "code",
   "execution_count": 41,
   "metadata": {},
   "outputs": [],
   "source": [
    "all_complaints = [i for i in df_clean['Complaint_clean']]"
   ]
  },
  {
   "cell_type": "code",
   "execution_count": 42,
   "metadata": {
    "id": "Y8fGwaCPJrGA"
   },
   "outputs": [],
   "source": [
    "#Write your code here to initialise the TfidfVectorizer \n",
    "\n",
    "vectorizer = TfidfVectorizer(max_df=0.95,min_df=2)\n"
   ]
  },
  {
   "cell_type": "markdown",
   "metadata": {
    "id": "yYzD85nTJrGA"
   },
   "source": [
    "#### Create a document term matrix using fit_transform\n",
    "\n",
    "The contents of a document term matrix are tuples of (complaint_id,token_id) tf-idf score:\n",
    "The tuples that are not there have a tf-idf score of 0"
   ]
  },
  {
   "cell_type": "code",
   "execution_count": 43,
   "metadata": {
    "id": "ffzdDpp_JrGB"
   },
   "outputs": [
    {
     "data": {
      "text/html": [
       "<div>\n",
       "<style scoped>\n",
       "    .dataframe tbody tr th:only-of-type {\n",
       "        vertical-align: middle;\n",
       "    }\n",
       "\n",
       "    .dataframe tbody tr th {\n",
       "        vertical-align: top;\n",
       "    }\n",
       "\n",
       "    .dataframe thead th {\n",
       "        text-align: right;\n",
       "    }\n",
       "</style>\n",
       "<table border=\"1\" class=\"dataframe\">\n",
       "  <thead>\n",
       "    <tr style=\"text-align: right;\">\n",
       "      <th></th>\n",
       "      <th>aa</th>\n",
       "      <th>aarp</th>\n",
       "      <th>ab</th>\n",
       "      <th>abandon</th>\n",
       "      <th>abandonment</th>\n",
       "      <th>abatement</th>\n",
       "      <th>abbreviation</th>\n",
       "      <th>abd</th>\n",
       "      <th>abide</th>\n",
       "      <th>ability</th>\n",
       "      <th>...</th>\n",
       "      <th>yrs</th>\n",
       "      <th>ys</th>\n",
       "      <th>ytd</th>\n",
       "      <th>zelle</th>\n",
       "      <th>zero</th>\n",
       "      <th>zip</th>\n",
       "      <th>zipcode</th>\n",
       "      <th>zombie</th>\n",
       "      <th>zone</th>\n",
       "      <th>zoom</th>\n",
       "    </tr>\n",
       "  </thead>\n",
       "  <tbody>\n",
       "    <tr>\n",
       "      <th>0</th>\n",
       "      <td>0.0</td>\n",
       "      <td>0.0</td>\n",
       "      <td>0.0</td>\n",
       "      <td>0.0</td>\n",
       "      <td>0.0</td>\n",
       "      <td>0.0</td>\n",
       "      <td>0.0</td>\n",
       "      <td>0.0</td>\n",
       "      <td>0.0</td>\n",
       "      <td>0.0</td>\n",
       "      <td>...</td>\n",
       "      <td>0.000000</td>\n",
       "      <td>0.0</td>\n",
       "      <td>0.0</td>\n",
       "      <td>0.0</td>\n",
       "      <td>0.0</td>\n",
       "      <td>0.0</td>\n",
       "      <td>0.0</td>\n",
       "      <td>0.0</td>\n",
       "      <td>0.0</td>\n",
       "      <td>0.0</td>\n",
       "    </tr>\n",
       "    <tr>\n",
       "      <th>1</th>\n",
       "      <td>0.0</td>\n",
       "      <td>0.0</td>\n",
       "      <td>0.0</td>\n",
       "      <td>0.0</td>\n",
       "      <td>0.0</td>\n",
       "      <td>0.0</td>\n",
       "      <td>0.0</td>\n",
       "      <td>0.0</td>\n",
       "      <td>0.0</td>\n",
       "      <td>0.0</td>\n",
       "      <td>...</td>\n",
       "      <td>0.000000</td>\n",
       "      <td>0.0</td>\n",
       "      <td>0.0</td>\n",
       "      <td>0.0</td>\n",
       "      <td>0.0</td>\n",
       "      <td>0.0</td>\n",
       "      <td>0.0</td>\n",
       "      <td>0.0</td>\n",
       "      <td>0.0</td>\n",
       "      <td>0.0</td>\n",
       "    </tr>\n",
       "    <tr>\n",
       "      <th>2</th>\n",
       "      <td>0.0</td>\n",
       "      <td>0.0</td>\n",
       "      <td>0.0</td>\n",
       "      <td>0.0</td>\n",
       "      <td>0.0</td>\n",
       "      <td>0.0</td>\n",
       "      <td>0.0</td>\n",
       "      <td>0.0</td>\n",
       "      <td>0.0</td>\n",
       "      <td>0.0</td>\n",
       "      <td>...</td>\n",
       "      <td>0.000000</td>\n",
       "      <td>0.0</td>\n",
       "      <td>0.0</td>\n",
       "      <td>0.0</td>\n",
       "      <td>0.0</td>\n",
       "      <td>0.0</td>\n",
       "      <td>0.0</td>\n",
       "      <td>0.0</td>\n",
       "      <td>0.0</td>\n",
       "      <td>0.0</td>\n",
       "    </tr>\n",
       "    <tr>\n",
       "      <th>3</th>\n",
       "      <td>0.0</td>\n",
       "      <td>0.0</td>\n",
       "      <td>0.0</td>\n",
       "      <td>0.0</td>\n",
       "      <td>0.0</td>\n",
       "      <td>0.0</td>\n",
       "      <td>0.0</td>\n",
       "      <td>0.0</td>\n",
       "      <td>0.0</td>\n",
       "      <td>0.0</td>\n",
       "      <td>...</td>\n",
       "      <td>0.000000</td>\n",
       "      <td>0.0</td>\n",
       "      <td>0.0</td>\n",
       "      <td>0.0</td>\n",
       "      <td>0.0</td>\n",
       "      <td>0.0</td>\n",
       "      <td>0.0</td>\n",
       "      <td>0.0</td>\n",
       "      <td>0.0</td>\n",
       "      <td>0.0</td>\n",
       "    </tr>\n",
       "    <tr>\n",
       "      <th>4</th>\n",
       "      <td>0.0</td>\n",
       "      <td>0.0</td>\n",
       "      <td>0.0</td>\n",
       "      <td>0.0</td>\n",
       "      <td>0.0</td>\n",
       "      <td>0.0</td>\n",
       "      <td>0.0</td>\n",
       "      <td>0.0</td>\n",
       "      <td>0.0</td>\n",
       "      <td>0.0</td>\n",
       "      <td>...</td>\n",
       "      <td>0.000000</td>\n",
       "      <td>0.0</td>\n",
       "      <td>0.0</td>\n",
       "      <td>0.0</td>\n",
       "      <td>0.0</td>\n",
       "      <td>0.0</td>\n",
       "      <td>0.0</td>\n",
       "      <td>0.0</td>\n",
       "      <td>0.0</td>\n",
       "      <td>0.0</td>\n",
       "    </tr>\n",
       "    <tr>\n",
       "      <th>...</th>\n",
       "      <td>...</td>\n",
       "      <td>...</td>\n",
       "      <td>...</td>\n",
       "      <td>...</td>\n",
       "      <td>...</td>\n",
       "      <td>...</td>\n",
       "      <td>...</td>\n",
       "      <td>...</td>\n",
       "      <td>...</td>\n",
       "      <td>...</td>\n",
       "      <td>...</td>\n",
       "      <td>...</td>\n",
       "      <td>...</td>\n",
       "      <td>...</td>\n",
       "      <td>...</td>\n",
       "      <td>...</td>\n",
       "      <td>...</td>\n",
       "      <td>...</td>\n",
       "      <td>...</td>\n",
       "      <td>...</td>\n",
       "      <td>...</td>\n",
       "    </tr>\n",
       "    <tr>\n",
       "      <th>21067</th>\n",
       "      <td>0.0</td>\n",
       "      <td>0.0</td>\n",
       "      <td>0.0</td>\n",
       "      <td>0.0</td>\n",
       "      <td>0.0</td>\n",
       "      <td>0.0</td>\n",
       "      <td>0.0</td>\n",
       "      <td>0.0</td>\n",
       "      <td>0.0</td>\n",
       "      <td>0.0</td>\n",
       "      <td>...</td>\n",
       "      <td>0.000000</td>\n",
       "      <td>0.0</td>\n",
       "      <td>0.0</td>\n",
       "      <td>0.0</td>\n",
       "      <td>0.0</td>\n",
       "      <td>0.0</td>\n",
       "      <td>0.0</td>\n",
       "      <td>0.0</td>\n",
       "      <td>0.0</td>\n",
       "      <td>0.0</td>\n",
       "    </tr>\n",
       "    <tr>\n",
       "      <th>21068</th>\n",
       "      <td>0.0</td>\n",
       "      <td>0.0</td>\n",
       "      <td>0.0</td>\n",
       "      <td>0.0</td>\n",
       "      <td>0.0</td>\n",
       "      <td>0.0</td>\n",
       "      <td>0.0</td>\n",
       "      <td>0.0</td>\n",
       "      <td>0.0</td>\n",
       "      <td>0.0</td>\n",
       "      <td>...</td>\n",
       "      <td>0.000000</td>\n",
       "      <td>0.0</td>\n",
       "      <td>0.0</td>\n",
       "      <td>0.0</td>\n",
       "      <td>0.0</td>\n",
       "      <td>0.0</td>\n",
       "      <td>0.0</td>\n",
       "      <td>0.0</td>\n",
       "      <td>0.0</td>\n",
       "      <td>0.0</td>\n",
       "    </tr>\n",
       "    <tr>\n",
       "      <th>21069</th>\n",
       "      <td>0.0</td>\n",
       "      <td>0.0</td>\n",
       "      <td>0.0</td>\n",
       "      <td>0.0</td>\n",
       "      <td>0.0</td>\n",
       "      <td>0.0</td>\n",
       "      <td>0.0</td>\n",
       "      <td>0.0</td>\n",
       "      <td>0.0</td>\n",
       "      <td>0.0</td>\n",
       "      <td>...</td>\n",
       "      <td>0.000000</td>\n",
       "      <td>0.0</td>\n",
       "      <td>0.0</td>\n",
       "      <td>0.0</td>\n",
       "      <td>0.0</td>\n",
       "      <td>0.0</td>\n",
       "      <td>0.0</td>\n",
       "      <td>0.0</td>\n",
       "      <td>0.0</td>\n",
       "      <td>0.0</td>\n",
       "    </tr>\n",
       "    <tr>\n",
       "      <th>21070</th>\n",
       "      <td>0.0</td>\n",
       "      <td>0.0</td>\n",
       "      <td>0.0</td>\n",
       "      <td>0.0</td>\n",
       "      <td>0.0</td>\n",
       "      <td>0.0</td>\n",
       "      <td>0.0</td>\n",
       "      <td>0.0</td>\n",
       "      <td>0.0</td>\n",
       "      <td>0.0</td>\n",
       "      <td>...</td>\n",
       "      <td>0.160974</td>\n",
       "      <td>0.0</td>\n",
       "      <td>0.0</td>\n",
       "      <td>0.0</td>\n",
       "      <td>0.0</td>\n",
       "      <td>0.0</td>\n",
       "      <td>0.0</td>\n",
       "      <td>0.0</td>\n",
       "      <td>0.0</td>\n",
       "      <td>0.0</td>\n",
       "    </tr>\n",
       "    <tr>\n",
       "      <th>21071</th>\n",
       "      <td>0.0</td>\n",
       "      <td>0.0</td>\n",
       "      <td>0.0</td>\n",
       "      <td>0.0</td>\n",
       "      <td>0.0</td>\n",
       "      <td>0.0</td>\n",
       "      <td>0.0</td>\n",
       "      <td>0.0</td>\n",
       "      <td>0.0</td>\n",
       "      <td>0.0</td>\n",
       "      <td>...</td>\n",
       "      <td>0.000000</td>\n",
       "      <td>0.0</td>\n",
       "      <td>0.0</td>\n",
       "      <td>0.0</td>\n",
       "      <td>0.0</td>\n",
       "      <td>0.0</td>\n",
       "      <td>0.0</td>\n",
       "      <td>0.0</td>\n",
       "      <td>0.0</td>\n",
       "      <td>0.0</td>\n",
       "    </tr>\n",
       "  </tbody>\n",
       "</table>\n",
       "<p>21072 rows × 7406 columns</p>\n",
       "</div>"
      ],
      "text/plain": [
       "        aa  aarp   ab  abandon  abandonment  abatement  abbreviation  abd  \\\n",
       "0      0.0   0.0  0.0      0.0          0.0        0.0           0.0  0.0   \n",
       "1      0.0   0.0  0.0      0.0          0.0        0.0           0.0  0.0   \n",
       "2      0.0   0.0  0.0      0.0          0.0        0.0           0.0  0.0   \n",
       "3      0.0   0.0  0.0      0.0          0.0        0.0           0.0  0.0   \n",
       "4      0.0   0.0  0.0      0.0          0.0        0.0           0.0  0.0   \n",
       "...    ...   ...  ...      ...          ...        ...           ...  ...   \n",
       "21067  0.0   0.0  0.0      0.0          0.0        0.0           0.0  0.0   \n",
       "21068  0.0   0.0  0.0      0.0          0.0        0.0           0.0  0.0   \n",
       "21069  0.0   0.0  0.0      0.0          0.0        0.0           0.0  0.0   \n",
       "21070  0.0   0.0  0.0      0.0          0.0        0.0           0.0  0.0   \n",
       "21071  0.0   0.0  0.0      0.0          0.0        0.0           0.0  0.0   \n",
       "\n",
       "       abide  ability  ...       yrs   ys  ytd  zelle  zero  zip  zipcode  \\\n",
       "0        0.0      0.0  ...  0.000000  0.0  0.0    0.0   0.0  0.0      0.0   \n",
       "1        0.0      0.0  ...  0.000000  0.0  0.0    0.0   0.0  0.0      0.0   \n",
       "2        0.0      0.0  ...  0.000000  0.0  0.0    0.0   0.0  0.0      0.0   \n",
       "3        0.0      0.0  ...  0.000000  0.0  0.0    0.0   0.0  0.0      0.0   \n",
       "4        0.0      0.0  ...  0.000000  0.0  0.0    0.0   0.0  0.0      0.0   \n",
       "...      ...      ...  ...       ...  ...  ...    ...   ...  ...      ...   \n",
       "21067    0.0      0.0  ...  0.000000  0.0  0.0    0.0   0.0  0.0      0.0   \n",
       "21068    0.0      0.0  ...  0.000000  0.0  0.0    0.0   0.0  0.0      0.0   \n",
       "21069    0.0      0.0  ...  0.000000  0.0  0.0    0.0   0.0  0.0      0.0   \n",
       "21070    0.0      0.0  ...  0.160974  0.0  0.0    0.0   0.0  0.0      0.0   \n",
       "21071    0.0      0.0  ...  0.000000  0.0  0.0    0.0   0.0  0.0      0.0   \n",
       "\n",
       "       zombie  zone  zoom  \n",
       "0         0.0   0.0   0.0  \n",
       "1         0.0   0.0   0.0  \n",
       "2         0.0   0.0   0.0  \n",
       "3         0.0   0.0   0.0  \n",
       "4         0.0   0.0   0.0  \n",
       "...       ...   ...   ...  \n",
       "21067     0.0   0.0   0.0  \n",
       "21068     0.0   0.0   0.0  \n",
       "21069     0.0   0.0   0.0  \n",
       "21070     0.0   0.0   0.0  \n",
       "21071     0.0   0.0   0.0  \n",
       "\n",
       "[21072 rows x 7406 columns]"
      ]
     },
     "execution_count": 43,
     "metadata": {},
     "output_type": "execute_result"
    }
   ],
   "source": [
    "#Write your code here to create the Document Term Matrix by transforming the complaints column present in df_clean.\n",
    "tfidf_model = vectorizer.fit_transform(all_complaints)\n",
    "tfidf = pd.DataFrame(tfidf_model.toarray(), columns = vectorizer.get_feature_names())\n",
    "tfidf"
   ]
  },
  {
   "cell_type": "markdown",
   "metadata": {
    "id": "7Q9lwvNEJrGB"
   },
   "source": [
    "## Topic Modelling using NMF\n",
    "\n",
    "Non-Negative Matrix Factorization (NMF) is an unsupervised technique so there are no labeling of topics that the model will be trained on. The way it works is that, NMF decomposes (or factorizes) high-dimensional vectors into a lower-dimensional representation. These lower-dimensional vectors are non-negative which also means their coefficients are non-negative.\n",
    "\n",
    "In this task you have to perform the following:\n",
    "\n",
    "* Find the best number of clusters \n",
    "* Apply the best number to create word clusters\n",
    "* Inspect & validate the correction of each cluster wrt the complaints \n",
    "* Correct the labels if needed \n",
    "* Map the clusters to topics/cluster names"
   ]
  },
  {
   "cell_type": "code",
   "execution_count": 44,
   "metadata": {
    "id": "amLT4omWJrGB"
   },
   "outputs": [],
   "source": [
    "from sklearn.decomposition import NMF"
   ]
  },
  {
   "cell_type": "markdown",
   "metadata": {
    "id": "0wYR1xUTJrGD"
   },
   "source": [
    "## Manual Topic Modeling\n",
    "You need to do take the trial & error approach to find the best num of topics for your NMF model.\n",
    "\n",
    "The only parameter that is required is the number of components i.e. the number of topics we want. This is the most crucial step in the whole topic modeling process and will greatly affect how good your final topics are."
   ]
  },
  {
   "cell_type": "code",
   "execution_count": 45,
   "metadata": {
    "id": "sgd2A6bhJrGD"
   },
   "outputs": [
    {
     "name": "stderr",
     "output_type": "stream",
     "text": [
      "/opt/anaconda3/lib/python3.9/site-packages/sklearn/decomposition/_nmf.py:312: FutureWarning:\n",
      "\n",
      "The 'init' value, when 'init=None' and n_components is less than n_samples and n_features, will be changed from 'nndsvd' to 'nndsvda' in 1.1 (renaming of 0.26).\n",
      "\n",
      "/opt/anaconda3/lib/python3.9/site-packages/sklearn/decomposition/_nmf.py:312: FutureWarning:\n",
      "\n",
      "The 'init' value, when 'init=None' and n_components is less than n_samples and n_features, will be changed from 'nndsvd' to 'nndsvda' in 1.1 (renaming of 0.26).\n",
      "\n"
     ]
    }
   ],
   "source": [
    "#Load your nmf_model with the n_components i.e 5\n",
    "num_topics = 5 #write the value you want to test out\n",
    "\n",
    "#keep the random_state =40\n",
    "nmf_model =  NMF(n_components=num_topics,random_state=40)#write your code here\n",
    "nmf_model.fit(tfidf_model)\n",
    "W = nmf_model.fit_transform(tfidf_model)  # Document-topic matrix\n",
    "H = nmf_model.components_       # Topic-term matrix"
   ]
  },
  {
   "cell_type": "code",
   "execution_count": 46,
   "metadata": {
    "id": "16kRfat5JrGE"
   },
   "outputs": [
    {
     "data": {
      "text/html": [
       "<div>\n",
       "<style scoped>\n",
       "    .dataframe tbody tr th:only-of-type {\n",
       "        vertical-align: middle;\n",
       "    }\n",
       "\n",
       "    .dataframe tbody tr th {\n",
       "        vertical-align: top;\n",
       "    }\n",
       "\n",
       "    .dataframe thead th {\n",
       "        text-align: right;\n",
       "    }\n",
       "</style>\n",
       "<table border=\"1\" class=\"dataframe\">\n",
       "  <thead>\n",
       "    <tr style=\"text-align: right;\">\n",
       "      <th></th>\n",
       "      <th>Word 1</th>\n",
       "      <th>Word 2</th>\n",
       "      <th>Word 3</th>\n",
       "      <th>Word 4</th>\n",
       "      <th>Word 5</th>\n",
       "      <th>Word 6</th>\n",
       "      <th>Word 7</th>\n",
       "      <th>Word 8</th>\n",
       "      <th>Word 9</th>\n",
       "      <th>Word 10</th>\n",
       "      <th>Word 11</th>\n",
       "      <th>Word 12</th>\n",
       "      <th>Word 13</th>\n",
       "      <th>Word 14</th>\n",
       "      <th>Word 15</th>\n",
       "    </tr>\n",
       "  </thead>\n",
       "  <tbody>\n",
       "    <tr>\n",
       "      <th>Topic 1</th>\n",
       "      <td>account</td>\n",
       "      <td>bank</td>\n",
       "      <td>check</td>\n",
       "      <td>money</td>\n",
       "      <td>fund</td>\n",
       "      <td>chase</td>\n",
       "      <td>deposit</td>\n",
       "      <td>branch</td>\n",
       "      <td>day</td>\n",
       "      <td>number</td>\n",
       "      <td>business</td>\n",
       "      <td>transaction</td>\n",
       "      <td>checking</td>\n",
       "      <td>claim</td>\n",
       "      <td>customer</td>\n",
       "    </tr>\n",
       "    <tr>\n",
       "      <th>Topic 2</th>\n",
       "      <td>credit</td>\n",
       "      <td>card</td>\n",
       "      <td>report</td>\n",
       "      <td>inquiry</td>\n",
       "      <td>chase</td>\n",
       "      <td>account</td>\n",
       "      <td>score</td>\n",
       "      <td>company</td>\n",
       "      <td>limit</td>\n",
       "      <td>information</td>\n",
       "      <td>debt</td>\n",
       "      <td>application</td>\n",
       "      <td>letter</td>\n",
       "      <td>year</td>\n",
       "      <td>reporting</td>\n",
       "    </tr>\n",
       "    <tr>\n",
       "      <th>Topic 3</th>\n",
       "      <td>payment</td>\n",
       "      <td>balance</td>\n",
       "      <td>interest</td>\n",
       "      <td>month</td>\n",
       "      <td>fee</td>\n",
       "      <td>statement</td>\n",
       "      <td>amount</td>\n",
       "      <td>day</td>\n",
       "      <td>time</td>\n",
       "      <td>bill</td>\n",
       "      <td>auto</td>\n",
       "      <td>date</td>\n",
       "      <td>pay</td>\n",
       "      <td>credit</td>\n",
       "      <td>account</td>\n",
       "    </tr>\n",
       "    <tr>\n",
       "      <th>Topic 4</th>\n",
       "      <td>charge</td>\n",
       "      <td>card</td>\n",
       "      <td>chase</td>\n",
       "      <td>transaction</td>\n",
       "      <td>dispute</td>\n",
       "      <td>fee</td>\n",
       "      <td>merchant</td>\n",
       "      <td>fraud</td>\n",
       "      <td>purchase</td>\n",
       "      <td>claim</td>\n",
       "      <td>service</td>\n",
       "      <td>amount</td>\n",
       "      <td>time</td>\n",
       "      <td>interest</td>\n",
       "      <td>refund</td>\n",
       "    </tr>\n",
       "    <tr>\n",
       "      <th>Topic 5</th>\n",
       "      <td>loan</td>\n",
       "      <td>mortgage</td>\n",
       "      <td>home</td>\n",
       "      <td>modification</td>\n",
       "      <td>chase</td>\n",
       "      <td>property</td>\n",
       "      <td>year</td>\n",
       "      <td>letter</td>\n",
       "      <td>time</td>\n",
       "      <td>document</td>\n",
       "      <td>rate</td>\n",
       "      <td>house</td>\n",
       "      <td>bank</td>\n",
       "      <td>foreclosure</td>\n",
       "      <td>sale</td>\n",
       "    </tr>\n",
       "  </tbody>\n",
       "</table>\n",
       "</div>"
      ],
      "text/plain": [
       "          Word 1    Word 2    Word 3        Word 4   Word 5     Word 6  \\\n",
       "Topic 1  account      bank     check         money     fund      chase   \n",
       "Topic 2   credit      card    report       inquiry    chase    account   \n",
       "Topic 3  payment   balance  interest         month      fee  statement   \n",
       "Topic 4   charge      card     chase   transaction  dispute        fee   \n",
       "Topic 5     loan  mortgage      home  modification    chase   property   \n",
       "\n",
       "           Word 7   Word 8    Word 9      Word 10   Word 11      Word 12  \\\n",
       "Topic 1   deposit   branch       day       number  business  transaction   \n",
       "Topic 2     score  company     limit  information      debt  application   \n",
       "Topic 3    amount      day      time         bill      auto         date   \n",
       "Topic 4  merchant    fraud  purchase        claim   service       amount   \n",
       "Topic 5      year   letter      time     document      rate        house   \n",
       "\n",
       "          Word 13      Word 14    Word 15  \n",
       "Topic 1  checking        claim   customer  \n",
       "Topic 2    letter         year  reporting  \n",
       "Topic 3       pay       credit    account  \n",
       "Topic 4      time     interest     refund  \n",
       "Topic 5      bank  foreclosure       sale  "
      ]
     },
     "execution_count": 46,
     "metadata": {},
     "output_type": "execute_result"
    }
   ],
   "source": [
    "#Print the Top15 words for each of the topics\n",
    "words = np.array(vectorizer.get_feature_names())\n",
    "topic_words = pd.DataFrame(np.zeros((num_topics, 15)), index=[f'Topic {i + 1}' for i in range(num_topics)],\n",
    "                           columns=[f'Word {i + 1}' for i in range(15)]).astype(str)\n",
    "for i in range(num_topics):\n",
    "    ix = H[i].argsort()[::-1][:15]\n",
    "    topic_words.iloc[i] = words[ix]\n",
    "\n",
    "topic_words"
   ]
  },
  {
   "cell_type": "code",
   "execution_count": 47,
   "metadata": {
    "id": "0OIT7LmFJrGF"
   },
   "outputs": [],
   "source": [
    "#Create the best topic for each complaint in terms of integer value 0,1,2,3 & 4\n",
    "topic_model=nmf_model.transform(tfidf_model)"
   ]
  },
  {
   "cell_type": "code",
   "execution_count": 48,
   "metadata": {},
   "outputs": [
    {
     "data": {
      "text/plain": [
       "array([0, 1, 1, ..., 3, 2, 2])"
      ]
     },
     "execution_count": 48,
     "metadata": {},
     "output_type": "execute_result"
    }
   ],
   "source": [
    "topic_model.argmax(axis=1)"
   ]
  },
  {
   "cell_type": "code",
   "execution_count": 49,
   "metadata": {
    "id": "peyYv-ORJrGF"
   },
   "outputs": [],
   "source": [
    "#Assign the best topic to each of the cmplaints in Topic Column\n",
    "\n",
    "df_clean['Topic'] = topic_model.argmax(axis=1)#write your code to assign topics to each rows."
   ]
  },
  {
   "cell_type": "code",
   "execution_count": 50,
   "metadata": {
    "id": "fLh_Gf3nJrGF"
   },
   "outputs": [
    {
     "data": {
      "text/html": [
       "<div>\n",
       "<style scoped>\n",
       "    .dataframe tbody tr th:only-of-type {\n",
       "        vertical-align: middle;\n",
       "    }\n",
       "\n",
       "    .dataframe tbody tr th {\n",
       "        vertical-align: top;\n",
       "    }\n",
       "\n",
       "    .dataframe thead th {\n",
       "        text-align: right;\n",
       "    }\n",
       "</style>\n",
       "<table border=\"1\" class=\"dataframe\">\n",
       "  <thead>\n",
       "    <tr style=\"text-align: right;\">\n",
       "      <th></th>\n",
       "      <th>complaints</th>\n",
       "      <th>lemmatized complaints</th>\n",
       "      <th>complaint_POS_removed</th>\n",
       "      <th>Complaint_clean</th>\n",
       "      <th>Topic</th>\n",
       "    </tr>\n",
       "  </thead>\n",
       "  <tbody>\n",
       "    <tr>\n",
       "      <th>1</th>\n",
       "      <td>good morning my name is xxxx xxxx and i apprec...</td>\n",
       "      <td>good morning my name be xxxx xxxx and I apprec...</td>\n",
       "      <td>morning name stop bank cardmember service ask ...</td>\n",
       "      <td>morning name stop bank cardmember service ask ...</td>\n",
       "      <td>0</td>\n",
       "    </tr>\n",
       "    <tr>\n",
       "      <th>2</th>\n",
       "      <td>i upgraded my xxxx xxxx card in  and was told ...</td>\n",
       "      <td>I upgrade my xxxx xxxx card in   and be tell b...</td>\n",
       "      <td>card agent upgrade date agent information orde...</td>\n",
       "      <td>card agent upgrade date agent information orde...</td>\n",
       "      <td>1</td>\n",
       "    </tr>\n",
       "    <tr>\n",
       "      <th>10</th>\n",
       "      <td>chase card was reported on  however fraudulent...</td>\n",
       "      <td>chase card be report on   however fraudulent a...</td>\n",
       "      <td>card report application identity consent servi...</td>\n",
       "      <td>card report application identity consent servi...</td>\n",
       "      <td>1</td>\n",
       "    </tr>\n",
       "    <tr>\n",
       "      <th>11</th>\n",
       "      <td>on  while trying to book a xxxx  xxxx  ticket ...</td>\n",
       "      <td>on   while try to book a xxxx   xxxx   ticket ...</td>\n",
       "      <td>try book xxxx ticket offer ticket card informa...</td>\n",
       "      <td>try book  ticket offer ticket card information...</td>\n",
       "      <td>1</td>\n",
       "    </tr>\n",
       "    <tr>\n",
       "      <th>14</th>\n",
       "      <td>my grand son give me check for  i deposit it i...</td>\n",
       "      <td>my grand son give I check for   I deposit it i...</td>\n",
       "      <td>son chase account fund bank account pay money ...</td>\n",
       "      <td>son chase account fund bank account pay money ...</td>\n",
       "      <td>0</td>\n",
       "    </tr>\n",
       "  </tbody>\n",
       "</table>\n",
       "</div>"
      ],
      "text/plain": [
       "                                           complaints  \\\n",
       "1   good morning my name is xxxx xxxx and i apprec...   \n",
       "2   i upgraded my xxxx xxxx card in  and was told ...   \n",
       "10  chase card was reported on  however fraudulent...   \n",
       "11  on  while trying to book a xxxx  xxxx  ticket ...   \n",
       "14  my grand son give me check for  i deposit it i...   \n",
       "\n",
       "                                lemmatized complaints  \\\n",
       "1   good morning my name be xxxx xxxx and I apprec...   \n",
       "2   I upgrade my xxxx xxxx card in   and be tell b...   \n",
       "10  chase card be report on   however fraudulent a...   \n",
       "11  on   while try to book a xxxx   xxxx   ticket ...   \n",
       "14  my grand son give I check for   I deposit it i...   \n",
       "\n",
       "                                complaint_POS_removed  \\\n",
       "1   morning name stop bank cardmember service ask ...   \n",
       "2   card agent upgrade date agent information orde...   \n",
       "10  card report application identity consent servi...   \n",
       "11  try book xxxx ticket offer ticket card informa...   \n",
       "14  son chase account fund bank account pay money ...   \n",
       "\n",
       "                                      Complaint_clean  Topic  \n",
       "1   morning name stop bank cardmember service ask ...      0  \n",
       "2   card agent upgrade date agent information orde...      1  \n",
       "10  card report application identity consent servi...      1  \n",
       "11  try book  ticket offer ticket card information...      1  \n",
       "14  son chase account fund bank account pay money ...      0  "
      ]
     },
     "execution_count": 50,
     "metadata": {},
     "output_type": "execute_result"
    }
   ],
   "source": [
    "df_clean.head()"
   ]
  },
  {
   "cell_type": "code",
   "execution_count": 51,
   "metadata": {
    "id": "aQKpufSPJrGG"
   },
   "outputs": [
    {
     "data": {
      "text/html": [
       "<div>\n",
       "<style scoped>\n",
       "    .dataframe tbody tr th:only-of-type {\n",
       "        vertical-align: middle;\n",
       "    }\n",
       "\n",
       "    .dataframe tbody tr th {\n",
       "        vertical-align: top;\n",
       "    }\n",
       "\n",
       "    .dataframe thead th {\n",
       "        text-align: right;\n",
       "    }\n",
       "</style>\n",
       "<table border=\"1\" class=\"dataframe\">\n",
       "  <thead>\n",
       "    <tr style=\"text-align: right;\">\n",
       "      <th></th>\n",
       "      <th>Complaint_clean</th>\n",
       "      <th>Topic</th>\n",
       "    </tr>\n",
       "  </thead>\n",
       "  <tbody>\n",
       "    <tr>\n",
       "      <th>1</th>\n",
       "      <td>morning name stop bank cardmember service ask debt verification statement bank debt mail month debt right information consumer chase account thank advance help</td>\n",
       "      <td>0</td>\n",
       "    </tr>\n",
       "    <tr>\n",
       "      <th>14</th>\n",
       "      <td>son chase account fund bank account pay money son check money bank refuse money son call chase time check owner country time date check number claim number chase</td>\n",
       "      <td>0</td>\n",
       "    </tr>\n",
       "    <tr>\n",
       "      <th>17</th>\n",
       "      <td>jp chase account debit card tuesday thursday branch customer service representative account branch fund deposit place employment bank associate customer service assure fund business day saturday branch fund look account fund statement business day state tuesday date fund bank check business day fund account bind fee rent car payment etc notice thing peace mind fact chase situation bank teller inform account look chase right account time protocol notice form document shore notice thing peace mind fact chase situation bank teller inform account look chase right account time protocol notice form document situation livelihood</td>\n",
       "      <td>0</td>\n",
       "    </tr>\n",
       "    <tr>\n",
       "      <th>24</th>\n",
       "      <td>mishandle account auto</td>\n",
       "      <td>0</td>\n",
       "    </tr>\n",
       "    <tr>\n",
       "      <th>27</th>\n",
       "      <td>account bank code bonus term everything account deposit bonus day  deposit account coupon code apply day bonus</td>\n",
       "      <td>0</td>\n",
       "    </tr>\n",
       "    <tr>\n",
       "      <th>2</th>\n",
       "      <td>card agent upgrade date agent information order account change date  consent  recording agent</td>\n",
       "      <td>1</td>\n",
       "    </tr>\n",
       "    <tr>\n",
       "      <th>10</th>\n",
       "      <td>card report application identity consent service credit identity applicant</td>\n",
       "      <td>1</td>\n",
       "    </tr>\n",
       "    <tr>\n",
       "      <th>11</th>\n",
       "      <td>try book  ticket offer ticket card information offer minute screen decision bank chase bank notification screen chase representative application state information  offer credit offer account statement use ticket account application representative oblige put application explicit request application chase chase fact credit account name report credit report chase information credit report application error</td>\n",
       "      <td>1</td>\n",
       "    </tr>\n",
       "    <tr>\n",
       "      <th>15</th>\n",
       "      <td>inquiry</td>\n",
       "      <td>1</td>\n",
       "    </tr>\n",
       "    <tr>\n",
       "      <th>23</th>\n",
       "      <td>chase credit card datum credit report company issue</td>\n",
       "      <td>1</td>\n",
       "    </tr>\n",
       "    <tr>\n",
       "      <th>82</th>\n",
       "      <td>bank credit bureau day payment info  bill balance bill amount day  payment day day return payment man phone state payment mean credit account  anything account charge fee return payment idea amount credit bureau day represent chase charge fee app credit point mistake s</td>\n",
       "      <td>2</td>\n",
       "    </tr>\n",
       "    <tr>\n",
       "      <th>58</th>\n",
       "      <td>purchase  payment  payment closing date please statement statement purchase balance  month statement purchase one   statement purchase balance balance   balance difference payment payment require chase purchase balance payment payment excess minimum interest rate balance time chase law profit help rectify problem fall ear thank advance assistance</td>\n",
       "      <td>2</td>\n",
       "    </tr>\n",
       "    <tr>\n",
       "      <th>167</th>\n",
       "      <td>payment debt cart credit card post request day refund money tuesday pay bill payment payee midnight</td>\n",
       "      <td>2</td>\n",
       "    </tr>\n",
       "    <tr>\n",
       "      <th>20</th>\n",
       "      <td>summer month income employment month payment extension auto loan company chase year request payment extension auto loan payment request month payment extension year situation supervisor avail discussion wait reason decline reason baffle office executive director co contact state chase week representative office call representative share role matter representative conference call department hand request review information request base policy change explanation state letter mail explanation letter reason denial policy change cfpb help denial payment extension request reason denial</td>\n",
       "      <td>2</td>\n",
       "    </tr>\n",
       "    <tr>\n",
       "      <th>141</th>\n",
       "      <td>action company date individual group contact chase claim multiple claim payment authorize credit fund fee transaction claim claim individual group payment loan claim claim individual group payment make behalf credit card date s payment s claim claim individual group payment  payment claim claim individual group payment payment payment payment date claim claim individual group hoa payment payment amount claim claim individual group payment amount claim claim individual group payment amount claim claim individual group payment  amount claim claim individual group payment amount payment  amount payment reverse  amount payment amount claim  claim branch customer service representative advice account phishe email debit card transaction total action issue  begin claim paperwork chase claim department claim specialist badger transaction account information information hang speak guy name situation transaction verify transaction look claim  claim call hour claim specialist claim specialist supervisor hold minute  attempt help money answer review chase s claim practice protocol executive office claim executive office claim  behalf claim executive office employee person number file  mid case office week phone handful voicemail claim account claim claim account speak claim begin end   payment deduct chase check account description number  money account course voicemail message request return call  return call money debit account time hold explanation debit fund bit claim money debit nothing  voicemail  call school day point investigation claim decision research investigation information point lose situation</td>\n",
       "      <td>2</td>\n",
       "    </tr>\n",
       "    <tr>\n",
       "      <th>32</th>\n",
       "      <td>chase card decline catering order place brother funeral amount noon today number chase account user account saving customer rep minute line call hour chase call someone card rep supervisor  card transaction catering company card decline  card order texte purchase contact caterer decline question use cvv code caterer number cvv use card purchase hour call caterer card decline mastercard process amazon restaurant pm tonight amount chase limit figure decline conversation state card caterer suggest limit card month chase limit transaction decline chase  today assurance set card monitor transaction</td>\n",
       "      <td>3</td>\n",
       "    </tr>\n",
       "    <tr>\n",
       "      <th>40</th>\n",
       "      <td>love seat table chair charge bank claim furniture money</td>\n",
       "      <td>3</td>\n",
       "    </tr>\n",
       "    <tr>\n",
       "      <th>45</th>\n",
       "      <td>purchase amount transaction dispute case bank charge account sunday credit charge monday charge credit debt card monday bank nevada account activity fraud account dispute department place dispute case charge  charge credit account day dispute department monday  credit account accuse make dispute claim escalation manager decision account customer chase year character dispute agent character slander account chase report checking account chase checking account record closure chase nothing file dispute claim charge dispute case past</td>\n",
       "      <td>3</td>\n",
       "    </tr>\n",
       "    <tr>\n",
       "      <th>21</th>\n",
       "      <td>payment online retailer use pay  chase website website confirmation product response inquiry regard order chase information transaction refund retailer bank message explain way transaction contact  information recipient message response restate email inform transfer website scam expertise team order regard refund consumer online support team number list email situation transfer claim department transaction chase information transfer agent call closing script contact number opportunity information question  word phrase information automate system bank bank app transaction menu customer service agent information transaction chase s system bank app transaction line everything well understanding situation call chase time agent try information bank information information situation claim department  information contact nothing nature transaction type transaction chase information recipient email address recipient banking information system phone call transaction use responsibility regard matter process chase policy type transaction help information situation transaction way money way business chase s advertising way member customer service team</td>\n",
       "      <td>3</td>\n",
       "    </tr>\n",
       "    <tr>\n",
       "      <th>30</th>\n",
       "      <td>concern bank charge fee balance fee balance transaction need order charge guideline bank fault money document chase refund way place</td>\n",
       "      <td>3</td>\n",
       "    </tr>\n",
       "    <tr>\n",
       "      <th>43</th>\n",
       "      <td>send email today title information regard change chase account title ad communication bind arbitration something part contract method information consequence problem chase account chase email letter information enclose order secure loss time money malpractice chase</td>\n",
       "      <td>4</td>\n",
       "    </tr>\n",
       "    <tr>\n",
       "      <th>57</th>\n",
       "      <td>loan modification chase runaround payment doc</td>\n",
       "      <td>4</td>\n",
       "    </tr>\n",
       "    <tr>\n",
       "      <th>73</th>\n",
       "      <td>chase branch reinstatement amount bank order foreclosure property executive ms trustee rule regulation payoff order foreclosure sale date family resident  time reinstatement amount foreclosure resort chapter bankruptcy filing bring jpmorgan chase foreclosure trustee quality sense harass family default claim explain complaint complaint i submit product mortgage issue foreclosure thank tell</td>\n",
       "      <td>4</td>\n",
       "    </tr>\n",
       "    <tr>\n",
       "      <th>81</th>\n",
       "      <td>loan title time resolution time nothing state registration state title car car</td>\n",
       "      <td>4</td>\n",
       "    </tr>\n",
       "    <tr>\n",
       "      <th>99</th>\n",
       "      <td>name  payment day time loan modification loss mitigation assistance help loan forbearance option issue refinance dti debt time credit</td>\n",
       "      <td>4</td>\n",
       "    </tr>\n",
       "  </tbody>\n",
       "</table>\n",
       "</div>"
      ],
      "text/plain": [
       "                                                                                                                                                                                                                                                                                                                                                                                                                                                                                                                                                                                                                                                                                                                                                                                                                                                                                                                                                                                                                                                                                                                                                                                                                                                                                                                                                                                                                                                                                                                                                                                                                                                                             Complaint_clean  \\\n",
       "1                                                                                                                                                                                                                                                                                                                                                                                                                                                                                                                                                                                                                                                                                                                                                                                                                                                                                                                                                                                                                                                                                                                                                                                                                                                                                                                                                                                                                                                                                                                            morning name stop bank cardmember service ask debt verification statement bank debt mail month debt right information consumer chase account thank advance help   \n",
       "14                                                                                                                                                                                                                                                                                                                                                                                                                                                                                                                                                                                                                                                                                                                                                                                                                                                                                                                                                                                                                                                                                                                                                                                                                                                                                                                                                                                                                                                                                                                         son chase account fund bank account pay money son check money bank refuse money son call chase time check owner country time date check number claim number chase   \n",
       "17                                                                                                                                                                                                                                                                                                                                                                                                                                                                                                                                                                                                                                                                                                                                                                                                                                                                                                                                                                                                                                     jp chase account debit card tuesday thursday branch customer service representative account branch fund deposit place employment bank associate customer service assure fund business day saturday branch fund look account fund statement business day state tuesday date fund bank check business day fund account bind fee rent car payment etc notice thing peace mind fact chase situation bank teller inform account look chase right account time protocol notice form document shore notice thing peace mind fact chase situation bank teller inform account look chase right account time protocol notice form document situation livelihood   \n",
       "24                                                                                                                                                                                                                                                                                                                                                                                                                                                                                                                                                                                                                                                                                                                                                                                                                                                                                                                                                                                                                                                                                                                                                                                                                                                                                                                                                                                                                                                                                                                                                                                                                                                                   mishandle account auto    \n",
       "27                                                                                                                                                                                                                                                                                                                                                                                                                                                                                                                                                                                                                                                                                                                                                                                                                                                                                                                                                                                                                                                                                                                                                                                                                                                                                                                                                                                                                                                                                                                                                                            account bank code bonus term everything account deposit bonus day  deposit account coupon code apply day bonus   \n",
       "2                                                                                                                                                                                                                                                                                                                                                                                                                                                                                                                                                                                                                                                                                                                                                                                                                                                                                                                                                                                                                                                                                                                                                                                                                                                                                                                                                                                                                                                                                                                                                                                              card agent upgrade date agent information order account change date  consent  recording agent   \n",
       "10                                                                                                                                                                                                                                                                                                                                                                                                                                                                                                                                                                                                                                                                                                                                                                                                                                                                                                                                                                                                                                                                                                                                                                                                                                                                                                                                                                                                                                                                                                                                                                                                                card report application identity consent service credit identity applicant   \n",
       "11                                                                                                                                                                                                                                                                                                                                                                                                                                                                                                                                                                                                                                                                                                                                                                                                                                                                                                                                                                                                                                                                                                                                                                                                                                                                    try book  ticket offer ticket card information offer minute screen decision bank chase bank notification screen chase representative application state information  offer credit offer account statement use ticket account application representative oblige put application explicit request application chase chase fact credit account name report credit report chase information credit report application error   \n",
       "15                                                                                                                                                                                                                                                                                                                                                                                                                                                                                                                                                                                                                                                                                                                                                                                                                                                                                                                                                                                                                                                                                                                                                                                                                                                                                                                                                                                                                                                                                                                                                                                                                                                                                   inquiry   \n",
       "23                                                                                                                                                                                                                                                                                                                                                                                                                                                                                                                                                                                                                                                                                                                                                                                                                                                                                                                                                                                                                                                                                                                                                                                                                                                                                                                                                                                                                                                                                                                                                                                                                                       chase credit card datum credit report company issue   \n",
       "82                                                                                                                                                                                                                                                                                                                                                                                                                                                                                                                                                                                                                                                                                                                                                                                                                                                                                                                                                                                                                                                                                                                                                                                                                                                                                                                                                                                                            bank credit bureau day payment info  bill balance bill amount day  payment day day return payment man phone state payment mean credit account  anything account charge fee return payment idea amount credit bureau day represent chase charge fee app credit point mistake s    \n",
       "58                                                                                                                                                                                                                                                                                                                                                                                                                                                                                                                                                                                                                                                                                                                                                                                                                                                                                                                                                                                                                                                                                                                                                                                                                                                                                                                             purchase  payment  payment closing date please statement statement purchase balance  month statement purchase one   statement purchase balance balance   balance difference payment payment require chase purchase balance payment payment excess minimum interest rate balance time chase law profit help rectify problem fall ear thank advance assistance    \n",
       "167                                                                                                                                                                                                                                                                                                                                                                                                                                                                                                                                                                                                                                                                                                                                                                                                                                                                                                                                                                                                                                                                                                                                                                                                                                                                                                                                                                                                                                                                                                                                                                                      payment debt cart credit card post request day refund money tuesday pay bill payment payee midnight   \n",
       "20                                                                                                                                                                                                                                                                                                                                                                                                                                                                                                                                                                                                                                                                                                                                                                                                                                                                                                                                                                                                                                                                                 summer month income employment month payment extension auto loan company chase year request payment extension auto loan payment request month payment extension year situation supervisor avail discussion wait reason decline reason baffle office executive director co contact state chase week representative office call representative share role matter representative conference call department hand request review information request base policy change explanation state letter mail explanation letter reason denial policy change cfpb help denial payment extension request reason denial   \n",
       "141  action company date individual group contact chase claim multiple claim payment authorize credit fund fee transaction claim claim individual group payment loan claim claim individual group payment make behalf credit card date s payment s claim claim individual group payment  payment claim claim individual group payment payment payment payment date claim claim individual group hoa payment payment amount claim claim individual group payment amount claim claim individual group payment amount claim claim individual group payment  amount claim claim individual group payment amount payment  amount payment reverse  amount payment amount claim  claim branch customer service representative advice account phishe email debit card transaction total action issue  begin claim paperwork chase claim department claim specialist badger transaction account information information hang speak guy name situation transaction verify transaction look claim  claim call hour claim specialist claim specialist supervisor hold minute  attempt help money answer review chase s claim practice protocol executive office claim executive office claim  behalf claim executive office employee person number file  mid case office week phone handful voicemail claim account claim claim account speak claim begin end   payment deduct chase check account description number  money account course voicemail message request return call  return call money debit account time hold explanation debit fund bit claim money debit nothing  voicemail  call school day point investigation claim decision research investigation information point lose situation   \n",
       "32                                                                                                                                                                                                                                                                                                                                                                                                                                                                                                                                                                                                                                                                                                                                                                                                                                                                                                                                                                                                                                                                  chase card decline catering order place brother funeral amount noon today number chase account user account saving customer rep minute line call hour chase call someone card rep supervisor  card transaction catering company card decline  card order texte purchase contact caterer decline question use cvv code caterer number cvv use card purchase hour call caterer card decline mastercard process amazon restaurant pm tonight amount chase limit figure decline conversation state card caterer suggest limit card month chase limit transaction decline chase  today assurance set card monitor transaction   \n",
       "40                                                                                                                                                                                                                                                                                                                                                                                                                                                                                                                                                                                                                                                                                                                                                                                                                                                                                                                                                                                                                                                                                                                                                                                                                                                                                                                                                                                                                                                                                                                                                                                                                                   love seat table chair charge bank claim furniture money   \n",
       "45                                                                                                                                                                                                                                                                                                                                                                                                                                                                                                                                                                                                                                                                                                                                                                                                                                                                                                                                                                                                                                                                                                                                    purchase amount transaction dispute case bank charge account sunday credit charge monday charge credit debt card monday bank nevada account activity fraud account dispute department place dispute case charge  charge credit account day dispute department monday  credit account accuse make dispute claim escalation manager decision account customer chase year character dispute agent character slander account chase report checking account chase checking account record closure chase nothing file dispute claim charge dispute case past   \n",
       "21                                                                                                                                                                                                                                                                                                                                                                                                                                                                                     payment online retailer use pay  chase website website confirmation product response inquiry regard order chase information transaction refund retailer bank message explain way transaction contact  information recipient message response restate email inform transfer website scam expertise team order regard refund consumer online support team number list email situation transfer claim department transaction chase information transfer agent call closing script contact number opportunity information question  word phrase information automate system bank bank app transaction menu customer service agent information transaction chase s system bank app transaction line everything well understanding situation call chase time agent try information bank information information situation claim department  information contact nothing nature transaction type transaction chase information recipient email address recipient banking information system phone call transaction use responsibility regard matter process chase policy type transaction help information situation transaction way money way business chase s advertising way member customer service team   \n",
       "30                                                                                                                                                                                                                                                                                                                                                                                                                                                                                                                                                                                                                                                                                                                                                                                                                                                                                                                                                                                                                                                                                                                                                                                                                                                                                                                                                                                                                                                                                                                                                      concern bank charge fee balance fee balance transaction need order charge guideline bank fault money document chase refund way place   \n",
       "43                                                                                                                                                                                                                                                                                                                                                                                                                                                                                                                                                                                                                                                                                                                                                                                                                                                                                                                                                                                                                                                                                                                                                                                                                                                                                                                                                                                                                 send email today title information regard change chase account title ad communication bind arbitration something part contract method information consequence problem chase account chase email letter information enclose order secure loss time money malpractice chase   \n",
       "57                                                                                                                                                                                                                                                                                                                                                                                                                                                                                                                                                                                                                                                                                                                                                                                                                                                                                                                                                                                                                                                                                                                                                                                                                                                                                                                                                                                                                                                                                                                                                                                                                                             loan modification chase runaround payment doc   \n",
       "73                                                                                                                                                                                                                                                                                                                                                                                                                                                                                                                                                                                                                                                                                                                                                                                                                                                                                                                                                                                                                                                                                                                                                                                                                                                                                  chase branch reinstatement amount bank order foreclosure property executive ms trustee rule regulation payoff order foreclosure sale date family resident  time reinstatement amount foreclosure resort chapter bankruptcy filing bring jpmorgan chase foreclosure trustee quality sense harass family default claim explain complaint complaint i submit product mortgage issue foreclosure thank tell    \n",
       "81                                                                                                                                                                                                                                                                                                                                                                                                                                                                                                                                                                                                                                                                                                                                                                                                                                                                                                                                                                                                                                                                                                                                                                                                                                                                                                                                                                                                                                                                                                                                                                                                            loan title time resolution time nothing state registration state title car car   \n",
       "99                                                                                                                                                                                                                                                                                                                                                                                                                                                                                                                                                                                                                                                                                                                                                                                                                                                                                                                                                                                                                                                                                                                                                                                                                                                                                                                                                                                                                                                                                                                                                    name  payment day time loan modification loss mitigation assistance help loan forbearance option issue refinance dti debt time credit    \n",
       "\n",
       "     Topic  \n",
       "1        0  \n",
       "14       0  \n",
       "17       0  \n",
       "24       0  \n",
       "27       0  \n",
       "2        1  \n",
       "10       1  \n",
       "11       1  \n",
       "15       1  \n",
       "23       1  \n",
       "82       2  \n",
       "58       2  \n",
       "167      2  \n",
       "20       2  \n",
       "141      2  \n",
       "32       3  \n",
       "40       3  \n",
       "45       3  \n",
       "21       3  \n",
       "30       3  \n",
       "43       4  \n",
       "57       4  \n",
       "73       4  \n",
       "81       4  \n",
       "99       4  "
      ]
     },
     "execution_count": 51,
     "metadata": {},
     "output_type": "execute_result"
    }
   ],
   "source": [
    "#Print the first 5 Complaint for each of the Topics\n",
    "pd.set_option('display.max_colwidth', None)\n",
    "df_clean.groupby('Topic').head(5).sort_values('Topic').iloc[:,3:]"
   ]
  },
  {
   "cell_type": "markdown",
   "metadata": {
    "id": "piyLxzj6v07j"
   },
   "source": [
    "#### After evaluating the mapping, if the topics assigned are correct then assign these names to the relevant topic:\n",
    "* Bank Account services\n",
    "* Credit card or prepaid card\n",
    "* Theft/Dispute Reporting\n",
    "* Mortgage/Loan\n",
    "* Others"
   ]
  },
  {
   "cell_type": "code",
   "execution_count": 52,
   "metadata": {
    "id": "TWpwDG4RJrGG"
   },
   "outputs": [],
   "source": [
    "#Create the dictionary of Topic names and Topics\n",
    "\n",
    "Topic_names = { \n",
    "              0:\"Bank Account services\",\n",
    "              1:\"Credit card or prepaid card\",\n",
    "              2:\"Others\",\n",
    "              3:\"Theft/Dispute Reporting\",\n",
    "              4:\"Mortage/Loan\" }\n",
    "\n",
    "#Replace Topics with Topic Names\n",
    "df_clean['Topic'] = df_clean['Topic'].map(Topic_names)"
   ]
  },
  {
   "cell_type": "code",
   "execution_count": 53,
   "metadata": {
    "id": "-2ULY5K6JrGG"
   },
   "outputs": [
    {
     "data": {
      "text/html": [
       "<div>\n",
       "<style scoped>\n",
       "    .dataframe tbody tr th:only-of-type {\n",
       "        vertical-align: middle;\n",
       "    }\n",
       "\n",
       "    .dataframe tbody tr th {\n",
       "        vertical-align: top;\n",
       "    }\n",
       "\n",
       "    .dataframe thead th {\n",
       "        text-align: right;\n",
       "    }\n",
       "</style>\n",
       "<table border=\"1\" class=\"dataframe\">\n",
       "  <thead>\n",
       "    <tr style=\"text-align: right;\">\n",
       "      <th></th>\n",
       "      <th>complaints</th>\n",
       "      <th>lemmatized complaints</th>\n",
       "      <th>complaint_POS_removed</th>\n",
       "      <th>Complaint_clean</th>\n",
       "      <th>Topic</th>\n",
       "    </tr>\n",
       "  </thead>\n",
       "  <tbody>\n",
       "    <tr>\n",
       "      <th>1</th>\n",
       "      <td>good morning my name is xxxx xxxx and i appreciate it if you could help me put a stop to chase bank cardmember services \\nin  i wrote to chase asking for debt verification and what they sent me a statement which is not acceptable i am asking the bank to validate the debt instead i been receiving mail every month from them attempting to collect a debt \\ni have a right to know this information as a consumer \\n\\nchase account  xxxx xxxx xxxx xxxx thanks in advance for your help</td>\n",
       "      <td>good morning my name be xxxx xxxx and I appreciate it if you could help I put a stop to chase bank cardmember service \\n in   I write to chase ask for debt verification and what they send I a statement which be not acceptable I be ask the bank to validate the debt instead I been receive mail every month from they attempt to collect a debt \\n I have a right to know this information as a consumer \\n\\n chase account   xxxx xxxx xxxx xxxx thank in advance for your help</td>\n",
       "      <td>morning name stop bank cardmember service ask debt verification statement bank debt mail month debt right information consumer chase account thank advance help</td>\n",
       "      <td>morning name stop bank cardmember service ask debt verification statement bank debt mail month debt right information consumer chase account thank advance help</td>\n",
       "      <td>Bank Account services</td>\n",
       "    </tr>\n",
       "    <tr>\n",
       "      <th>2</th>\n",
       "      <td>i upgraded my xxxx xxxx card in  and was told by the agent who did the upgrade my anniversary date would not change it turned the agent was giving me the wrong information in order to upgrade the account xxxx   changed my anniversary date from xxxxxxxx to xxxxxxxx without my consent xxxx has the recording of the agent who was misled me</td>\n",
       "      <td>I upgrade my xxxx xxxx card in   and be tell by the agent who do the upgrade my anniversary date would not change it turn the agent be give I the wrong information in order to upgrade the account xxxx    change my anniversary date from xxxxxxxx to xxxxxxxx without my consent xxxx have the recording of the agent who be mislead I</td>\n",
       "      <td>card agent upgrade date agent information order account change date xxxxxxxx consent xxxx recording agent</td>\n",
       "      <td>card agent upgrade date agent information order account change date  consent  recording agent</td>\n",
       "      <td>Credit card or prepaid card</td>\n",
       "    </tr>\n",
       "    <tr>\n",
       "      <th>10</th>\n",
       "      <td>chase card was reported on  however fraudulent application have been submitted my identity without my consent to fraudulently obtain services do not extend credit without verifying the identity of the applicant</td>\n",
       "      <td>chase card be report on   however fraudulent application have be submit my identity without my consent to fraudulently obtain service do not extend credit without verify the identity of the applicant</td>\n",
       "      <td>card report application identity consent service credit identity applicant</td>\n",
       "      <td>card report application identity consent service credit identity applicant</td>\n",
       "      <td>Credit card or prepaid card</td>\n",
       "    </tr>\n",
       "    <tr>\n",
       "      <th>11</th>\n",
       "      <td>on  while trying to book a xxxx  xxxx  ticket i came across an offer for  to be applied towards the ticket if i applied for a rewards card i put in my information for the offer and within less than a minute was notified via the screen that a decision could not be made i immediately contacted xxxx and was referred to chase bank i then immediately contacted chase bank within no more than  of getting the notification on the screen and i was told by the chase representative i spoke with that my application was denied but she could not state why i asked for more information about the xxxx  offer and she explained that even if i had been approved the credit offer only gets applied after the first account statement and could not be used to purchase the ticket i then explicitly told her i was glad i got denied and i was absolutely no longer interested in the account i asked that the application be withdrawn and the representative obliged this all happened no later than  after putting in the application on  notwithstanding my explicit request not to proceed with the application and contrary to what i was told by the chase representative chase did in fact go ahead to open a credit account in my name on  this is now being reported in my credit report and chase has refused to correct this information on my credit report even though they went ahead to process an application which i did not consent to and out of their error</td>\n",
       "      <td>on   while try to book a xxxx   xxxx   ticket I come across an offer for   to be apply towards the ticket if I apply for a reward card I put in my information for the offer and within less than a minute be notify via the screen that a decision could not be make I immediately contact xxxx and be refer to chase bank I then immediately contact chase bank within no more than   of get the notification on the screen and I be tell by the chase representative I speak with that my application be deny but she could not state why I ask for more information about the xxxx   offer and she explain that even if I have be approve the credit offer only gets apply after the first account statement and could not be use to purchase the ticket I then explicitly tell she I be glad I got deny and I be absolutely no long interested in the account I ask that the application be withdraw and the representative oblige this all happen no later than   after put in the application on   notwithstanding my explicit request not to proceed with the application and contrary to what I be tell by the chase representative chase do in fact go ahead to open a credit account in my name on   this be now be report in my credit report and chase have refuse to correct this information on my credit report even though they go ahead to process an application which I do not consent to and out of their error</td>\n",
       "      <td>try book xxxx ticket offer ticket card information offer minute screen decision bank chase bank notification screen chase representative application state information xxxx offer credit offer account statement use ticket account application representative oblige put application explicit request application chase chase fact credit account name report credit report chase information credit report application error</td>\n",
       "      <td>try book  ticket offer ticket card information offer minute screen decision bank chase bank notification screen chase representative application state information  offer credit offer account statement use ticket account application representative oblige put application explicit request application chase chase fact credit account name report credit report chase information credit report application error</td>\n",
       "      <td>Credit card or prepaid card</td>\n",
       "    </tr>\n",
       "    <tr>\n",
       "      <th>14</th>\n",
       "      <td>my grand son give me check for  i deposit it into my chase account after fund clear my chase bank closed my account never paid me my money they said they need to speek with my grand son check was clear money was taking by my chase bank refuse to pay me my money my grand son called chase  times they told him i should call not him to verify the check owner he is out the country most the time  date happen  check number xxxx claim number is xxxx with chase</td>\n",
       "      <td>my grand son give I check for   I deposit it into my chase account after fund clear my chase bank close my account never pay I my money they say they need to speek with my grand son check be clear money be take by my chase bank refuse to pay I my money my grand son call chase   time they tell he I should call not he to verify the check owner he be out the country most the time   date happen   check number xxxx claim number be xxxx with chase</td>\n",
       "      <td>son chase account fund bank account pay money son check money bank refuse money son call chase time check owner country time date check number claim number chase</td>\n",
       "      <td>son chase account fund bank account pay money son check money bank refuse money son call chase time check owner country time date check number claim number chase</td>\n",
       "      <td>Bank Account services</td>\n",
       "    </tr>\n",
       "    <tr>\n",
       "      <th>...</th>\n",
       "      <td>...</td>\n",
       "      <td>...</td>\n",
       "      <td>...</td>\n",
       "      <td>...</td>\n",
       "      <td>...</td>\n",
       "    </tr>\n",
       "    <tr>\n",
       "      <th>78303</th>\n",
       "      <td>after being a chase card customer for well over a decade was offered multiple solicitations for acquiring new credit cards with chase  all with bonus airline miles and hotel points was approved for all    new cards with no annual fee for  year after less than  months with payment always paid as agreed chase closed all my cards one of my    approved new cards was never activated but was sent to me\\n\\nchase has done harm to my credit has charged me an annual fee even though they cancelled my account failed to credit my points for both airlines and hotel failed to credit up to  for xxxx enrollment and failed to credit airline charge as agreed upon</td>\n",
       "      <td>after be a chase card customer for well over a decade be offer multiple solicitation for acquire new credit card with chase   all with bonus airline mile and hotel point be approve for all     new card with no annual fee for   year after less than   month with payment always pay as agree chase close all my card one of my     approve new card be never activate but be send to I \\n\\n chase have do harm to my credit have charge I an annual fee even though they cancel my account fail to credit my point for both airline and hotel fail to credit up to   for xxxx enrollment and fail to credit airline charge as agree upon</td>\n",
       "      <td>card customer decade solicitation credit card chase airline mile hotel point card fee year month payment chase card card credit charge fee account credit point airline hotel credit enrollment credit airline charge</td>\n",
       "      <td>card customer decade solicitation credit card chase airline mile hotel point card fee year month payment chase card card credit charge fee account credit point airline hotel credit enrollment credit airline charge</td>\n",
       "      <td>Credit card or prepaid card</td>\n",
       "    </tr>\n",
       "    <tr>\n",
       "      <th>78309</th>\n",
       "      <td>on wednesday xxxxxxxx i called chas my xxxx xxxx visa credit card provider and asked how to make a claim under their purchase protection benefit on xxxxxxxx i purchased three high school textbooks for my xxxx year old daughter because she transferred to a new school all three books were damaged when a water bottle in her backpack broke the chase representative assured me the textbooks would be covered and instructed me to file a claim at xxxx i immediately went to the website and filed the claim including uploading all of the requested paperwork which included a copy of my credit card statement copies of the three receipts and photographic evidence of the damage the website even had  books  as one of the catagories i could list as the type of item they cover and that i could make a claim on after following up repeatedly on my claim since the insurance provider failed to  review my information and contact me within  business days to outline the next steps of the process  as outlined in an email i received acknowledging my claim submission i called to complain the representative said claims are not looked at by an examiner  for eight to ten days  and then it would take  two days to actually review the claim  i responded that this information was contradictory to the information provided in writing in the email xxxx sent to me and she said that she is not an adjuster and that is how it works i then asked to speak with an adjuster and she agreed to connect me to one i was then put on hold and when she returned she said my file had  just been updated while i was on hold and that the claim was being denied because textbooks have finite lives and are undergo revision after courses end  i explained that my daughter s course had not ended and that i was told specifically by chase that my textbook purchases would be covered and was again told they were refusing my claim  by the time the call ended i received an email stating that my claim status had been updated and was being denied i find this completely outrageous and borderline fraudulent</td>\n",
       "      <td>on wednesday xxxxxxxx I call chas my xxxx xxxx visa credit card provider and ask how to make a claim under their purchase protection benefit on xxxxxxxx I purchase three high school textbook for my xxxx year old daughter because she transfer to a new school all three book be damage when a water bottle in her backpack break the chase representative assure I the textbook would be cover and instruct I to file a claim at xxxx I immediately go to the website and file the claim include upload all of the request paperwork which include a copy of my credit card statement copy of the three receipt and photographic evidence of the damage the website even have   book   as one of the catagorie I could list as the type of item they cover and that I could make a claim on after follow up repeatedly on my claim since the insurance provider fail to   review my information and contact I within   business day to outline the next step of the process   as outline in an email I receive acknowledge my claim submission I call to complain the representative say claim be not look at by an examiner   for eight to ten day   and then it would take   two day to actually review the claim   I respond that this information be contradictory to the information provide in writing in the email xxxx send to I and she say that she be not an adjuster and that be how it work I then ask to speak with an adjuster and she agree to connect I to one I be then put on hold and when she return she say my file have   just be update while I be on hold and that the claim be be deny because textbook have finite life and be undergo revision after course end   I explain that my daughter s course have not end and that I be tell specifically by chase that my textbook purchase would be cover and be again tell they be refuse my claim   by the time the call end I receive an email state that my claim status have be update and be be deny I find this completely outrageous and borderline fraudulent</td>\n",
       "      <td>visa credit card provider claim purchase protection benefit xxxxxxxx school textbook year daughter school book damage water bottle backpack assure textbook claim website file claim request paperwork copy credit card statement copy receipt evidence damage website book catagorie type item claim claim insurance provider information contact business day step process outline email claim submission say claim examiner day day claim information contradictory information provide email send adjuster adjuster hold file hold claim textbook life revision course end daughter s course chase textbook purchase claim time end email state claim status fraudulent</td>\n",
       "      <td>visa credit card provider claim purchase protection benefit  school textbook year daughter school book damage water bottle backpack assure textbook claim website file claim request paperwork copy credit card statement copy receipt evidence damage website book catagorie type item claim claim insurance provider information contact business day step process outline email claim submission say claim examiner day day claim information contradictory information provide email send adjuster adjuster hold file hold claim textbook life revision course end daughter s course chase textbook purchase claim time end email state claim status fraudulent</td>\n",
       "      <td>Theft/Dispute Reporting</td>\n",
       "    </tr>\n",
       "    <tr>\n",
       "      <th>78310</th>\n",
       "      <td>i am not familiar with xxxx pay and did not understand the great risk this provides to consumers i believed this to be safe as it was through my chase bank app i have been with chase for almost  years and trust their mobile banking and now am sadly regretful i am being told to deal with the merchant except the merchant has refused to answer my inquiries and now shut down communication the website of the said merchant looks entirely legitamite and is even using the faces of highly successful brands with individuals linked to their social media without their consent in performing research of the phone number and other associated information available through pi it is very clear this merchant is continually creating new account title holders to perpetuate this cycle of fraud furthermore as this is a non fixed voip being used i believe they are fraudulently using the identity of the real xxxx xxxx chase bank told me they wouldnt even investigate report this to xxxx or allow me to file a report or take any potential recourse for the matter there isnt even a protocol in place to address this issue yet the chase mobile app verbiage makes a point to deceptively position this app as under the branch of chase banking service and as such imply a degree of entitlement to its customer service protection protocols chase has your back which reads on the very same link as the xxxx tab  is most certainly not true this places consumers at risk when using this mobile service and does not flag the concern of chase in the slightest at minimum the risk of using xxxx on your mobile banking app must realistically be made aware to the public as it stands to be potentially devastating i have plans to file reports with all corresponding authorities as well as notify and contact the individual whose identity is being misused to inform him i also intend to urge my neighbor who works in television that the news network should perhaps present the risk of using xxxx and xxxx integrated banking apps to the public i understand fraud and scamming are overwhelming rampant but a banking mogul such as chase not having any recourse of action is simply a risk that needs to be disclosed more throughly i would not have clicked on the to link to the extent i did if i would have been better informed</td>\n",
       "      <td>I be not familiar with xxxx pay and do not understand the great risk this provide to consumer I believe this to be safe as it be through my chase bank app I have be with chase for almost   year and trust their mobile banking and now be sadly regretful I be be tell to deal with the merchant except the merchant have refuse to answer my inquiry and now shut down communication the website of the say merchant look entirely legitamite and be even use the face of highly successful brand with individual link to their social medium without their consent in perform research of the phone number and other associated information available through pi it be very clear this merchant be continually create new account title holder to perpetuate this cycle of fraud furthermore as this be a non fixed voip be use I believe they be fraudulently use the identity of the real xxxx xxxx chase bank tell I they would not even investigate report this to xxxx or allow I to file a report or take any potential recourse for the matter there be not even a protocol in place to address this issue yet the chase mobile app verbiage make a point to deceptively position this app as under the branch of chase banking service and as such imply a degree of entitlement to its customer service protection protocol chase have your back which read on the very same link as the xxxx tab   be most certainly not true this place consumer at risk when use this mobile service and do not flag the concern of chase in the slight at minimum the risk of use xxxx on your mobile banking app must realistically be make aware to the public as it stand to be potentially devastating I have plan to file report with all correspond authority as well as notify and contact the individual whose identity be be misuse to inform he I also intend to urge my neighbor who work in television that the news network should perhaps present the risk of use xxxx and xxxx integrate banking app to the public I understand fraud and scamming be overwhelm rampant but a banking mogul such as chase not have any recourse of action be simply a risk that need to be disclose more throughly I would not have click on the to link to the extent I do if I would have be well inform</td>\n",
       "      <td>pay risk provide consumer bank app chase year mobile banking merchant merchant inquiry communication website say merchant look face brand link medium consent research phone number information pi merchant account title holder cycle fraud voip identity xxxx bank tell report report recourse matter protocol place issue chase verbiage point position app branch chase banking service degree entitlement customer service protection protocol chase back read link tab place consumer risk use service concern chase slight risk use xxxx banking app public plan report correspond authority individual identity neighbor television news network risk use xxxx integrate banking app public fraud scamming banking mogul chase recourse action risk click extent</td>\n",
       "      <td>pay risk provide consumer bank app chase year mobile banking merchant merchant inquiry communication website say merchant look face brand link medium consent research phone number information pi merchant account title holder cycle fraud voip identity  bank tell report report recourse matter protocol place issue chase verbiage point position app branch chase banking service degree entitlement customer service protection protocol chase back read link tab place consumer risk use service concern chase slight risk use  banking app public plan report correspond authority individual identity neighbor television news network risk use  integrate banking app public fraud scamming banking mogul chase recourse action risk click extent</td>\n",
       "      <td>Theft/Dispute Reporting</td>\n",
       "    </tr>\n",
       "    <tr>\n",
       "      <th>78311</th>\n",
       "      <td>i have had flawless credit for  yrs ive had chase credit cards  chase freedom  specifically since xxxx with no problems ever ive done many balance transfers in my life so i have plenty of experience i recently did a balance transfer with chase freedom for   did many with other chase cards but apparently not  freeedom   when i got my first bill my minimum payment was  i was shocked i immediately called on xxxxxxxx the representative told me that the min payment was so high bc they were making me pay the  balance transfer fee  up front but my future payments would be around    of total balance  which is standard and the rate they advertise  i went to pay the next payment on xxxxxxxx  was once again shocked to see my minimum payment was  i paid it but i have been trying to work this out with chase ever since apparently the representative was wrong  i am actually expected to pay   instead of the standard   they normally charge bc that was written in my  user agreement  paperwork back in xxxxxxxx  years ago they currently charge   to everyone else in the world my other cards including chase are all   this  is an unreasonable amt to expect someone to pay for  credit card i have kids  many other bills to pay they never warned me they were so  off the charts  with their minimum payment percentage  except for my original paperwork in xxxxxxxx  they offer everyone else   terms they change their  terms  anytime it benefits them but wont budge to lower it to make this payment more affordable  reasonable so i also asked them  as soon as i found this out  to refund my  transfer fee so i could use it to transfer the balance to a different card with a more reasonable minimum payment they refused i also asked if they would transfer to my chase slate card which has   min pmt they also refused they will not work with me at all i am a responsible working person i would like to preserve my good credit i could easily transfer again to a different card but id have to pay another lump sum of  again</td>\n",
       "      <td>I have have flawless credit for   yrs I ve have chase credit card   chase freedom   specifically since xxxx with no problem ever I ve do many balance transfer in my life so I have plenty of experience I recently do a balance transfer with chase freedom for    do many with other chase card but apparently not   freeedom    when I get my first bill my minimum payment be   I be shock I immediately call on xxxxxxxx the representative tell I that the min payment be so high bc they be make I pay the   balance transfer fee   up front but my future payment would be around     of total balance   which be standard and the rate they advertise   I go to pay the next payment on xxxxxxxx   be once again shocked to see my minimum payment be   I pay it but I have be try to work this out with chase ever since apparently the representative be wrong   I be actually expect to pay    instead of the standard    they normally charge bc that be write in my   user agreement   paperwork back in xxxxxxxx   year ago they currently charge    to everyone else in the world my other card include chase be all    this   be an unreasonable amt to expect someone to pay for   credit card I have kid   many other bill to pay they never warn I they be so   off the chart   with their minimum payment percentage   except for my original paperwork in xxxxxxxx   they offer everyone else    term they change their   term   anytime it benefit they but will not budge to lower it to make this payment more affordable   reasonable so I also ask they   as soon as I find this out   to refund my   transfer fee so I could use it to transfer the balance to a different card with a more reasonable minimum payment they refuse I also ask if they would transfer to my chase slate card which have    min pmt they also refuse they will not work with I at all I be a responsible work person I would like to preserve my good credit I could easily transfer again to a different card but i d have to pay another lump sum of   again</td>\n",
       "      <td>credit yrs credit card chase freedom xxxx problem balance transfer life plenty experience balance transfer chase freedom card bill payment representative tell payment bc balance transfer fee payment balance rate payment xxxxxxxx payment chase representative standard agreement paperwork year everyone world amt someone credit card bill chart payment percentage paperwork xxxxxxxx everyone term term payment transfer fee balance card payment slate card pmt work person credit card lump sum</td>\n",
       "      <td>credit yrs credit card chase freedom  problem balance transfer life plenty experience balance transfer chase freedom card bill payment representative tell payment bc balance transfer fee payment balance rate payment  payment chase representative standard agreement paperwork year everyone world amt someone credit card bill chart payment percentage paperwork  everyone term term payment transfer fee balance card payment slate card pmt work person credit card lump sum</td>\n",
       "      <td>Others</td>\n",
       "    </tr>\n",
       "    <tr>\n",
       "      <th>78312</th>\n",
       "      <td>roughly  years ago i closed out my accounts with jp morgan chase bank xxxx in order to close out an unsecured line of credit i had to pay it off i did that to close out my account roughly  payment when i closed out the accounts and now i get this late payment that showed up on my credit report after  years stating i owe close to  dollars i have never had any payment schedules or notifications in the  years because i paid it off upon calling them i am told i need to show proof i paid it off i would like to think that if indeed i had not paid it off  which i did  i would have immediately received late payment notifications i left chase bank because of some poor customer service and charges that were way out of line with the other banking institutions</td>\n",
       "      <td>roughly   year ago I close out my account with jp morgan chase bank xxxx in order to close out an unsecured line of credit I have to pay it off I do that to close out my account roughly   payment when I close out the account and now I get this late payment that show up on my credit report after   year state I owe close to   dollar I have never have any payment schedule or notification in the   year because I pay it off upon call they I be tell I need to show proof I pay it off I would like to think that if indeed I have not pay it off   which I do   I would have immediately receive late payment notification I leave chase bank because of some poor customer service and charge that be way out of line with the other banking institution</td>\n",
       "      <td>year account jp bank xxxx order line credit account payment account payment credit report year state dollar payment schedule notification year call payment notification bank customer service charge way line banking institution</td>\n",
       "      <td>year account jp bank  order line credit account payment account payment credit report year state dollar payment schedule notification year call payment notification bank customer service charge way line banking institution</td>\n",
       "      <td>Others</td>\n",
       "    </tr>\n",
       "  </tbody>\n",
       "</table>\n",
       "<p>21072 rows × 5 columns</p>\n",
       "</div>"
      ],
      "text/plain": [
       "                                                                                                                                                                                                                                                                                                                                                                                                                                                                                                                                                                                                                                                                                                                                                                                                                                                                                                                                                                                                                                                                                                                                                                                                                                                                                                                                                                                                                                                                                                                                                                                                                                                                                                                                                                                                                                                                                                                                                                                                                                                                                                                                                                                                                                                                                                                                                                                     complaints  \\\n",
       "1                                                                                                                                                                                                                                                                                                                                                                                                                                                                                                                                                                                                                                                                                                                                                                                                                                                                                                                                                                                                                                                                                                                                                                                                                                                                                                                                                                                                                                                                                                                                                                                                                                                                                                                                                                                                                                                                                               good morning my name is xxxx xxxx and i appreciate it if you could help me put a stop to chase bank cardmember services \\nin  i wrote to chase asking for debt verification and what they sent me a statement which is not acceptable i am asking the bank to validate the debt instead i been receiving mail every month from them attempting to collect a debt \\ni have a right to know this information as a consumer \\n\\nchase account  xxxx xxxx xxxx xxxx thanks in advance for your help   \n",
       "2                                                                                                                                                                                                                                                                                                                                                                                                                                                                                                                                                                                                                                                                                                                                                                                                                                                                                                                                                                                                                                                                                                                                                                                                                                                                                                                                                                                                                                                                                                                                                                                                                                                                                                                                                                                                                                                                                                                                                                                                                                             i upgraded my xxxx xxxx card in  and was told by the agent who did the upgrade my anniversary date would not change it turned the agent was giving me the wrong information in order to upgrade the account xxxx   changed my anniversary date from xxxxxxxx to xxxxxxxx without my consent xxxx has the recording of the agent who was misled me   \n",
       "10                                                                                                                                                                                                                                                                                                                                                                                                                                                                                                                                                                                                                                                                                                                                                                                                                                                                                                                                                                                                                                                                                                                                                                                                                                                                                                                                                                                                                                                                                                                                                                                                                                                                                                                                                                                                                                                                                                                                                                                                                                                                                                                                                                           chase card was reported on  however fraudulent application have been submitted my identity without my consent to fraudulently obtain services do not extend credit without verifying the identity of the applicant   \n",
       "11                                                                                                                                                                                                                                                                                                                                                                                                                                                                                                                                                                                                                                                                                                                                                                                                                                                                                                    on  while trying to book a xxxx  xxxx  ticket i came across an offer for  to be applied towards the ticket if i applied for a rewards card i put in my information for the offer and within less than a minute was notified via the screen that a decision could not be made i immediately contacted xxxx and was referred to chase bank i then immediately contacted chase bank within no more than  of getting the notification on the screen and i was told by the chase representative i spoke with that my application was denied but she could not state why i asked for more information about the xxxx  offer and she explained that even if i had been approved the credit offer only gets applied after the first account statement and could not be used to purchase the ticket i then explicitly told her i was glad i got denied and i was absolutely no longer interested in the account i asked that the application be withdrawn and the representative obliged this all happened no later than  after putting in the application on  notwithstanding my explicit request not to proceed with the application and contrary to what i was told by the chase representative chase did in fact go ahead to open a credit account in my name on  this is now being reported in my credit report and chase has refused to correct this information on my credit report even though they went ahead to process an application which i did not consent to and out of their error   \n",
       "14                                                                                                                                                                                                                                                                                                                                                                                                                                                                                                                                                                                                                                                                                                                                                                                                                                                                                                                                                                                                                                                                                                                                                                                                                                                                                                                                                                                                                                                                                                                                                                                                                                                                                                                                                                                                                                                                                                                     my grand son give me check for  i deposit it into my chase account after fund clear my chase bank closed my account never paid me my money they said they need to speek with my grand son check was clear money was taking by my chase bank refuse to pay me my money my grand son called chase  times they told him i should call not him to verify the check owner he is out the country most the time  date happen  check number xxxx claim number is xxxx with chase   \n",
       "...                                                                                                                                                                                                                                                                                                                                                                                                                                                                                                                                                                                                                                                                                                                                                                                                                                                                                                                                                                                                                                                                                                                                                                                                                                                                                                                                                                                                                                                                                                                                                                                                                                                                                                                                                                                                                                                                                                                                                                                                                                                                                                                                                                                                                                                                                                                                                                                         ...   \n",
       "78303                                                                                                                                                                                                                                                                                                                                                                                                                                                                                                                                                                                                                                                                                                                                                                                                                                                                                                                                                                                                                                                                                                                                                                                                                                                                                                                                                                                                                                                                                                                                                                                                                                                                                                              after being a chase card customer for well over a decade was offered multiple solicitations for acquiring new credit cards with chase  all with bonus airline miles and hotel points was approved for all    new cards with no annual fee for  year after less than  months with payment always paid as agreed chase closed all my cards one of my    approved new cards was never activated but was sent to me\\n\\nchase has done harm to my credit has charged me an annual fee even though they cancelled my account failed to credit my points for both airlines and hotel failed to credit up to  for xxxx enrollment and failed to credit airline charge as agreed upon   \n",
       "78309                                                                                                                                                                                                                                       on wednesday xxxxxxxx i called chas my xxxx xxxx visa credit card provider and asked how to make a claim under their purchase protection benefit on xxxxxxxx i purchased three high school textbooks for my xxxx year old daughter because she transferred to a new school all three books were damaged when a water bottle in her backpack broke the chase representative assured me the textbooks would be covered and instructed me to file a claim at xxxx i immediately went to the website and filed the claim including uploading all of the requested paperwork which included a copy of my credit card statement copies of the three receipts and photographic evidence of the damage the website even had  books  as one of the catagories i could list as the type of item they cover and that i could make a claim on after following up repeatedly on my claim since the insurance provider failed to  review my information and contact me within  business days to outline the next steps of the process  as outlined in an email i received acknowledging my claim submission i called to complain the representative said claims are not looked at by an examiner  for eight to ten days  and then it would take  two days to actually review the claim  i responded that this information was contradictory to the information provided in writing in the email xxxx sent to me and she said that she is not an adjuster and that is how it works i then asked to speak with an adjuster and she agreed to connect me to one i was then put on hold and when she returned she said my file had  just been updated while i was on hold and that the claim was being denied because textbooks have finite lives and are undergo revision after courses end  i explained that my daughter s course had not ended and that i was told specifically by chase that my textbook purchases would be covered and was again told they were refusing my claim  by the time the call ended i received an email stating that my claim status had been updated and was being denied i find this completely outrageous and borderline fraudulent   \n",
       "78310  i am not familiar with xxxx pay and did not understand the great risk this provides to consumers i believed this to be safe as it was through my chase bank app i have been with chase for almost  years and trust their mobile banking and now am sadly regretful i am being told to deal with the merchant except the merchant has refused to answer my inquiries and now shut down communication the website of the said merchant looks entirely legitamite and is even using the faces of highly successful brands with individuals linked to their social media without their consent in performing research of the phone number and other associated information available through pi it is very clear this merchant is continually creating new account title holders to perpetuate this cycle of fraud furthermore as this is a non fixed voip being used i believe they are fraudulently using the identity of the real xxxx xxxx chase bank told me they wouldnt even investigate report this to xxxx or allow me to file a report or take any potential recourse for the matter there isnt even a protocol in place to address this issue yet the chase mobile app verbiage makes a point to deceptively position this app as under the branch of chase banking service and as such imply a degree of entitlement to its customer service protection protocols chase has your back which reads on the very same link as the xxxx tab  is most certainly not true this places consumers at risk when using this mobile service and does not flag the concern of chase in the slightest at minimum the risk of using xxxx on your mobile banking app must realistically be made aware to the public as it stands to be potentially devastating i have plans to file reports with all corresponding authorities as well as notify and contact the individual whose identity is being misused to inform him i also intend to urge my neighbor who works in television that the news network should perhaps present the risk of using xxxx and xxxx integrated banking apps to the public i understand fraud and scamming are overwhelming rampant but a banking mogul such as chase not having any recourse of action is simply a risk that needs to be disclosed more throughly i would not have clicked on the to link to the extent i did if i would have been better informed   \n",
       "78311                                                                                                                                                                                                                                                                                                 i have had flawless credit for  yrs ive had chase credit cards  chase freedom  specifically since xxxx with no problems ever ive done many balance transfers in my life so i have plenty of experience i recently did a balance transfer with chase freedom for   did many with other chase cards but apparently not  freeedom   when i got my first bill my minimum payment was  i was shocked i immediately called on xxxxxxxx the representative told me that the min payment was so high bc they were making me pay the  balance transfer fee  up front but my future payments would be around    of total balance  which is standard and the rate they advertise  i went to pay the next payment on xxxxxxxx  was once again shocked to see my minimum payment was  i paid it but i have been trying to work this out with chase ever since apparently the representative was wrong  i am actually expected to pay   instead of the standard   they normally charge bc that was written in my  user agreement  paperwork back in xxxxxxxx  years ago they currently charge   to everyone else in the world my other cards including chase are all   this  is an unreasonable amt to expect someone to pay for  credit card i have kids  many other bills to pay they never warned me they were so  off the charts  with their minimum payment percentage  except for my original paperwork in xxxxxxxx  they offer everyone else   terms they change their  terms  anytime it benefits them but wont budge to lower it to make this payment more affordable  reasonable so i also asked them  as soon as i found this out  to refund my  transfer fee so i could use it to transfer the balance to a different card with a more reasonable minimum payment they refused i also asked if they would transfer to my chase slate card which has   min pmt they also refused they will not work with me at all i am a responsible working person i would like to preserve my good credit i could easily transfer again to a different card but id have to pay another lump sum of  again   \n",
       "78312                                                                                                                                                                                                                                                                                                                                                                                                                                                                                                                                                                                                                                                                                                                                                                                                                                                                                                                                                                                                                                                                                                                                                                                                                                                                                                                                                                                                                                                                                                                                                                                                    roughly  years ago i closed out my accounts with jp morgan chase bank xxxx in order to close out an unsecured line of credit i had to pay it off i did that to close out my account roughly  payment when i closed out the accounts and now i get this late payment that showed up on my credit report after  years stating i owe close to  dollars i have never had any payment schedules or notifications in the  years because i paid it off upon calling them i am told i need to show proof i paid it off i would like to think that if indeed i had not paid it off  which i did  i would have immediately received late payment notifications i left chase bank because of some poor customer service and charges that were way out of line with the other banking institutions   \n",
       "\n",
       "                                                                                                                                                                                                                                                                                                                                                                                                                                                                                                                                                                                                                                                                                                                                                                                                                                                                                                                                                                                                                                                                                                                                                                                                                                                                                                                                                                                                                                                                                                                                                                                                                                                                                                                                                                                                                                                                                                                                                                                                                                                                                                                                                                                                                                                                                            lemmatized complaints  \\\n",
       "1                                                                                                                                                                                                                                                                                                                                                                                                                                                                                                                                                                                                                                                                                                                                                                                                                                                                                                                                                                                                                                                                                                                                                                                                                                                                                                                                                                                                                                                                                                                                                                                                                                                                                                                                                                                                                           good morning my name be xxxx xxxx and I appreciate it if you could help I put a stop to chase bank cardmember service \\n in   I write to chase ask for debt verification and what they send I a statement which be not acceptable I be ask the bank to validate the debt instead I been receive mail every month from they attempt to collect a debt \\n I have a right to know this information as a consumer \\n\\n chase account   xxxx xxxx xxxx xxxx thank in advance for your help   \n",
       "2                                                                                                                                                                                                                                                                                                                                                                                                                                                                                                                                                                                                                                                                                                                                                                                                                                                                                                                                                                                                                                                                                                                                                                                                                                                                                                                                                                                                                                                                                                                                                                                                                                                                                                                                                                                                                                                                                                                                                                       I upgrade my xxxx xxxx card in   and be tell by the agent who do the upgrade my anniversary date would not change it turn the agent be give I the wrong information in order to upgrade the account xxxx    change my anniversary date from xxxxxxxx to xxxxxxxx without my consent xxxx have the recording of the agent who be mislead I   \n",
       "10                                                                                                                                                                                                                                                                                                                                                                                                                                                                                                                                                                                                                                                                                                                                                                                                                                                                                                                                                                                                                                                                                                                                                                                                                                                                                                                                                                                                                                                                                                                                                                                                                                                                                                                                                                                                                                                                                                                                                                                                                                                                                                        chase card be report on   however fraudulent application have be submit my identity without my consent to fraudulently obtain service do not extend credit without verify the identity of the applicant   \n",
       "11                                                                                                                                                                                                                                                                                                                                                                                                                                                                                                                                                                                                                                                                                                                                                                                                                                                                           on   while try to book a xxxx   xxxx   ticket I come across an offer for   to be apply towards the ticket if I apply for a reward card I put in my information for the offer and within less than a minute be notify via the screen that a decision could not be make I immediately contact xxxx and be refer to chase bank I then immediately contact chase bank within no more than   of get the notification on the screen and I be tell by the chase representative I speak with that my application be deny but she could not state why I ask for more information about the xxxx   offer and she explain that even if I have be approve the credit offer only gets apply after the first account statement and could not be use to purchase the ticket I then explicitly tell she I be glad I got deny and I be absolutely no long interested in the account I ask that the application be withdraw and the representative oblige this all happen no later than   after put in the application on   notwithstanding my explicit request not to proceed with the application and contrary to what I be tell by the chase representative chase do in fact go ahead to open a credit account in my name on   this be now be report in my credit report and chase have refuse to correct this information on my credit report even though they go ahead to process an application which I do not consent to and out of their error   \n",
       "14                                                                                                                                                                                                                                                                                                                                                                                                                                                                                                                                                                                                                                                                                                                                                                                                                                                                                                                                                                                                                                                                                                                                                                                                                                                                                                                                                                                                                                                                                                                                                                                                                                                                                                                                                                                                                                                  my grand son give I check for   I deposit it into my chase account after fund clear my chase bank close my account never pay I my money they say they need to speek with my grand son check be clear money be take by my chase bank refuse to pay I my money my grand son call chase   time they tell he I should call not he to verify the check owner he be out the country most the time   date happen   check number xxxx claim number be xxxx with chase   \n",
       "...                                                                                                                                                                                                                                                                                                                                                                                                                                                                                                                                                                                                                                                                                                                                                                                                                                                                                                                                                                                                                                                                                                                                                                                                                                                                                                                                                                                                                                                                                                                                                                                                                                                                                                                                                                                                                                                                                                                                                                                                                                                                                                                                                                                                                                                                                                           ...   \n",
       "78303                                                                                                                                                                                                                                                                                                                                                                                                                                                                                                                                                                                                                                                                                                                                                                                                                                                                                                                                                                                                                                                                                                                                                                                                                                                                                                                                                                                                                                                                                                                                                                                                                                                                after be a chase card customer for well over a decade be offer multiple solicitation for acquire new credit card with chase   all with bonus airline mile and hotel point be approve for all     new card with no annual fee for   year after less than   month with payment always pay as agree chase close all my card one of my     approve new card be never activate but be send to I \\n\\n chase have do harm to my credit have charge I an annual fee even though they cancel my account fail to credit my point for both airline and hotel fail to credit up to   for xxxx enrollment and fail to credit airline charge as agree upon   \n",
       "78309                                                                                                                                                                                                                                                           on wednesday xxxxxxxx I call chas my xxxx xxxx visa credit card provider and ask how to make a claim under their purchase protection benefit on xxxxxxxx I purchase three high school textbook for my xxxx year old daughter because she transfer to a new school all three book be damage when a water bottle in her backpack break the chase representative assure I the textbook would be cover and instruct I to file a claim at xxxx I immediately go to the website and file the claim include upload all of the request paperwork which include a copy of my credit card statement copy of the three receipt and photographic evidence of the damage the website even have   book   as one of the catagorie I could list as the type of item they cover and that I could make a claim on after follow up repeatedly on my claim since the insurance provider fail to   review my information and contact I within   business day to outline the next step of the process   as outline in an email I receive acknowledge my claim submission I call to complain the representative say claim be not look at by an examiner   for eight to ten day   and then it would take   two day to actually review the claim   I respond that this information be contradictory to the information provide in writing in the email xxxx send to I and she say that she be not an adjuster and that be how it work I then ask to speak with an adjuster and she agree to connect I to one I be then put on hold and when she return she say my file have   just be update while I be on hold and that the claim be be deny because textbook have finite life and be undergo revision after course end   I explain that my daughter s course have not end and that I be tell specifically by chase that my textbook purchase would be cover and be again tell they be refuse my claim   by the time the call end I receive an email state that my claim status have be update and be be deny I find this completely outrageous and borderline fraudulent   \n",
       "78310  I be not familiar with xxxx pay and do not understand the great risk this provide to consumer I believe this to be safe as it be through my chase bank app I have be with chase for almost   year and trust their mobile banking and now be sadly regretful I be be tell to deal with the merchant except the merchant have refuse to answer my inquiry and now shut down communication the website of the say merchant look entirely legitamite and be even use the face of highly successful brand with individual link to their social medium without their consent in perform research of the phone number and other associated information available through pi it be very clear this merchant be continually create new account title holder to perpetuate this cycle of fraud furthermore as this be a non fixed voip be use I believe they be fraudulently use the identity of the real xxxx xxxx chase bank tell I they would not even investigate report this to xxxx or allow I to file a report or take any potential recourse for the matter there be not even a protocol in place to address this issue yet the chase mobile app verbiage make a point to deceptively position this app as under the branch of chase banking service and as such imply a degree of entitlement to its customer service protection protocol chase have your back which read on the very same link as the xxxx tab   be most certainly not true this place consumer at risk when use this mobile service and do not flag the concern of chase in the slight at minimum the risk of use xxxx on your mobile banking app must realistically be make aware to the public as it stand to be potentially devastating I have plan to file report with all correspond authority as well as notify and contact the individual whose identity be be misuse to inform he I also intend to urge my neighbor who work in television that the news network should perhaps present the risk of use xxxx and xxxx integrate banking app to the public I understand fraud and scamming be overwhelm rampant but a banking mogul such as chase not have any recourse of action be simply a risk that need to be disclose more throughly I would not have click on the to link to the extent I do if I would have be well inform   \n",
       "78311                                                                                                                                                                                                                                    I have have flawless credit for   yrs I ve have chase credit card   chase freedom   specifically since xxxx with no problem ever I ve do many balance transfer in my life so I have plenty of experience I recently do a balance transfer with chase freedom for    do many with other chase card but apparently not   freeedom    when I get my first bill my minimum payment be   I be shock I immediately call on xxxxxxxx the representative tell I that the min payment be so high bc they be make I pay the   balance transfer fee   up front but my future payment would be around     of total balance   which be standard and the rate they advertise   I go to pay the next payment on xxxxxxxx   be once again shocked to see my minimum payment be   I pay it but I have be try to work this out with chase ever since apparently the representative be wrong   I be actually expect to pay    instead of the standard    they normally charge bc that be write in my   user agreement   paperwork back in xxxxxxxx   year ago they currently charge    to everyone else in the world my other card include chase be all    this   be an unreasonable amt to expect someone to pay for   credit card I have kid   many other bill to pay they never warn I they be so   off the chart   with their minimum payment percentage   except for my original paperwork in xxxxxxxx   they offer everyone else    term they change their   term   anytime it benefit they but will not budge to lower it to make this payment more affordable   reasonable so I also ask they   as soon as I find this out   to refund my   transfer fee so I could use it to transfer the balance to a different card with a more reasonable minimum payment they refuse I also ask if they would transfer to my chase slate card which have    min pmt they also refuse they will not work with I at all I be a responsible work person I would like to preserve my good credit I could easily transfer again to a different card but i d have to pay another lump sum of   again   \n",
       "78312                                                                                                                                                                                                                                                                                                                                                                                                                                                                                                                                                                                                                                                                                                                                                                                                                                                                                                                                                                                                                                                                                                                                                                                                                                                                                                                                                                                                                                                                                                                                       roughly   year ago I close out my account with jp morgan chase bank xxxx in order to close out an unsecured line of credit I have to pay it off I do that to close out my account roughly   payment when I close out the account and now I get this late payment that show up on my credit report after   year state I owe close to   dollar I have never have any payment schedule or notification in the   year because I pay it off upon call they I be tell I need to show proof I pay it off I would like to think that if indeed I have not pay it off   which I do   I would have immediately receive late payment notification I leave chase bank because of some poor customer service and charge that be way out of line with the other banking institution   \n",
       "\n",
       "                                                                                                                                                                                                                                                                                                                                                                                                                                                                                                                                                                                                                                                                                                                                                          complaint_POS_removed  \\\n",
       "1                                                                                                                                                                                                                                                                                                                                                                                                                                                                                                                                                                                                               morning name stop bank cardmember service ask debt verification statement bank debt mail month debt right information consumer chase account thank advance help   \n",
       "2                                                                                                                                                                                                                                                                                                                                                                                                                                                                                                                                                                                                                                                                     card agent upgrade date agent information order account change date xxxxxxxx consent xxxx recording agent   \n",
       "10                                                                                                                                                                                                                                                                                                                                                                                                                                                                                                                                                                                                                                                                                                   card report application identity consent service credit identity applicant   \n",
       "11                                                                                                                                                                                                                                                                                                                                               try book xxxx ticket offer ticket card information offer minute screen decision bank chase bank notification screen chase representative application state information xxxx offer credit offer account statement use ticket account application representative oblige put application explicit request application chase chase fact credit account name report credit report chase information credit report application error   \n",
       "14                                                                                                                                                                                                                                                                                                                                                                                                                                                                                                                                                                                                            son chase account fund bank account pay money son check money bank refuse money son call chase time check owner country time date check number claim number chase   \n",
       "...                                                                                                                                                                                                                                                                                                                                                                                                                                                                                                                                                                                                                                                                                                                                                                         ...   \n",
       "78303                                                                                                                                                                                                                                                                                                                                                                                                                                                                                                                                                     card customer decade solicitation credit card chase airline mile hotel point card fee year month payment chase card card credit charge fee account credit point airline hotel credit enrollment credit airline charge   \n",
       "78309                                                                                               visa credit card provider claim purchase protection benefit xxxxxxxx school textbook year daughter school book damage water bottle backpack assure textbook claim website file claim request paperwork copy credit card statement copy receipt evidence damage website book catagorie type item claim claim insurance provider information contact business day step process outline email claim submission say claim examiner day day claim information contradictory information provide email send adjuster adjuster hold file hold claim textbook life revision course end daughter s course chase textbook purchase claim time end email state claim status fraudulent   \n",
       "78310  pay risk provide consumer bank app chase year mobile banking merchant merchant inquiry communication website say merchant look face brand link medium consent research phone number information pi merchant account title holder cycle fraud voip identity xxxx bank tell report report recourse matter protocol place issue chase verbiage point position app branch chase banking service degree entitlement customer service protection protocol chase back read link tab place consumer risk use service concern chase slight risk use xxxx banking app public plan report correspond authority individual identity neighbor television news network risk use xxxx integrate banking app public fraud scamming banking mogul chase recourse action risk click extent   \n",
       "78311                                                                                                                                                                                                                                                                  credit yrs credit card chase freedom xxxx problem balance transfer life plenty experience balance transfer chase freedom card bill payment representative tell payment bc balance transfer fee payment balance rate payment xxxxxxxx payment chase representative standard agreement paperwork year everyone world amt someone credit card bill chart payment percentage paperwork xxxxxxxx everyone term term payment transfer fee balance card payment slate card pmt work person credit card lump sum   \n",
       "78312                                                                                                                                                                                                                                                                                                                                                                                                                                                                                                                                        year account jp bank xxxx order line credit account payment account payment credit report year state dollar payment schedule notification year call payment notification bank customer service charge way line banking institution   \n",
       "\n",
       "                                                                                                                                                                                                                                                                                                                                                                                                                                                                                                                                                                                                                                                                                                                                                    Complaint_clean  \\\n",
       "1                                                                                                                                                                                                                                                                                                                                                                                                                                                                                                                                                                                                   morning name stop bank cardmember service ask debt verification statement bank debt mail month debt right information consumer chase account thank advance help   \n",
       "2                                                                                                                                                                                                                                                                                                                                                                                                                                                                                                                                                                                                                                                                     card agent upgrade date agent information order account change date  consent  recording agent   \n",
       "10                                                                                                                                                                                                                                                                                                                                                                                                                                                                                                                                                                                                                                                                                       card report application identity consent service credit identity applicant   \n",
       "11                                                                                                                                                                                                                                                                                                                                           try book  ticket offer ticket card information offer minute screen decision bank chase bank notification screen chase representative application state information  offer credit offer account statement use ticket account application representative oblige put application explicit request application chase chase fact credit account name report credit report chase information credit report application error   \n",
       "14                                                                                                                                                                                                                                                                                                                                                                                                                                                                                                                                                                                                son chase account fund bank account pay money son check money bank refuse money son call chase time check owner country time date check number claim number chase   \n",
       "...                                                                                                                                                                                                                                                                                                                                                                                                                                                                                                                                                                                                                                                                                                                                                             ...   \n",
       "78303                                                                                                                                                                                                                                                                                                                                                                                                                                                                                                                                         card customer decade solicitation credit card chase airline mile hotel point card fee year month payment chase card card credit charge fee account credit point airline hotel credit enrollment credit airline charge   \n",
       "78309                                                                                           visa credit card provider claim purchase protection benefit  school textbook year daughter school book damage water bottle backpack assure textbook claim website file claim request paperwork copy credit card statement copy receipt evidence damage website book catagorie type item claim claim insurance provider information contact business day step process outline email claim submission say claim examiner day day claim information contradictory information provide email send adjuster adjuster hold file hold claim textbook life revision course end daughter s course chase textbook purchase claim time end email state claim status fraudulent   \n",
       "78310  pay risk provide consumer bank app chase year mobile banking merchant merchant inquiry communication website say merchant look face brand link medium consent research phone number information pi merchant account title holder cycle fraud voip identity  bank tell report report recourse matter protocol place issue chase verbiage point position app branch chase banking service degree entitlement customer service protection protocol chase back read link tab place consumer risk use service concern chase slight risk use  banking app public plan report correspond authority individual identity neighbor television news network risk use  integrate banking app public fraud scamming banking mogul chase recourse action risk click extent   \n",
       "78311                                                                                                                                                                                                                                                                          credit yrs credit card chase freedom  problem balance transfer life plenty experience balance transfer chase freedom card bill payment representative tell payment bc balance transfer fee payment balance rate payment  payment chase representative standard agreement paperwork year everyone world amt someone credit card bill chart payment percentage paperwork  everyone term term payment transfer fee balance card payment slate card pmt work person credit card lump sum   \n",
       "78312                                                                                                                                                                                                                                                                                                                                                                                                                                                                                                                                year account jp bank  order line credit account payment account payment credit report year state dollar payment schedule notification year call payment notification bank customer service charge way line banking institution   \n",
       "\n",
       "                             Topic  \n",
       "1            Bank Account services  \n",
       "2      Credit card or prepaid card  \n",
       "10     Credit card or prepaid card  \n",
       "11     Credit card or prepaid card  \n",
       "14           Bank Account services  \n",
       "...                            ...  \n",
       "78303  Credit card or prepaid card  \n",
       "78309      Theft/Dispute Reporting  \n",
       "78310      Theft/Dispute Reporting  \n",
       "78311                       Others  \n",
       "78312                       Others  \n",
       "\n",
       "[21072 rows x 5 columns]"
      ]
     },
     "execution_count": 53,
     "metadata": {},
     "output_type": "execute_result"
    }
   ],
   "source": [
    "df_clean"
   ]
  },
  {
   "cell_type": "markdown",
   "metadata": {
    "id": "7Mu0QBOcJrGH"
   },
   "source": [
    "## Supervised model to predict any new complaints to the relevant Topics.\n",
    "\n",
    "You have now build the model to create the topics for each complaints.Now in the below section you will use them to classify any new complaints.\n",
    "\n",
    "Since you will be using supervised learning technique we have to convert the topic names to numbers(numpy arrays only understand numbers)"
   ]
  },
  {
   "cell_type": "code",
   "execution_count": 54,
   "metadata": {
    "id": "_U8J3J8wJrGH"
   },
   "outputs": [],
   "source": [
    "#Create the dictionary again of Topic names and Topics\n",
    "\n",
    "Topic_names = { \"Bank Account services\":0,\n",
    "              \"Credit card or prepaid card\":1,\n",
    "              \"Others\":2,\n",
    "              \"Theft/Dispute Reporting\":3,\n",
    "              \"Mortage/Loan\":4 }\n",
    "#Replace Topics with Topic Names\n",
    "df_clean['Topic'] = df_clean['Topic'].map(Topic_names)"
   ]
  },
  {
   "cell_type": "code",
   "execution_count": 55,
   "metadata": {
    "id": "BWIgJUkQJrGH"
   },
   "outputs": [
    {
     "data": {
      "text/html": [
       "<div>\n",
       "<style scoped>\n",
       "    .dataframe tbody tr th:only-of-type {\n",
       "        vertical-align: middle;\n",
       "    }\n",
       "\n",
       "    .dataframe tbody tr th {\n",
       "        vertical-align: top;\n",
       "    }\n",
       "\n",
       "    .dataframe thead th {\n",
       "        text-align: right;\n",
       "    }\n",
       "</style>\n",
       "<table border=\"1\" class=\"dataframe\">\n",
       "  <thead>\n",
       "    <tr style=\"text-align: right;\">\n",
       "      <th></th>\n",
       "      <th>complaints</th>\n",
       "      <th>lemmatized complaints</th>\n",
       "      <th>complaint_POS_removed</th>\n",
       "      <th>Complaint_clean</th>\n",
       "      <th>Topic</th>\n",
       "    </tr>\n",
       "  </thead>\n",
       "  <tbody>\n",
       "    <tr>\n",
       "      <th>1</th>\n",
       "      <td>good morning my name is xxxx xxxx and i appreciate it if you could help me put a stop to chase bank cardmember services \\nin  i wrote to chase asking for debt verification and what they sent me a statement which is not acceptable i am asking the bank to validate the debt instead i been receiving mail every month from them attempting to collect a debt \\ni have a right to know this information as a consumer \\n\\nchase account  xxxx xxxx xxxx xxxx thanks in advance for your help</td>\n",
       "      <td>good morning my name be xxxx xxxx and I appreciate it if you could help I put a stop to chase bank cardmember service \\n in   I write to chase ask for debt verification and what they send I a statement which be not acceptable I be ask the bank to validate the debt instead I been receive mail every month from they attempt to collect a debt \\n I have a right to know this information as a consumer \\n\\n chase account   xxxx xxxx xxxx xxxx thank in advance for your help</td>\n",
       "      <td>morning name stop bank cardmember service ask debt verification statement bank debt mail month debt right information consumer chase account thank advance help</td>\n",
       "      <td>morning name stop bank cardmember service ask debt verification statement bank debt mail month debt right information consumer chase account thank advance help</td>\n",
       "      <td>0</td>\n",
       "    </tr>\n",
       "    <tr>\n",
       "      <th>2</th>\n",
       "      <td>i upgraded my xxxx xxxx card in  and was told by the agent who did the upgrade my anniversary date would not change it turned the agent was giving me the wrong information in order to upgrade the account xxxx   changed my anniversary date from xxxxxxxx to xxxxxxxx without my consent xxxx has the recording of the agent who was misled me</td>\n",
       "      <td>I upgrade my xxxx xxxx card in   and be tell by the agent who do the upgrade my anniversary date would not change it turn the agent be give I the wrong information in order to upgrade the account xxxx    change my anniversary date from xxxxxxxx to xxxxxxxx without my consent xxxx have the recording of the agent who be mislead I</td>\n",
       "      <td>card agent upgrade date agent information order account change date xxxxxxxx consent xxxx recording agent</td>\n",
       "      <td>card agent upgrade date agent information order account change date  consent  recording agent</td>\n",
       "      <td>1</td>\n",
       "    </tr>\n",
       "    <tr>\n",
       "      <th>10</th>\n",
       "      <td>chase card was reported on  however fraudulent application have been submitted my identity without my consent to fraudulently obtain services do not extend credit without verifying the identity of the applicant</td>\n",
       "      <td>chase card be report on   however fraudulent application have be submit my identity without my consent to fraudulently obtain service do not extend credit without verify the identity of the applicant</td>\n",
       "      <td>card report application identity consent service credit identity applicant</td>\n",
       "      <td>card report application identity consent service credit identity applicant</td>\n",
       "      <td>1</td>\n",
       "    </tr>\n",
       "    <tr>\n",
       "      <th>11</th>\n",
       "      <td>on  while trying to book a xxxx  xxxx  ticket i came across an offer for  to be applied towards the ticket if i applied for a rewards card i put in my information for the offer and within less than a minute was notified via the screen that a decision could not be made i immediately contacted xxxx and was referred to chase bank i then immediately contacted chase bank within no more than  of getting the notification on the screen and i was told by the chase representative i spoke with that my application was denied but she could not state why i asked for more information about the xxxx  offer and she explained that even if i had been approved the credit offer only gets applied after the first account statement and could not be used to purchase the ticket i then explicitly told her i was glad i got denied and i was absolutely no longer interested in the account i asked that the application be withdrawn and the representative obliged this all happened no later than  after putting in the application on  notwithstanding my explicit request not to proceed with the application and contrary to what i was told by the chase representative chase did in fact go ahead to open a credit account in my name on  this is now being reported in my credit report and chase has refused to correct this information on my credit report even though they went ahead to process an application which i did not consent to and out of their error</td>\n",
       "      <td>on   while try to book a xxxx   xxxx   ticket I come across an offer for   to be apply towards the ticket if I apply for a reward card I put in my information for the offer and within less than a minute be notify via the screen that a decision could not be make I immediately contact xxxx and be refer to chase bank I then immediately contact chase bank within no more than   of get the notification on the screen and I be tell by the chase representative I speak with that my application be deny but she could not state why I ask for more information about the xxxx   offer and she explain that even if I have be approve the credit offer only gets apply after the first account statement and could not be use to purchase the ticket I then explicitly tell she I be glad I got deny and I be absolutely no long interested in the account I ask that the application be withdraw and the representative oblige this all happen no later than   after put in the application on   notwithstanding my explicit request not to proceed with the application and contrary to what I be tell by the chase representative chase do in fact go ahead to open a credit account in my name on   this be now be report in my credit report and chase have refuse to correct this information on my credit report even though they go ahead to process an application which I do not consent to and out of their error</td>\n",
       "      <td>try book xxxx ticket offer ticket card information offer minute screen decision bank chase bank notification screen chase representative application state information xxxx offer credit offer account statement use ticket account application representative oblige put application explicit request application chase chase fact credit account name report credit report chase information credit report application error</td>\n",
       "      <td>try book  ticket offer ticket card information offer minute screen decision bank chase bank notification screen chase representative application state information  offer credit offer account statement use ticket account application representative oblige put application explicit request application chase chase fact credit account name report credit report chase information credit report application error</td>\n",
       "      <td>1</td>\n",
       "    </tr>\n",
       "    <tr>\n",
       "      <th>14</th>\n",
       "      <td>my grand son give me check for  i deposit it into my chase account after fund clear my chase bank closed my account never paid me my money they said they need to speek with my grand son check was clear money was taking by my chase bank refuse to pay me my money my grand son called chase  times they told him i should call not him to verify the check owner he is out the country most the time  date happen  check number xxxx claim number is xxxx with chase</td>\n",
       "      <td>my grand son give I check for   I deposit it into my chase account after fund clear my chase bank close my account never pay I my money they say they need to speek with my grand son check be clear money be take by my chase bank refuse to pay I my money my grand son call chase   time they tell he I should call not he to verify the check owner he be out the country most the time   date happen   check number xxxx claim number be xxxx with chase</td>\n",
       "      <td>son chase account fund bank account pay money son check money bank refuse money son call chase time check owner country time date check number claim number chase</td>\n",
       "      <td>son chase account fund bank account pay money son check money bank refuse money son call chase time check owner country time date check number claim number chase</td>\n",
       "      <td>0</td>\n",
       "    </tr>\n",
       "    <tr>\n",
       "      <th>...</th>\n",
       "      <td>...</td>\n",
       "      <td>...</td>\n",
       "      <td>...</td>\n",
       "      <td>...</td>\n",
       "      <td>...</td>\n",
       "    </tr>\n",
       "    <tr>\n",
       "      <th>78303</th>\n",
       "      <td>after being a chase card customer for well over a decade was offered multiple solicitations for acquiring new credit cards with chase  all with bonus airline miles and hotel points was approved for all    new cards with no annual fee for  year after less than  months with payment always paid as agreed chase closed all my cards one of my    approved new cards was never activated but was sent to me\\n\\nchase has done harm to my credit has charged me an annual fee even though they cancelled my account failed to credit my points for both airlines and hotel failed to credit up to  for xxxx enrollment and failed to credit airline charge as agreed upon</td>\n",
       "      <td>after be a chase card customer for well over a decade be offer multiple solicitation for acquire new credit card with chase   all with bonus airline mile and hotel point be approve for all     new card with no annual fee for   year after less than   month with payment always pay as agree chase close all my card one of my     approve new card be never activate but be send to I \\n\\n chase have do harm to my credit have charge I an annual fee even though they cancel my account fail to credit my point for both airline and hotel fail to credit up to   for xxxx enrollment and fail to credit airline charge as agree upon</td>\n",
       "      <td>card customer decade solicitation credit card chase airline mile hotel point card fee year month payment chase card card credit charge fee account credit point airline hotel credit enrollment credit airline charge</td>\n",
       "      <td>card customer decade solicitation credit card chase airline mile hotel point card fee year month payment chase card card credit charge fee account credit point airline hotel credit enrollment credit airline charge</td>\n",
       "      <td>1</td>\n",
       "    </tr>\n",
       "    <tr>\n",
       "      <th>78309</th>\n",
       "      <td>on wednesday xxxxxxxx i called chas my xxxx xxxx visa credit card provider and asked how to make a claim under their purchase protection benefit on xxxxxxxx i purchased three high school textbooks for my xxxx year old daughter because she transferred to a new school all three books were damaged when a water bottle in her backpack broke the chase representative assured me the textbooks would be covered and instructed me to file a claim at xxxx i immediately went to the website and filed the claim including uploading all of the requested paperwork which included a copy of my credit card statement copies of the three receipts and photographic evidence of the damage the website even had  books  as one of the catagories i could list as the type of item they cover and that i could make a claim on after following up repeatedly on my claim since the insurance provider failed to  review my information and contact me within  business days to outline the next steps of the process  as outlined in an email i received acknowledging my claim submission i called to complain the representative said claims are not looked at by an examiner  for eight to ten days  and then it would take  two days to actually review the claim  i responded that this information was contradictory to the information provided in writing in the email xxxx sent to me and she said that she is not an adjuster and that is how it works i then asked to speak with an adjuster and she agreed to connect me to one i was then put on hold and when she returned she said my file had  just been updated while i was on hold and that the claim was being denied because textbooks have finite lives and are undergo revision after courses end  i explained that my daughter s course had not ended and that i was told specifically by chase that my textbook purchases would be covered and was again told they were refusing my claim  by the time the call ended i received an email stating that my claim status had been updated and was being denied i find this completely outrageous and borderline fraudulent</td>\n",
       "      <td>on wednesday xxxxxxxx I call chas my xxxx xxxx visa credit card provider and ask how to make a claim under their purchase protection benefit on xxxxxxxx I purchase three high school textbook for my xxxx year old daughter because she transfer to a new school all three book be damage when a water bottle in her backpack break the chase representative assure I the textbook would be cover and instruct I to file a claim at xxxx I immediately go to the website and file the claim include upload all of the request paperwork which include a copy of my credit card statement copy of the three receipt and photographic evidence of the damage the website even have   book   as one of the catagorie I could list as the type of item they cover and that I could make a claim on after follow up repeatedly on my claim since the insurance provider fail to   review my information and contact I within   business day to outline the next step of the process   as outline in an email I receive acknowledge my claim submission I call to complain the representative say claim be not look at by an examiner   for eight to ten day   and then it would take   two day to actually review the claim   I respond that this information be contradictory to the information provide in writing in the email xxxx send to I and she say that she be not an adjuster and that be how it work I then ask to speak with an adjuster and she agree to connect I to one I be then put on hold and when she return she say my file have   just be update while I be on hold and that the claim be be deny because textbook have finite life and be undergo revision after course end   I explain that my daughter s course have not end and that I be tell specifically by chase that my textbook purchase would be cover and be again tell they be refuse my claim   by the time the call end I receive an email state that my claim status have be update and be be deny I find this completely outrageous and borderline fraudulent</td>\n",
       "      <td>visa credit card provider claim purchase protection benefit xxxxxxxx school textbook year daughter school book damage water bottle backpack assure textbook claim website file claim request paperwork copy credit card statement copy receipt evidence damage website book catagorie type item claim claim insurance provider information contact business day step process outline email claim submission say claim examiner day day claim information contradictory information provide email send adjuster adjuster hold file hold claim textbook life revision course end daughter s course chase textbook purchase claim time end email state claim status fraudulent</td>\n",
       "      <td>visa credit card provider claim purchase protection benefit  school textbook year daughter school book damage water bottle backpack assure textbook claim website file claim request paperwork copy credit card statement copy receipt evidence damage website book catagorie type item claim claim insurance provider information contact business day step process outline email claim submission say claim examiner day day claim information contradictory information provide email send adjuster adjuster hold file hold claim textbook life revision course end daughter s course chase textbook purchase claim time end email state claim status fraudulent</td>\n",
       "      <td>3</td>\n",
       "    </tr>\n",
       "    <tr>\n",
       "      <th>78310</th>\n",
       "      <td>i am not familiar with xxxx pay and did not understand the great risk this provides to consumers i believed this to be safe as it was through my chase bank app i have been with chase for almost  years and trust their mobile banking and now am sadly regretful i am being told to deal with the merchant except the merchant has refused to answer my inquiries and now shut down communication the website of the said merchant looks entirely legitamite and is even using the faces of highly successful brands with individuals linked to their social media without their consent in performing research of the phone number and other associated information available through pi it is very clear this merchant is continually creating new account title holders to perpetuate this cycle of fraud furthermore as this is a non fixed voip being used i believe they are fraudulently using the identity of the real xxxx xxxx chase bank told me they wouldnt even investigate report this to xxxx or allow me to file a report or take any potential recourse for the matter there isnt even a protocol in place to address this issue yet the chase mobile app verbiage makes a point to deceptively position this app as under the branch of chase banking service and as such imply a degree of entitlement to its customer service protection protocols chase has your back which reads on the very same link as the xxxx tab  is most certainly not true this places consumers at risk when using this mobile service and does not flag the concern of chase in the slightest at minimum the risk of using xxxx on your mobile banking app must realistically be made aware to the public as it stands to be potentially devastating i have plans to file reports with all corresponding authorities as well as notify and contact the individual whose identity is being misused to inform him i also intend to urge my neighbor who works in television that the news network should perhaps present the risk of using xxxx and xxxx integrated banking apps to the public i understand fraud and scamming are overwhelming rampant but a banking mogul such as chase not having any recourse of action is simply a risk that needs to be disclosed more throughly i would not have clicked on the to link to the extent i did if i would have been better informed</td>\n",
       "      <td>I be not familiar with xxxx pay and do not understand the great risk this provide to consumer I believe this to be safe as it be through my chase bank app I have be with chase for almost   year and trust their mobile banking and now be sadly regretful I be be tell to deal with the merchant except the merchant have refuse to answer my inquiry and now shut down communication the website of the say merchant look entirely legitamite and be even use the face of highly successful brand with individual link to their social medium without their consent in perform research of the phone number and other associated information available through pi it be very clear this merchant be continually create new account title holder to perpetuate this cycle of fraud furthermore as this be a non fixed voip be use I believe they be fraudulently use the identity of the real xxxx xxxx chase bank tell I they would not even investigate report this to xxxx or allow I to file a report or take any potential recourse for the matter there be not even a protocol in place to address this issue yet the chase mobile app verbiage make a point to deceptively position this app as under the branch of chase banking service and as such imply a degree of entitlement to its customer service protection protocol chase have your back which read on the very same link as the xxxx tab   be most certainly not true this place consumer at risk when use this mobile service and do not flag the concern of chase in the slight at minimum the risk of use xxxx on your mobile banking app must realistically be make aware to the public as it stand to be potentially devastating I have plan to file report with all correspond authority as well as notify and contact the individual whose identity be be misuse to inform he I also intend to urge my neighbor who work in television that the news network should perhaps present the risk of use xxxx and xxxx integrate banking app to the public I understand fraud and scamming be overwhelm rampant but a banking mogul such as chase not have any recourse of action be simply a risk that need to be disclose more throughly I would not have click on the to link to the extent I do if I would have be well inform</td>\n",
       "      <td>pay risk provide consumer bank app chase year mobile banking merchant merchant inquiry communication website say merchant look face brand link medium consent research phone number information pi merchant account title holder cycle fraud voip identity xxxx bank tell report report recourse matter protocol place issue chase verbiage point position app branch chase banking service degree entitlement customer service protection protocol chase back read link tab place consumer risk use service concern chase slight risk use xxxx banking app public plan report correspond authority individual identity neighbor television news network risk use xxxx integrate banking app public fraud scamming banking mogul chase recourse action risk click extent</td>\n",
       "      <td>pay risk provide consumer bank app chase year mobile banking merchant merchant inquiry communication website say merchant look face brand link medium consent research phone number information pi merchant account title holder cycle fraud voip identity  bank tell report report recourse matter protocol place issue chase verbiage point position app branch chase banking service degree entitlement customer service protection protocol chase back read link tab place consumer risk use service concern chase slight risk use  banking app public plan report correspond authority individual identity neighbor television news network risk use  integrate banking app public fraud scamming banking mogul chase recourse action risk click extent</td>\n",
       "      <td>3</td>\n",
       "    </tr>\n",
       "    <tr>\n",
       "      <th>78311</th>\n",
       "      <td>i have had flawless credit for  yrs ive had chase credit cards  chase freedom  specifically since xxxx with no problems ever ive done many balance transfers in my life so i have plenty of experience i recently did a balance transfer with chase freedom for   did many with other chase cards but apparently not  freeedom   when i got my first bill my minimum payment was  i was shocked i immediately called on xxxxxxxx the representative told me that the min payment was so high bc they were making me pay the  balance transfer fee  up front but my future payments would be around    of total balance  which is standard and the rate they advertise  i went to pay the next payment on xxxxxxxx  was once again shocked to see my minimum payment was  i paid it but i have been trying to work this out with chase ever since apparently the representative was wrong  i am actually expected to pay   instead of the standard   they normally charge bc that was written in my  user agreement  paperwork back in xxxxxxxx  years ago they currently charge   to everyone else in the world my other cards including chase are all   this  is an unreasonable amt to expect someone to pay for  credit card i have kids  many other bills to pay they never warned me they were so  off the charts  with their minimum payment percentage  except for my original paperwork in xxxxxxxx  they offer everyone else   terms they change their  terms  anytime it benefits them but wont budge to lower it to make this payment more affordable  reasonable so i also asked them  as soon as i found this out  to refund my  transfer fee so i could use it to transfer the balance to a different card with a more reasonable minimum payment they refused i also asked if they would transfer to my chase slate card which has   min pmt they also refused they will not work with me at all i am a responsible working person i would like to preserve my good credit i could easily transfer again to a different card but id have to pay another lump sum of  again</td>\n",
       "      <td>I have have flawless credit for   yrs I ve have chase credit card   chase freedom   specifically since xxxx with no problem ever I ve do many balance transfer in my life so I have plenty of experience I recently do a balance transfer with chase freedom for    do many with other chase card but apparently not   freeedom    when I get my first bill my minimum payment be   I be shock I immediately call on xxxxxxxx the representative tell I that the min payment be so high bc they be make I pay the   balance transfer fee   up front but my future payment would be around     of total balance   which be standard and the rate they advertise   I go to pay the next payment on xxxxxxxx   be once again shocked to see my minimum payment be   I pay it but I have be try to work this out with chase ever since apparently the representative be wrong   I be actually expect to pay    instead of the standard    they normally charge bc that be write in my   user agreement   paperwork back in xxxxxxxx   year ago they currently charge    to everyone else in the world my other card include chase be all    this   be an unreasonable amt to expect someone to pay for   credit card I have kid   many other bill to pay they never warn I they be so   off the chart   with their minimum payment percentage   except for my original paperwork in xxxxxxxx   they offer everyone else    term they change their   term   anytime it benefit they but will not budge to lower it to make this payment more affordable   reasonable so I also ask they   as soon as I find this out   to refund my   transfer fee so I could use it to transfer the balance to a different card with a more reasonable minimum payment they refuse I also ask if they would transfer to my chase slate card which have    min pmt they also refuse they will not work with I at all I be a responsible work person I would like to preserve my good credit I could easily transfer again to a different card but i d have to pay another lump sum of   again</td>\n",
       "      <td>credit yrs credit card chase freedom xxxx problem balance transfer life plenty experience balance transfer chase freedom card bill payment representative tell payment bc balance transfer fee payment balance rate payment xxxxxxxx payment chase representative standard agreement paperwork year everyone world amt someone credit card bill chart payment percentage paperwork xxxxxxxx everyone term term payment transfer fee balance card payment slate card pmt work person credit card lump sum</td>\n",
       "      <td>credit yrs credit card chase freedom  problem balance transfer life plenty experience balance transfer chase freedom card bill payment representative tell payment bc balance transfer fee payment balance rate payment  payment chase representative standard agreement paperwork year everyone world amt someone credit card bill chart payment percentage paperwork  everyone term term payment transfer fee balance card payment slate card pmt work person credit card lump sum</td>\n",
       "      <td>2</td>\n",
       "    </tr>\n",
       "    <tr>\n",
       "      <th>78312</th>\n",
       "      <td>roughly  years ago i closed out my accounts with jp morgan chase bank xxxx in order to close out an unsecured line of credit i had to pay it off i did that to close out my account roughly  payment when i closed out the accounts and now i get this late payment that showed up on my credit report after  years stating i owe close to  dollars i have never had any payment schedules or notifications in the  years because i paid it off upon calling them i am told i need to show proof i paid it off i would like to think that if indeed i had not paid it off  which i did  i would have immediately received late payment notifications i left chase bank because of some poor customer service and charges that were way out of line with the other banking institutions</td>\n",
       "      <td>roughly   year ago I close out my account with jp morgan chase bank xxxx in order to close out an unsecured line of credit I have to pay it off I do that to close out my account roughly   payment when I close out the account and now I get this late payment that show up on my credit report after   year state I owe close to   dollar I have never have any payment schedule or notification in the   year because I pay it off upon call they I be tell I need to show proof I pay it off I would like to think that if indeed I have not pay it off   which I do   I would have immediately receive late payment notification I leave chase bank because of some poor customer service and charge that be way out of line with the other banking institution</td>\n",
       "      <td>year account jp bank xxxx order line credit account payment account payment credit report year state dollar payment schedule notification year call payment notification bank customer service charge way line banking institution</td>\n",
       "      <td>year account jp bank  order line credit account payment account payment credit report year state dollar payment schedule notification year call payment notification bank customer service charge way line banking institution</td>\n",
       "      <td>2</td>\n",
       "    </tr>\n",
       "  </tbody>\n",
       "</table>\n",
       "<p>21072 rows × 5 columns</p>\n",
       "</div>"
      ],
      "text/plain": [
       "                                                                                                                                                                                                                                                                                                                                                                                                                                                                                                                                                                                                                                                                                                                                                                                                                                                                                                                                                                                                                                                                                                                                                                                                                                                                                                                                                                                                                                                                                                                                                                                                                                                                                                                                                                                                                                                                                                                                                                                                                                                                                                                                                                                                                                                                                                                                                                                     complaints  \\\n",
       "1                                                                                                                                                                                                                                                                                                                                                                                                                                                                                                                                                                                                                                                                                                                                                                                                                                                                                                                                                                                                                                                                                                                                                                                                                                                                                                                                                                                                                                                                                                                                                                                                                                                                                                                                                                                                                                                                                               good morning my name is xxxx xxxx and i appreciate it if you could help me put a stop to chase bank cardmember services \\nin  i wrote to chase asking for debt verification and what they sent me a statement which is not acceptable i am asking the bank to validate the debt instead i been receiving mail every month from them attempting to collect a debt \\ni have a right to know this information as a consumer \\n\\nchase account  xxxx xxxx xxxx xxxx thanks in advance for your help   \n",
       "2                                                                                                                                                                                                                                                                                                                                                                                                                                                                                                                                                                                                                                                                                                                                                                                                                                                                                                                                                                                                                                                                                                                                                                                                                                                                                                                                                                                                                                                                                                                                                                                                                                                                                                                                                                                                                                                                                                                                                                                                                                             i upgraded my xxxx xxxx card in  and was told by the agent who did the upgrade my anniversary date would not change it turned the agent was giving me the wrong information in order to upgrade the account xxxx   changed my anniversary date from xxxxxxxx to xxxxxxxx without my consent xxxx has the recording of the agent who was misled me   \n",
       "10                                                                                                                                                                                                                                                                                                                                                                                                                                                                                                                                                                                                                                                                                                                                                                                                                                                                                                                                                                                                                                                                                                                                                                                                                                                                                                                                                                                                                                                                                                                                                                                                                                                                                                                                                                                                                                                                                                                                                                                                                                                                                                                                                                           chase card was reported on  however fraudulent application have been submitted my identity without my consent to fraudulently obtain services do not extend credit without verifying the identity of the applicant   \n",
       "11                                                                                                                                                                                                                                                                                                                                                                                                                                                                                                                                                                                                                                                                                                                                                                                                                                                                                                    on  while trying to book a xxxx  xxxx  ticket i came across an offer for  to be applied towards the ticket if i applied for a rewards card i put in my information for the offer and within less than a minute was notified via the screen that a decision could not be made i immediately contacted xxxx and was referred to chase bank i then immediately contacted chase bank within no more than  of getting the notification on the screen and i was told by the chase representative i spoke with that my application was denied but she could not state why i asked for more information about the xxxx  offer and she explained that even if i had been approved the credit offer only gets applied after the first account statement and could not be used to purchase the ticket i then explicitly told her i was glad i got denied and i was absolutely no longer interested in the account i asked that the application be withdrawn and the representative obliged this all happened no later than  after putting in the application on  notwithstanding my explicit request not to proceed with the application and contrary to what i was told by the chase representative chase did in fact go ahead to open a credit account in my name on  this is now being reported in my credit report and chase has refused to correct this information on my credit report even though they went ahead to process an application which i did not consent to and out of their error   \n",
       "14                                                                                                                                                                                                                                                                                                                                                                                                                                                                                                                                                                                                                                                                                                                                                                                                                                                                                                                                                                                                                                                                                                                                                                                                                                                                                                                                                                                                                                                                                                                                                                                                                                                                                                                                                                                                                                                                                                                     my grand son give me check for  i deposit it into my chase account after fund clear my chase bank closed my account never paid me my money they said they need to speek with my grand son check was clear money was taking by my chase bank refuse to pay me my money my grand son called chase  times they told him i should call not him to verify the check owner he is out the country most the time  date happen  check number xxxx claim number is xxxx with chase   \n",
       "...                                                                                                                                                                                                                                                                                                                                                                                                                                                                                                                                                                                                                                                                                                                                                                                                                                                                                                                                                                                                                                                                                                                                                                                                                                                                                                                                                                                                                                                                                                                                                                                                                                                                                                                                                                                                                                                                                                                                                                                                                                                                                                                                                                                                                                                                                                                                                                                         ...   \n",
       "78303                                                                                                                                                                                                                                                                                                                                                                                                                                                                                                                                                                                                                                                                                                                                                                                                                                                                                                                                                                                                                                                                                                                                                                                                                                                                                                                                                                                                                                                                                                                                                                                                                                                                                                              after being a chase card customer for well over a decade was offered multiple solicitations for acquiring new credit cards with chase  all with bonus airline miles and hotel points was approved for all    new cards with no annual fee for  year after less than  months with payment always paid as agreed chase closed all my cards one of my    approved new cards was never activated but was sent to me\\n\\nchase has done harm to my credit has charged me an annual fee even though they cancelled my account failed to credit my points for both airlines and hotel failed to credit up to  for xxxx enrollment and failed to credit airline charge as agreed upon   \n",
       "78309                                                                                                                                                                                                                                       on wednesday xxxxxxxx i called chas my xxxx xxxx visa credit card provider and asked how to make a claim under their purchase protection benefit on xxxxxxxx i purchased three high school textbooks for my xxxx year old daughter because she transferred to a new school all three books were damaged when a water bottle in her backpack broke the chase representative assured me the textbooks would be covered and instructed me to file a claim at xxxx i immediately went to the website and filed the claim including uploading all of the requested paperwork which included a copy of my credit card statement copies of the three receipts and photographic evidence of the damage the website even had  books  as one of the catagories i could list as the type of item they cover and that i could make a claim on after following up repeatedly on my claim since the insurance provider failed to  review my information and contact me within  business days to outline the next steps of the process  as outlined in an email i received acknowledging my claim submission i called to complain the representative said claims are not looked at by an examiner  for eight to ten days  and then it would take  two days to actually review the claim  i responded that this information was contradictory to the information provided in writing in the email xxxx sent to me and she said that she is not an adjuster and that is how it works i then asked to speak with an adjuster and she agreed to connect me to one i was then put on hold and when she returned she said my file had  just been updated while i was on hold and that the claim was being denied because textbooks have finite lives and are undergo revision after courses end  i explained that my daughter s course had not ended and that i was told specifically by chase that my textbook purchases would be covered and was again told they were refusing my claim  by the time the call ended i received an email stating that my claim status had been updated and was being denied i find this completely outrageous and borderline fraudulent   \n",
       "78310  i am not familiar with xxxx pay and did not understand the great risk this provides to consumers i believed this to be safe as it was through my chase bank app i have been with chase for almost  years and trust their mobile banking and now am sadly regretful i am being told to deal with the merchant except the merchant has refused to answer my inquiries and now shut down communication the website of the said merchant looks entirely legitamite and is even using the faces of highly successful brands with individuals linked to their social media without their consent in performing research of the phone number and other associated information available through pi it is very clear this merchant is continually creating new account title holders to perpetuate this cycle of fraud furthermore as this is a non fixed voip being used i believe they are fraudulently using the identity of the real xxxx xxxx chase bank told me they wouldnt even investigate report this to xxxx or allow me to file a report or take any potential recourse for the matter there isnt even a protocol in place to address this issue yet the chase mobile app verbiage makes a point to deceptively position this app as under the branch of chase banking service and as such imply a degree of entitlement to its customer service protection protocols chase has your back which reads on the very same link as the xxxx tab  is most certainly not true this places consumers at risk when using this mobile service and does not flag the concern of chase in the slightest at minimum the risk of using xxxx on your mobile banking app must realistically be made aware to the public as it stands to be potentially devastating i have plans to file reports with all corresponding authorities as well as notify and contact the individual whose identity is being misused to inform him i also intend to urge my neighbor who works in television that the news network should perhaps present the risk of using xxxx and xxxx integrated banking apps to the public i understand fraud and scamming are overwhelming rampant but a banking mogul such as chase not having any recourse of action is simply a risk that needs to be disclosed more throughly i would not have clicked on the to link to the extent i did if i would have been better informed   \n",
       "78311                                                                                                                                                                                                                                                                                                 i have had flawless credit for  yrs ive had chase credit cards  chase freedom  specifically since xxxx with no problems ever ive done many balance transfers in my life so i have plenty of experience i recently did a balance transfer with chase freedom for   did many with other chase cards but apparently not  freeedom   when i got my first bill my minimum payment was  i was shocked i immediately called on xxxxxxxx the representative told me that the min payment was so high bc they were making me pay the  balance transfer fee  up front but my future payments would be around    of total balance  which is standard and the rate they advertise  i went to pay the next payment on xxxxxxxx  was once again shocked to see my minimum payment was  i paid it but i have been trying to work this out with chase ever since apparently the representative was wrong  i am actually expected to pay   instead of the standard   they normally charge bc that was written in my  user agreement  paperwork back in xxxxxxxx  years ago they currently charge   to everyone else in the world my other cards including chase are all   this  is an unreasonable amt to expect someone to pay for  credit card i have kids  many other bills to pay they never warned me they were so  off the charts  with their minimum payment percentage  except for my original paperwork in xxxxxxxx  they offer everyone else   terms they change their  terms  anytime it benefits them but wont budge to lower it to make this payment more affordable  reasonable so i also asked them  as soon as i found this out  to refund my  transfer fee so i could use it to transfer the balance to a different card with a more reasonable minimum payment they refused i also asked if they would transfer to my chase slate card which has   min pmt they also refused they will not work with me at all i am a responsible working person i would like to preserve my good credit i could easily transfer again to a different card but id have to pay another lump sum of  again   \n",
       "78312                                                                                                                                                                                                                                                                                                                                                                                                                                                                                                                                                                                                                                                                                                                                                                                                                                                                                                                                                                                                                                                                                                                                                                                                                                                                                                                                                                                                                                                                                                                                                                                                    roughly  years ago i closed out my accounts with jp morgan chase bank xxxx in order to close out an unsecured line of credit i had to pay it off i did that to close out my account roughly  payment when i closed out the accounts and now i get this late payment that showed up on my credit report after  years stating i owe close to  dollars i have never had any payment schedules or notifications in the  years because i paid it off upon calling them i am told i need to show proof i paid it off i would like to think that if indeed i had not paid it off  which i did  i would have immediately received late payment notifications i left chase bank because of some poor customer service and charges that were way out of line with the other banking institutions   \n",
       "\n",
       "                                                                                                                                                                                                                                                                                                                                                                                                                                                                                                                                                                                                                                                                                                                                                                                                                                                                                                                                                                                                                                                                                                                                                                                                                                                                                                                                                                                                                                                                                                                                                                                                                                                                                                                                                                                                                                                                                                                                                                                                                                                                                                                                                                                                                                                                                            lemmatized complaints  \\\n",
       "1                                                                                                                                                                                                                                                                                                                                                                                                                                                                                                                                                                                                                                                                                                                                                                                                                                                                                                                                                                                                                                                                                                                                                                                                                                                                                                                                                                                                                                                                                                                                                                                                                                                                                                                                                                                                                           good morning my name be xxxx xxxx and I appreciate it if you could help I put a stop to chase bank cardmember service \\n in   I write to chase ask for debt verification and what they send I a statement which be not acceptable I be ask the bank to validate the debt instead I been receive mail every month from they attempt to collect a debt \\n I have a right to know this information as a consumer \\n\\n chase account   xxxx xxxx xxxx xxxx thank in advance for your help   \n",
       "2                                                                                                                                                                                                                                                                                                                                                                                                                                                                                                                                                                                                                                                                                                                                                                                                                                                                                                                                                                                                                                                                                                                                                                                                                                                                                                                                                                                                                                                                                                                                                                                                                                                                                                                                                                                                                                                                                                                                                                       I upgrade my xxxx xxxx card in   and be tell by the agent who do the upgrade my anniversary date would not change it turn the agent be give I the wrong information in order to upgrade the account xxxx    change my anniversary date from xxxxxxxx to xxxxxxxx without my consent xxxx have the recording of the agent who be mislead I   \n",
       "10                                                                                                                                                                                                                                                                                                                                                                                                                                                                                                                                                                                                                                                                                                                                                                                                                                                                                                                                                                                                                                                                                                                                                                                                                                                                                                                                                                                                                                                                                                                                                                                                                                                                                                                                                                                                                                                                                                                                                                                                                                                                                                        chase card be report on   however fraudulent application have be submit my identity without my consent to fraudulently obtain service do not extend credit without verify the identity of the applicant   \n",
       "11                                                                                                                                                                                                                                                                                                                                                                                                                                                                                                                                                                                                                                                                                                                                                                                                                                                                           on   while try to book a xxxx   xxxx   ticket I come across an offer for   to be apply towards the ticket if I apply for a reward card I put in my information for the offer and within less than a minute be notify via the screen that a decision could not be make I immediately contact xxxx and be refer to chase bank I then immediately contact chase bank within no more than   of get the notification on the screen and I be tell by the chase representative I speak with that my application be deny but she could not state why I ask for more information about the xxxx   offer and she explain that even if I have be approve the credit offer only gets apply after the first account statement and could not be use to purchase the ticket I then explicitly tell she I be glad I got deny and I be absolutely no long interested in the account I ask that the application be withdraw and the representative oblige this all happen no later than   after put in the application on   notwithstanding my explicit request not to proceed with the application and contrary to what I be tell by the chase representative chase do in fact go ahead to open a credit account in my name on   this be now be report in my credit report and chase have refuse to correct this information on my credit report even though they go ahead to process an application which I do not consent to and out of their error   \n",
       "14                                                                                                                                                                                                                                                                                                                                                                                                                                                                                                                                                                                                                                                                                                                                                                                                                                                                                                                                                                                                                                                                                                                                                                                                                                                                                                                                                                                                                                                                                                                                                                                                                                                                                                                                                                                                                                                  my grand son give I check for   I deposit it into my chase account after fund clear my chase bank close my account never pay I my money they say they need to speek with my grand son check be clear money be take by my chase bank refuse to pay I my money my grand son call chase   time they tell he I should call not he to verify the check owner he be out the country most the time   date happen   check number xxxx claim number be xxxx with chase   \n",
       "...                                                                                                                                                                                                                                                                                                                                                                                                                                                                                                                                                                                                                                                                                                                                                                                                                                                                                                                                                                                                                                                                                                                                                                                                                                                                                                                                                                                                                                                                                                                                                                                                                                                                                                                                                                                                                                                                                                                                                                                                                                                                                                                                                                                                                                                                                                           ...   \n",
       "78303                                                                                                                                                                                                                                                                                                                                                                                                                                                                                                                                                                                                                                                                                                                                                                                                                                                                                                                                                                                                                                                                                                                                                                                                                                                                                                                                                                                                                                                                                                                                                                                                                                                                after be a chase card customer for well over a decade be offer multiple solicitation for acquire new credit card with chase   all with bonus airline mile and hotel point be approve for all     new card with no annual fee for   year after less than   month with payment always pay as agree chase close all my card one of my     approve new card be never activate but be send to I \\n\\n chase have do harm to my credit have charge I an annual fee even though they cancel my account fail to credit my point for both airline and hotel fail to credit up to   for xxxx enrollment and fail to credit airline charge as agree upon   \n",
       "78309                                                                                                                                                                                                                                                           on wednesday xxxxxxxx I call chas my xxxx xxxx visa credit card provider and ask how to make a claim under their purchase protection benefit on xxxxxxxx I purchase three high school textbook for my xxxx year old daughter because she transfer to a new school all three book be damage when a water bottle in her backpack break the chase representative assure I the textbook would be cover and instruct I to file a claim at xxxx I immediately go to the website and file the claim include upload all of the request paperwork which include a copy of my credit card statement copy of the three receipt and photographic evidence of the damage the website even have   book   as one of the catagorie I could list as the type of item they cover and that I could make a claim on after follow up repeatedly on my claim since the insurance provider fail to   review my information and contact I within   business day to outline the next step of the process   as outline in an email I receive acknowledge my claim submission I call to complain the representative say claim be not look at by an examiner   for eight to ten day   and then it would take   two day to actually review the claim   I respond that this information be contradictory to the information provide in writing in the email xxxx send to I and she say that she be not an adjuster and that be how it work I then ask to speak with an adjuster and she agree to connect I to one I be then put on hold and when she return she say my file have   just be update while I be on hold and that the claim be be deny because textbook have finite life and be undergo revision after course end   I explain that my daughter s course have not end and that I be tell specifically by chase that my textbook purchase would be cover and be again tell they be refuse my claim   by the time the call end I receive an email state that my claim status have be update and be be deny I find this completely outrageous and borderline fraudulent   \n",
       "78310  I be not familiar with xxxx pay and do not understand the great risk this provide to consumer I believe this to be safe as it be through my chase bank app I have be with chase for almost   year and trust their mobile banking and now be sadly regretful I be be tell to deal with the merchant except the merchant have refuse to answer my inquiry and now shut down communication the website of the say merchant look entirely legitamite and be even use the face of highly successful brand with individual link to their social medium without their consent in perform research of the phone number and other associated information available through pi it be very clear this merchant be continually create new account title holder to perpetuate this cycle of fraud furthermore as this be a non fixed voip be use I believe they be fraudulently use the identity of the real xxxx xxxx chase bank tell I they would not even investigate report this to xxxx or allow I to file a report or take any potential recourse for the matter there be not even a protocol in place to address this issue yet the chase mobile app verbiage make a point to deceptively position this app as under the branch of chase banking service and as such imply a degree of entitlement to its customer service protection protocol chase have your back which read on the very same link as the xxxx tab   be most certainly not true this place consumer at risk when use this mobile service and do not flag the concern of chase in the slight at minimum the risk of use xxxx on your mobile banking app must realistically be make aware to the public as it stand to be potentially devastating I have plan to file report with all correspond authority as well as notify and contact the individual whose identity be be misuse to inform he I also intend to urge my neighbor who work in television that the news network should perhaps present the risk of use xxxx and xxxx integrate banking app to the public I understand fraud and scamming be overwhelm rampant but a banking mogul such as chase not have any recourse of action be simply a risk that need to be disclose more throughly I would not have click on the to link to the extent I do if I would have be well inform   \n",
       "78311                                                                                                                                                                                                                                    I have have flawless credit for   yrs I ve have chase credit card   chase freedom   specifically since xxxx with no problem ever I ve do many balance transfer in my life so I have plenty of experience I recently do a balance transfer with chase freedom for    do many with other chase card but apparently not   freeedom    when I get my first bill my minimum payment be   I be shock I immediately call on xxxxxxxx the representative tell I that the min payment be so high bc they be make I pay the   balance transfer fee   up front but my future payment would be around     of total balance   which be standard and the rate they advertise   I go to pay the next payment on xxxxxxxx   be once again shocked to see my minimum payment be   I pay it but I have be try to work this out with chase ever since apparently the representative be wrong   I be actually expect to pay    instead of the standard    they normally charge bc that be write in my   user agreement   paperwork back in xxxxxxxx   year ago they currently charge    to everyone else in the world my other card include chase be all    this   be an unreasonable amt to expect someone to pay for   credit card I have kid   many other bill to pay they never warn I they be so   off the chart   with their minimum payment percentage   except for my original paperwork in xxxxxxxx   they offer everyone else    term they change their   term   anytime it benefit they but will not budge to lower it to make this payment more affordable   reasonable so I also ask they   as soon as I find this out   to refund my   transfer fee so I could use it to transfer the balance to a different card with a more reasonable minimum payment they refuse I also ask if they would transfer to my chase slate card which have    min pmt they also refuse they will not work with I at all I be a responsible work person I would like to preserve my good credit I could easily transfer again to a different card but i d have to pay another lump sum of   again   \n",
       "78312                                                                                                                                                                                                                                                                                                                                                                                                                                                                                                                                                                                                                                                                                                                                                                                                                                                                                                                                                                                                                                                                                                                                                                                                                                                                                                                                                                                                                                                                                                                                       roughly   year ago I close out my account with jp morgan chase bank xxxx in order to close out an unsecured line of credit I have to pay it off I do that to close out my account roughly   payment when I close out the account and now I get this late payment that show up on my credit report after   year state I owe close to   dollar I have never have any payment schedule or notification in the   year because I pay it off upon call they I be tell I need to show proof I pay it off I would like to think that if indeed I have not pay it off   which I do   I would have immediately receive late payment notification I leave chase bank because of some poor customer service and charge that be way out of line with the other banking institution   \n",
       "\n",
       "                                                                                                                                                                                                                                                                                                                                                                                                                                                                                                                                                                                                                                                                                                                                                          complaint_POS_removed  \\\n",
       "1                                                                                                                                                                                                                                                                                                                                                                                                                                                                                                                                                                                                               morning name stop bank cardmember service ask debt verification statement bank debt mail month debt right information consumer chase account thank advance help   \n",
       "2                                                                                                                                                                                                                                                                                                                                                                                                                                                                                                                                                                                                                                                                     card agent upgrade date agent information order account change date xxxxxxxx consent xxxx recording agent   \n",
       "10                                                                                                                                                                                                                                                                                                                                                                                                                                                                                                                                                                                                                                                                                                   card report application identity consent service credit identity applicant   \n",
       "11                                                                                                                                                                                                                                                                                                                                               try book xxxx ticket offer ticket card information offer minute screen decision bank chase bank notification screen chase representative application state information xxxx offer credit offer account statement use ticket account application representative oblige put application explicit request application chase chase fact credit account name report credit report chase information credit report application error   \n",
       "14                                                                                                                                                                                                                                                                                                                                                                                                                                                                                                                                                                                                            son chase account fund bank account pay money son check money bank refuse money son call chase time check owner country time date check number claim number chase   \n",
       "...                                                                                                                                                                                                                                                                                                                                                                                                                                                                                                                                                                                                                                                                                                                                                                         ...   \n",
       "78303                                                                                                                                                                                                                                                                                                                                                                                                                                                                                                                                                     card customer decade solicitation credit card chase airline mile hotel point card fee year month payment chase card card credit charge fee account credit point airline hotel credit enrollment credit airline charge   \n",
       "78309                                                                                               visa credit card provider claim purchase protection benefit xxxxxxxx school textbook year daughter school book damage water bottle backpack assure textbook claim website file claim request paperwork copy credit card statement copy receipt evidence damage website book catagorie type item claim claim insurance provider information contact business day step process outline email claim submission say claim examiner day day claim information contradictory information provide email send adjuster adjuster hold file hold claim textbook life revision course end daughter s course chase textbook purchase claim time end email state claim status fraudulent   \n",
       "78310  pay risk provide consumer bank app chase year mobile banking merchant merchant inquiry communication website say merchant look face brand link medium consent research phone number information pi merchant account title holder cycle fraud voip identity xxxx bank tell report report recourse matter protocol place issue chase verbiage point position app branch chase banking service degree entitlement customer service protection protocol chase back read link tab place consumer risk use service concern chase slight risk use xxxx banking app public plan report correspond authority individual identity neighbor television news network risk use xxxx integrate banking app public fraud scamming banking mogul chase recourse action risk click extent   \n",
       "78311                                                                                                                                                                                                                                                                  credit yrs credit card chase freedom xxxx problem balance transfer life plenty experience balance transfer chase freedom card bill payment representative tell payment bc balance transfer fee payment balance rate payment xxxxxxxx payment chase representative standard agreement paperwork year everyone world amt someone credit card bill chart payment percentage paperwork xxxxxxxx everyone term term payment transfer fee balance card payment slate card pmt work person credit card lump sum   \n",
       "78312                                                                                                                                                                                                                                                                                                                                                                                                                                                                                                                                        year account jp bank xxxx order line credit account payment account payment credit report year state dollar payment schedule notification year call payment notification bank customer service charge way line banking institution   \n",
       "\n",
       "                                                                                                                                                                                                                                                                                                                                                                                                                                                                                                                                                                                                                                                                                                                                                    Complaint_clean  \\\n",
       "1                                                                                                                                                                                                                                                                                                                                                                                                                                                                                                                                                                                                   morning name stop bank cardmember service ask debt verification statement bank debt mail month debt right information consumer chase account thank advance help   \n",
       "2                                                                                                                                                                                                                                                                                                                                                                                                                                                                                                                                                                                                                                                                     card agent upgrade date agent information order account change date  consent  recording agent   \n",
       "10                                                                                                                                                                                                                                                                                                                                                                                                                                                                                                                                                                                                                                                                                       card report application identity consent service credit identity applicant   \n",
       "11                                                                                                                                                                                                                                                                                                                                           try book  ticket offer ticket card information offer minute screen decision bank chase bank notification screen chase representative application state information  offer credit offer account statement use ticket account application representative oblige put application explicit request application chase chase fact credit account name report credit report chase information credit report application error   \n",
       "14                                                                                                                                                                                                                                                                                                                                                                                                                                                                                                                                                                                                son chase account fund bank account pay money son check money bank refuse money son call chase time check owner country time date check number claim number chase   \n",
       "...                                                                                                                                                                                                                                                                                                                                                                                                                                                                                                                                                                                                                                                                                                                                                             ...   \n",
       "78303                                                                                                                                                                                                                                                                                                                                                                                                                                                                                                                                         card customer decade solicitation credit card chase airline mile hotel point card fee year month payment chase card card credit charge fee account credit point airline hotel credit enrollment credit airline charge   \n",
       "78309                                                                                           visa credit card provider claim purchase protection benefit  school textbook year daughter school book damage water bottle backpack assure textbook claim website file claim request paperwork copy credit card statement copy receipt evidence damage website book catagorie type item claim claim insurance provider information contact business day step process outline email claim submission say claim examiner day day claim information contradictory information provide email send adjuster adjuster hold file hold claim textbook life revision course end daughter s course chase textbook purchase claim time end email state claim status fraudulent   \n",
       "78310  pay risk provide consumer bank app chase year mobile banking merchant merchant inquiry communication website say merchant look face brand link medium consent research phone number information pi merchant account title holder cycle fraud voip identity  bank tell report report recourse matter protocol place issue chase verbiage point position app branch chase banking service degree entitlement customer service protection protocol chase back read link tab place consumer risk use service concern chase slight risk use  banking app public plan report correspond authority individual identity neighbor television news network risk use  integrate banking app public fraud scamming banking mogul chase recourse action risk click extent   \n",
       "78311                                                                                                                                                                                                                                                                          credit yrs credit card chase freedom  problem balance transfer life plenty experience balance transfer chase freedom card bill payment representative tell payment bc balance transfer fee payment balance rate payment  payment chase representative standard agreement paperwork year everyone world amt someone credit card bill chart payment percentage paperwork  everyone term term payment transfer fee balance card payment slate card pmt work person credit card lump sum   \n",
       "78312                                                                                                                                                                                                                                                                                                                                                                                                                                                                                                                                year account jp bank  order line credit account payment account payment credit report year state dollar payment schedule notification year call payment notification bank customer service charge way line banking institution   \n",
       "\n",
       "       Topic  \n",
       "1          0  \n",
       "2          1  \n",
       "10         1  \n",
       "11         1  \n",
       "14         0  \n",
       "...      ...  \n",
       "78303      1  \n",
       "78309      3  \n",
       "78310      3  \n",
       "78311      2  \n",
       "78312      2  \n",
       "\n",
       "[21072 rows x 5 columns]"
      ]
     },
     "execution_count": 55,
     "metadata": {},
     "output_type": "execute_result"
    }
   ],
   "source": [
    "df_clean"
   ]
  },
  {
   "cell_type": "code",
   "execution_count": 56,
   "metadata": {
    "id": "Xx-FrbkWJrGH"
   },
   "outputs": [],
   "source": [
    "#Keep the columns\"complaint_what_happened\" & \"Topic\" only in the new dataframe --> training_data\n",
    "training_data=df_clean[['complaints','Topic']]"
   ]
  },
  {
   "cell_type": "code",
   "execution_count": 57,
   "metadata": {
    "id": "lVg2pa12JrGI"
   },
   "outputs": [
    {
     "data": {
      "text/html": [
       "<div>\n",
       "<style scoped>\n",
       "    .dataframe tbody tr th:only-of-type {\n",
       "        vertical-align: middle;\n",
       "    }\n",
       "\n",
       "    .dataframe tbody tr th {\n",
       "        vertical-align: top;\n",
       "    }\n",
       "\n",
       "    .dataframe thead th {\n",
       "        text-align: right;\n",
       "    }\n",
       "</style>\n",
       "<table border=\"1\" class=\"dataframe\">\n",
       "  <thead>\n",
       "    <tr style=\"text-align: right;\">\n",
       "      <th></th>\n",
       "      <th>complaints</th>\n",
       "      <th>Topic</th>\n",
       "    </tr>\n",
       "  </thead>\n",
       "  <tbody>\n",
       "    <tr>\n",
       "      <th>1</th>\n",
       "      <td>good morning my name is xxxx xxxx and i appreciate it if you could help me put a stop to chase bank cardmember services \\nin  i wrote to chase asking for debt verification and what they sent me a statement which is not acceptable i am asking the bank to validate the debt instead i been receiving mail every month from them attempting to collect a debt \\ni have a right to know this information as a consumer \\n\\nchase account  xxxx xxxx xxxx xxxx thanks in advance for your help</td>\n",
       "      <td>0</td>\n",
       "    </tr>\n",
       "    <tr>\n",
       "      <th>2</th>\n",
       "      <td>i upgraded my xxxx xxxx card in  and was told by the agent who did the upgrade my anniversary date would not change it turned the agent was giving me the wrong information in order to upgrade the account xxxx   changed my anniversary date from xxxxxxxx to xxxxxxxx without my consent xxxx has the recording of the agent who was misled me</td>\n",
       "      <td>1</td>\n",
       "    </tr>\n",
       "    <tr>\n",
       "      <th>10</th>\n",
       "      <td>chase card was reported on  however fraudulent application have been submitted my identity without my consent to fraudulently obtain services do not extend credit without verifying the identity of the applicant</td>\n",
       "      <td>1</td>\n",
       "    </tr>\n",
       "    <tr>\n",
       "      <th>11</th>\n",
       "      <td>on  while trying to book a xxxx  xxxx  ticket i came across an offer for  to be applied towards the ticket if i applied for a rewards card i put in my information for the offer and within less than a minute was notified via the screen that a decision could not be made i immediately contacted xxxx and was referred to chase bank i then immediately contacted chase bank within no more than  of getting the notification on the screen and i was told by the chase representative i spoke with that my application was denied but she could not state why i asked for more information about the xxxx  offer and she explained that even if i had been approved the credit offer only gets applied after the first account statement and could not be used to purchase the ticket i then explicitly told her i was glad i got denied and i was absolutely no longer interested in the account i asked that the application be withdrawn and the representative obliged this all happened no later than  after putting in the application on  notwithstanding my explicit request not to proceed with the application and contrary to what i was told by the chase representative chase did in fact go ahead to open a credit account in my name on  this is now being reported in my credit report and chase has refused to correct this information on my credit report even though they went ahead to process an application which i did not consent to and out of their error</td>\n",
       "      <td>1</td>\n",
       "    </tr>\n",
       "    <tr>\n",
       "      <th>14</th>\n",
       "      <td>my grand son give me check for  i deposit it into my chase account after fund clear my chase bank closed my account never paid me my money they said they need to speek with my grand son check was clear money was taking by my chase bank refuse to pay me my money my grand son called chase  times they told him i should call not him to verify the check owner he is out the country most the time  date happen  check number xxxx claim number is xxxx with chase</td>\n",
       "      <td>0</td>\n",
       "    </tr>\n",
       "    <tr>\n",
       "      <th>...</th>\n",
       "      <td>...</td>\n",
       "      <td>...</td>\n",
       "    </tr>\n",
       "    <tr>\n",
       "      <th>78303</th>\n",
       "      <td>after being a chase card customer for well over a decade was offered multiple solicitations for acquiring new credit cards with chase  all with bonus airline miles and hotel points was approved for all    new cards with no annual fee for  year after less than  months with payment always paid as agreed chase closed all my cards one of my    approved new cards was never activated but was sent to me\\n\\nchase has done harm to my credit has charged me an annual fee even though they cancelled my account failed to credit my points for both airlines and hotel failed to credit up to  for xxxx enrollment and failed to credit airline charge as agreed upon</td>\n",
       "      <td>1</td>\n",
       "    </tr>\n",
       "    <tr>\n",
       "      <th>78309</th>\n",
       "      <td>on wednesday xxxxxxxx i called chas my xxxx xxxx visa credit card provider and asked how to make a claim under their purchase protection benefit on xxxxxxxx i purchased three high school textbooks for my xxxx year old daughter because she transferred to a new school all three books were damaged when a water bottle in her backpack broke the chase representative assured me the textbooks would be covered and instructed me to file a claim at xxxx i immediately went to the website and filed the claim including uploading all of the requested paperwork which included a copy of my credit card statement copies of the three receipts and photographic evidence of the damage the website even had  books  as one of the catagories i could list as the type of item they cover and that i could make a claim on after following up repeatedly on my claim since the insurance provider failed to  review my information and contact me within  business days to outline the next steps of the process  as outlined in an email i received acknowledging my claim submission i called to complain the representative said claims are not looked at by an examiner  for eight to ten days  and then it would take  two days to actually review the claim  i responded that this information was contradictory to the information provided in writing in the email xxxx sent to me and she said that she is not an adjuster and that is how it works i then asked to speak with an adjuster and she agreed to connect me to one i was then put on hold and when she returned she said my file had  just been updated while i was on hold and that the claim was being denied because textbooks have finite lives and are undergo revision after courses end  i explained that my daughter s course had not ended and that i was told specifically by chase that my textbook purchases would be covered and was again told they were refusing my claim  by the time the call ended i received an email stating that my claim status had been updated and was being denied i find this completely outrageous and borderline fraudulent</td>\n",
       "      <td>3</td>\n",
       "    </tr>\n",
       "    <tr>\n",
       "      <th>78310</th>\n",
       "      <td>i am not familiar with xxxx pay and did not understand the great risk this provides to consumers i believed this to be safe as it was through my chase bank app i have been with chase for almost  years and trust their mobile banking and now am sadly regretful i am being told to deal with the merchant except the merchant has refused to answer my inquiries and now shut down communication the website of the said merchant looks entirely legitamite and is even using the faces of highly successful brands with individuals linked to their social media without their consent in performing research of the phone number and other associated information available through pi it is very clear this merchant is continually creating new account title holders to perpetuate this cycle of fraud furthermore as this is a non fixed voip being used i believe they are fraudulently using the identity of the real xxxx xxxx chase bank told me they wouldnt even investigate report this to xxxx or allow me to file a report or take any potential recourse for the matter there isnt even a protocol in place to address this issue yet the chase mobile app verbiage makes a point to deceptively position this app as under the branch of chase banking service and as such imply a degree of entitlement to its customer service protection protocols chase has your back which reads on the very same link as the xxxx tab  is most certainly not true this places consumers at risk when using this mobile service and does not flag the concern of chase in the slightest at minimum the risk of using xxxx on your mobile banking app must realistically be made aware to the public as it stands to be potentially devastating i have plans to file reports with all corresponding authorities as well as notify and contact the individual whose identity is being misused to inform him i also intend to urge my neighbor who works in television that the news network should perhaps present the risk of using xxxx and xxxx integrated banking apps to the public i understand fraud and scamming are overwhelming rampant but a banking mogul such as chase not having any recourse of action is simply a risk that needs to be disclosed more throughly i would not have clicked on the to link to the extent i did if i would have been better informed</td>\n",
       "      <td>3</td>\n",
       "    </tr>\n",
       "    <tr>\n",
       "      <th>78311</th>\n",
       "      <td>i have had flawless credit for  yrs ive had chase credit cards  chase freedom  specifically since xxxx with no problems ever ive done many balance transfers in my life so i have plenty of experience i recently did a balance transfer with chase freedom for   did many with other chase cards but apparently not  freeedom   when i got my first bill my minimum payment was  i was shocked i immediately called on xxxxxxxx the representative told me that the min payment was so high bc they were making me pay the  balance transfer fee  up front but my future payments would be around    of total balance  which is standard and the rate they advertise  i went to pay the next payment on xxxxxxxx  was once again shocked to see my minimum payment was  i paid it but i have been trying to work this out with chase ever since apparently the representative was wrong  i am actually expected to pay   instead of the standard   they normally charge bc that was written in my  user agreement  paperwork back in xxxxxxxx  years ago they currently charge   to everyone else in the world my other cards including chase are all   this  is an unreasonable amt to expect someone to pay for  credit card i have kids  many other bills to pay they never warned me they were so  off the charts  with their minimum payment percentage  except for my original paperwork in xxxxxxxx  they offer everyone else   terms they change their  terms  anytime it benefits them but wont budge to lower it to make this payment more affordable  reasonable so i also asked them  as soon as i found this out  to refund my  transfer fee so i could use it to transfer the balance to a different card with a more reasonable minimum payment they refused i also asked if they would transfer to my chase slate card which has   min pmt they also refused they will not work with me at all i am a responsible working person i would like to preserve my good credit i could easily transfer again to a different card but id have to pay another lump sum of  again</td>\n",
       "      <td>2</td>\n",
       "    </tr>\n",
       "    <tr>\n",
       "      <th>78312</th>\n",
       "      <td>roughly  years ago i closed out my accounts with jp morgan chase bank xxxx in order to close out an unsecured line of credit i had to pay it off i did that to close out my account roughly  payment when i closed out the accounts and now i get this late payment that showed up on my credit report after  years stating i owe close to  dollars i have never had any payment schedules or notifications in the  years because i paid it off upon calling them i am told i need to show proof i paid it off i would like to think that if indeed i had not paid it off  which i did  i would have immediately received late payment notifications i left chase bank because of some poor customer service and charges that were way out of line with the other banking institutions</td>\n",
       "      <td>2</td>\n",
       "    </tr>\n",
       "  </tbody>\n",
       "</table>\n",
       "<p>21072 rows × 2 columns</p>\n",
       "</div>"
      ],
      "text/plain": [
       "                                                                                                                                                                                                                                                                                                                                                                                                                                                                                                                                                                                                                                                                                                                                                                                                                                                                                                                                                                                                                                                                                                                                                                                                                                                                                                                                                                                                                                                                                                                                                                                                                                                                                                                                                                                                                                                                                                                                                                                                                                                                                                                                                                                                                                                                                                                                                                                     complaints  \\\n",
       "1                                                                                                                                                                                                                                                                                                                                                                                                                                                                                                                                                                                                                                                                                                                                                                                                                                                                                                                                                                                                                                                                                                                                                                                                                                                                                                                                                                                                                                                                                                                                                                                                                                                                                                                                                                                                                                                                                               good morning my name is xxxx xxxx and i appreciate it if you could help me put a stop to chase bank cardmember services \\nin  i wrote to chase asking for debt verification and what they sent me a statement which is not acceptable i am asking the bank to validate the debt instead i been receiving mail every month from them attempting to collect a debt \\ni have a right to know this information as a consumer \\n\\nchase account  xxxx xxxx xxxx xxxx thanks in advance for your help   \n",
       "2                                                                                                                                                                                                                                                                                                                                                                                                                                                                                                                                                                                                                                                                                                                                                                                                                                                                                                                                                                                                                                                                                                                                                                                                                                                                                                                                                                                                                                                                                                                                                                                                                                                                                                                                                                                                                                                                                                                                                                                                                                             i upgraded my xxxx xxxx card in  and was told by the agent who did the upgrade my anniversary date would not change it turned the agent was giving me the wrong information in order to upgrade the account xxxx   changed my anniversary date from xxxxxxxx to xxxxxxxx without my consent xxxx has the recording of the agent who was misled me   \n",
       "10                                                                                                                                                                                                                                                                                                                                                                                                                                                                                                                                                                                                                                                                                                                                                                                                                                                                                                                                                                                                                                                                                                                                                                                                                                                                                                                                                                                                                                                                                                                                                                                                                                                                                                                                                                                                                                                                                                                                                                                                                                                                                                                                                                           chase card was reported on  however fraudulent application have been submitted my identity without my consent to fraudulently obtain services do not extend credit without verifying the identity of the applicant   \n",
       "11                                                                                                                                                                                                                                                                                                                                                                                                                                                                                                                                                                                                                                                                                                                                                                                                                                                                                                    on  while trying to book a xxxx  xxxx  ticket i came across an offer for  to be applied towards the ticket if i applied for a rewards card i put in my information for the offer and within less than a minute was notified via the screen that a decision could not be made i immediately contacted xxxx and was referred to chase bank i then immediately contacted chase bank within no more than  of getting the notification on the screen and i was told by the chase representative i spoke with that my application was denied but she could not state why i asked for more information about the xxxx  offer and she explained that even if i had been approved the credit offer only gets applied after the first account statement and could not be used to purchase the ticket i then explicitly told her i was glad i got denied and i was absolutely no longer interested in the account i asked that the application be withdrawn and the representative obliged this all happened no later than  after putting in the application on  notwithstanding my explicit request not to proceed with the application and contrary to what i was told by the chase representative chase did in fact go ahead to open a credit account in my name on  this is now being reported in my credit report and chase has refused to correct this information on my credit report even though they went ahead to process an application which i did not consent to and out of their error   \n",
       "14                                                                                                                                                                                                                                                                                                                                                                                                                                                                                                                                                                                                                                                                                                                                                                                                                                                                                                                                                                                                                                                                                                                                                                                                                                                                                                                                                                                                                                                                                                                                                                                                                                                                                                                                                                                                                                                                                                                     my grand son give me check for  i deposit it into my chase account after fund clear my chase bank closed my account never paid me my money they said they need to speek with my grand son check was clear money was taking by my chase bank refuse to pay me my money my grand son called chase  times they told him i should call not him to verify the check owner he is out the country most the time  date happen  check number xxxx claim number is xxxx with chase   \n",
       "...                                                                                                                                                                                                                                                                                                                                                                                                                                                                                                                                                                                                                                                                                                                                                                                                                                                                                                                                                                                                                                                                                                                                                                                                                                                                                                                                                                                                                                                                                                                                                                                                                                                                                                                                                                                                                                                                                                                                                                                                                                                                                                                                                                                                                                                                                                                                                                                         ...   \n",
       "78303                                                                                                                                                                                                                                                                                                                                                                                                                                                                                                                                                                                                                                                                                                                                                                                                                                                                                                                                                                                                                                                                                                                                                                                                                                                                                                                                                                                                                                                                                                                                                                                                                                                                                                              after being a chase card customer for well over a decade was offered multiple solicitations for acquiring new credit cards with chase  all with bonus airline miles and hotel points was approved for all    new cards with no annual fee for  year after less than  months with payment always paid as agreed chase closed all my cards one of my    approved new cards was never activated but was sent to me\\n\\nchase has done harm to my credit has charged me an annual fee even though they cancelled my account failed to credit my points for both airlines and hotel failed to credit up to  for xxxx enrollment and failed to credit airline charge as agreed upon   \n",
       "78309                                                                                                                                                                                                                                       on wednesday xxxxxxxx i called chas my xxxx xxxx visa credit card provider and asked how to make a claim under their purchase protection benefit on xxxxxxxx i purchased three high school textbooks for my xxxx year old daughter because she transferred to a new school all three books were damaged when a water bottle in her backpack broke the chase representative assured me the textbooks would be covered and instructed me to file a claim at xxxx i immediately went to the website and filed the claim including uploading all of the requested paperwork which included a copy of my credit card statement copies of the three receipts and photographic evidence of the damage the website even had  books  as one of the catagories i could list as the type of item they cover and that i could make a claim on after following up repeatedly on my claim since the insurance provider failed to  review my information and contact me within  business days to outline the next steps of the process  as outlined in an email i received acknowledging my claim submission i called to complain the representative said claims are not looked at by an examiner  for eight to ten days  and then it would take  two days to actually review the claim  i responded that this information was contradictory to the information provided in writing in the email xxxx sent to me and she said that she is not an adjuster and that is how it works i then asked to speak with an adjuster and she agreed to connect me to one i was then put on hold and when she returned she said my file had  just been updated while i was on hold and that the claim was being denied because textbooks have finite lives and are undergo revision after courses end  i explained that my daughter s course had not ended and that i was told specifically by chase that my textbook purchases would be covered and was again told they were refusing my claim  by the time the call ended i received an email stating that my claim status had been updated and was being denied i find this completely outrageous and borderline fraudulent   \n",
       "78310  i am not familiar with xxxx pay and did not understand the great risk this provides to consumers i believed this to be safe as it was through my chase bank app i have been with chase for almost  years and trust their mobile banking and now am sadly regretful i am being told to deal with the merchant except the merchant has refused to answer my inquiries and now shut down communication the website of the said merchant looks entirely legitamite and is even using the faces of highly successful brands with individuals linked to their social media without their consent in performing research of the phone number and other associated information available through pi it is very clear this merchant is continually creating new account title holders to perpetuate this cycle of fraud furthermore as this is a non fixed voip being used i believe they are fraudulently using the identity of the real xxxx xxxx chase bank told me they wouldnt even investigate report this to xxxx or allow me to file a report or take any potential recourse for the matter there isnt even a protocol in place to address this issue yet the chase mobile app verbiage makes a point to deceptively position this app as under the branch of chase banking service and as such imply a degree of entitlement to its customer service protection protocols chase has your back which reads on the very same link as the xxxx tab  is most certainly not true this places consumers at risk when using this mobile service and does not flag the concern of chase in the slightest at minimum the risk of using xxxx on your mobile banking app must realistically be made aware to the public as it stands to be potentially devastating i have plans to file reports with all corresponding authorities as well as notify and contact the individual whose identity is being misused to inform him i also intend to urge my neighbor who works in television that the news network should perhaps present the risk of using xxxx and xxxx integrated banking apps to the public i understand fraud and scamming are overwhelming rampant but a banking mogul such as chase not having any recourse of action is simply a risk that needs to be disclosed more throughly i would not have clicked on the to link to the extent i did if i would have been better informed   \n",
       "78311                                                                                                                                                                                                                                                                                                 i have had flawless credit for  yrs ive had chase credit cards  chase freedom  specifically since xxxx with no problems ever ive done many balance transfers in my life so i have plenty of experience i recently did a balance transfer with chase freedom for   did many with other chase cards but apparently not  freeedom   when i got my first bill my minimum payment was  i was shocked i immediately called on xxxxxxxx the representative told me that the min payment was so high bc they were making me pay the  balance transfer fee  up front but my future payments would be around    of total balance  which is standard and the rate they advertise  i went to pay the next payment on xxxxxxxx  was once again shocked to see my minimum payment was  i paid it but i have been trying to work this out with chase ever since apparently the representative was wrong  i am actually expected to pay   instead of the standard   they normally charge bc that was written in my  user agreement  paperwork back in xxxxxxxx  years ago they currently charge   to everyone else in the world my other cards including chase are all   this  is an unreasonable amt to expect someone to pay for  credit card i have kids  many other bills to pay they never warned me they were so  off the charts  with their minimum payment percentage  except for my original paperwork in xxxxxxxx  they offer everyone else   terms they change their  terms  anytime it benefits them but wont budge to lower it to make this payment more affordable  reasonable so i also asked them  as soon as i found this out  to refund my  transfer fee so i could use it to transfer the balance to a different card with a more reasonable minimum payment they refused i also asked if they would transfer to my chase slate card which has   min pmt they also refused they will not work with me at all i am a responsible working person i would like to preserve my good credit i could easily transfer again to a different card but id have to pay another lump sum of  again   \n",
       "78312                                                                                                                                                                                                                                                                                                                                                                                                                                                                                                                                                                                                                                                                                                                                                                                                                                                                                                                                                                                                                                                                                                                                                                                                                                                                                                                                                                                                                                                                                                                                                                                                    roughly  years ago i closed out my accounts with jp morgan chase bank xxxx in order to close out an unsecured line of credit i had to pay it off i did that to close out my account roughly  payment when i closed out the accounts and now i get this late payment that showed up on my credit report after  years stating i owe close to  dollars i have never had any payment schedules or notifications in the  years because i paid it off upon calling them i am told i need to show proof i paid it off i would like to think that if indeed i had not paid it off  which i did  i would have immediately received late payment notifications i left chase bank because of some poor customer service and charges that were way out of line with the other banking institutions   \n",
       "\n",
       "       Topic  \n",
       "1          0  \n",
       "2          1  \n",
       "10         1  \n",
       "11         1  \n",
       "14         0  \n",
       "...      ...  \n",
       "78303      1  \n",
       "78309      3  \n",
       "78310      3  \n",
       "78311      2  \n",
       "78312      2  \n",
       "\n",
       "[21072 rows x 2 columns]"
      ]
     },
     "execution_count": 57,
     "metadata": {},
     "output_type": "execute_result"
    }
   ],
   "source": [
    "training_data"
   ]
  },
  {
   "cell_type": "markdown",
   "metadata": {
    "id": "280Vbqk-7a8M"
   },
   "source": [
    "####Apply the supervised models on the training data created. In this process, you have to do the following:\n",
    "* Create the vector counts using Count Vectoriser\n",
    "* Transform the word vecotr to tf-idf\n",
    "* Create the train & test data using the train_test_split on the tf-idf & topics\n"
   ]
  },
  {
   "cell_type": "code",
   "execution_count": 58,
   "metadata": {},
   "outputs": [],
   "source": [
    "from sklearn.feature_extraction.text import CountVectorizer\n",
    "from sklearn.feature_extraction.text import TfidfTransformer"
   ]
  },
  {
   "cell_type": "code",
   "execution_count": 59,
   "metadata": {
    "id": "oUlQpgkzJrGI"
   },
   "outputs": [],
   "source": [
    "\n",
    "#Write your code to get the Vector count\n",
    "cvectorizer=CountVectorizer()\n",
    "vector_complaints=cvectorizer.fit_transform(training_data['complaints'])\n",
    "\n",
    "#Write your code here to transform the word vector to tf-idf\n",
    "tfidftransformer=TfidfTransformer()\n",
    "tfidf_complaints=tfidftransformer.fit_transform(vector_complaints)\n",
    "\n",
    "#Write your code here to transform the word vector to tf-idf"
   ]
  },
  {
   "cell_type": "markdown",
   "metadata": {
    "id": "uMU3vj6w-wqL"
   },
   "source": [
    "You have to try atleast 3 models on the train & test data from these options:\n",
    "* Logistic regression\n",
    "* Decision Tree\n",
    "* Random Forest\n",
    "* Naive Bayes (optional)\n",
    "\n",
    "**Using the required evaluation metrics judge the tried models and select the ones performing the best**"
   ]
  },
  {
   "cell_type": "code",
   "execution_count": 60,
   "metadata": {
    "id": "udLHpPsZJrGI"
   },
   "outputs": [],
   "source": [
    "# Write your code here to build any 3 models and evaluate them using the required metrics\n",
    "import sklearn\n",
    "from sklearn.linear_model import LogisticRegression\n",
    "from sklearn.model_selection import train_test_split\n",
    "from sklearn import metrics\n",
    "from sklearn.model_selection import GridSearchCV"
   ]
  },
  {
   "cell_type": "markdown",
   "metadata": {},
   "source": [
    "### Logistic Regression"
   ]
  },
  {
   "cell_type": "code",
   "execution_count": 61,
   "metadata": {
    "id": "N2OznsObJrGP"
   },
   "outputs": [],
   "source": [
    "X_train,X_test,y_train,y_test=train_test_split(tfidf_complaints,training_data['Topic'],train_size=0.7)"
   ]
  },
  {
   "cell_type": "code",
   "execution_count": 62,
   "metadata": {},
   "outputs": [],
   "source": [
    "model=LogisticRegression(random_state=42)"
   ]
  },
  {
   "cell_type": "code",
   "execution_count": 63,
   "metadata": {},
   "outputs": [
    {
     "name": "stderr",
     "output_type": "stream",
     "text": [
      "/opt/anaconda3/lib/python3.9/site-packages/sklearn/linear_model/_logistic.py:763: ConvergenceWarning:\n",
      "\n",
      "lbfgs failed to converge (status=1):\n",
      "STOP: TOTAL NO. of ITERATIONS REACHED LIMIT.\n",
      "\n",
      "Increase the number of iterations (max_iter) or scale the data as shown in:\n",
      "    https://scikit-learn.org/stable/modules/preprocessing.html\n",
      "Please also refer to the documentation for alternative solver options:\n",
      "    https://scikit-learn.org/stable/modules/linear_model.html#logistic-regression\n",
      "\n"
     ]
    }
   ],
   "source": [
    "## Fitting the model\n",
    "model=model.fit(X_train,y_train)"
   ]
  },
  {
   "cell_type": "code",
   "execution_count": 64,
   "metadata": {},
   "outputs": [],
   "source": [
    "##Preedicting on the test data\n",
    "y_test_pred=model.predict(X_test)"
   ]
  },
  {
   "cell_type": "code",
   "execution_count": 65,
   "metadata": {},
   "outputs": [
    {
     "name": "stdout",
     "output_type": "stream",
     "text": [
      "Accuracy on test data 0.926763682378994\n"
     ]
    }
   ],
   "source": [
    "## Accuracy obtained\n",
    "print(\"Accuracy on test data\",metrics.accuracy_score(y_test,y_test_pred))"
   ]
  },
  {
   "cell_type": "code",
   "execution_count": 66,
   "metadata": {},
   "outputs": [],
   "source": [
    "##Tuning the parameters\n",
    "c_space = np.logspace(-5, 8, 15)\n",
    "param_grid = {'C': c_space,\n",
    "              'solver':['liblinear'],\n",
    "             'max_iter':[100,1000,2000]}"
   ]
  },
  {
   "cell_type": "code",
   "execution_count": 67,
   "metadata": {},
   "outputs": [
    {
     "name": "stdout",
     "output_type": "stream",
     "text": [
      "Fitting 5 folds for each of 45 candidates, totalling 225 fits\n"
     ]
    }
   ],
   "source": [
    "logreg_cv = GridSearchCV(model, param_grid, cv = 5,n_jobs=-1,verbose=True)\n",
    "  \n",
    "logreg_cv=logreg_cv.fit(X_train, y_train)"
   ]
  },
  {
   "cell_type": "code",
   "execution_count": 68,
   "metadata": {},
   "outputs": [
    {
     "data": {
      "text/plain": [
       "LogisticRegression(C=3.727593720314938, random_state=42, solver='liblinear')"
      ]
     },
     "execution_count": 68,
     "metadata": {},
     "output_type": "execute_result"
    }
   ],
   "source": [
    "logreg_cv.best_estimator_"
   ]
  },
  {
   "cell_type": "code",
   "execution_count": 69,
   "metadata": {},
   "outputs": [],
   "source": [
    "logreg_cv=logreg_cv.best_estimator_"
   ]
  },
  {
   "cell_type": "markdown",
   "metadata": {},
   "source": [
    "### Model evaluation"
   ]
  },
  {
   "cell_type": "code",
   "execution_count": 70,
   "metadata": {},
   "outputs": [
    {
     "name": "stdout",
     "output_type": "stream",
     "text": [
      "Accuracy after hyperparameter tuning on train set: 0.9857627118644068\n",
      "Accuracy after hyperparameter tuning on test set: 0.9262891490034799\n"
     ]
    }
   ],
   "source": [
    "## Accuracy on tuned model\n",
    "print(\"Accuracy after hyperparameter tuning on train set:\",metrics.accuracy_score(y_train,logreg_cv.predict(X_train)))\n",
    "print(\"Accuracy after hyperparameter tuning on test set:\",metrics.accuracy_score(y_test,logreg_cv.predict(X_test)))"
   ]
  },
  {
   "cell_type": "code",
   "execution_count": 71,
   "metadata": {},
   "outputs": [
    {
     "name": "stdout",
     "output_type": "stream",
     "text": [
      "ROC_AUC score on test data: 0.9946822294693591\n"
     ]
    }
   ],
   "source": [
    "##ROC_AUC score on test data\n",
    "print(\"ROC_AUC score on test data:\",metrics.roc_auc_score(y_test,logreg_cv.predict_proba(X_test),multi_class='ovr'))"
   ]
  },
  {
   "cell_type": "code",
   "execution_count": 72,
   "metadata": {},
   "outputs": [
    {
     "name": "stdout",
     "output_type": "stream",
     "text": [
      "                            precision    recall  f1-score   support\n",
      "\n",
      "     Bank account services       0.93      0.95      0.94      1599\n",
      "Credit card / Prepaid card       0.93      0.93      0.93      1477\n",
      "                    Others       0.96      0.85      0.90       655\n",
      "   Theft/Dispute reporting       0.90      0.92      0.91      1440\n",
      "           Mortgages/loans       0.94      0.94      0.94      1151\n",
      "\n",
      "                  accuracy                           0.93      6322\n",
      "                 macro avg       0.93      0.92      0.92      6322\n",
      "              weighted avg       0.93      0.93      0.93      6322\n",
      "\n"
     ]
    }
   ],
   "source": [
    "##Precision,Recall score for the above topics\n",
    "print(metrics.classification_report(y_test,y_test_pred,target_names=[\"Bank account services\", \"Credit card / Prepaid card\", \"Others\", \"Theft/Dispute reporting\", \"Mortgages/loans\"]))"
   ]
  },
  {
   "cell_type": "markdown",
   "metadata": {},
   "source": [
    "### Decision Tree Classifier"
   ]
  },
  {
   "cell_type": "code",
   "execution_count": 73,
   "metadata": {},
   "outputs": [],
   "source": [
    "from sklearn.tree import DecisionTreeClassifier\n",
    "from sklearn.model_selection import RandomizedSearchCV"
   ]
  },
  {
   "cell_type": "code",
   "execution_count": 74,
   "metadata": {},
   "outputs": [],
   "source": [
    "tree_model=DecisionTreeClassifier(random_state=42)"
   ]
  },
  {
   "cell_type": "code",
   "execution_count": 75,
   "metadata": {},
   "outputs": [],
   "source": [
    "##Fitting the model\n",
    "tree_fit=tree_model.fit(X_train,y_train)"
   ]
  },
  {
   "cell_type": "code",
   "execution_count": 76,
   "metadata": {},
   "outputs": [],
   "source": [
    "y_test_pred=tree_fit.predict(X_test)"
   ]
  },
  {
   "cell_type": "code",
   "execution_count": 77,
   "metadata": {},
   "outputs": [
    {
     "name": "stdout",
     "output_type": "stream",
     "text": [
      "Accuracy of decision tree before tuning 0.7798165137614679\n"
     ]
    }
   ],
   "source": [
    "print(\"Accuracy of decision tree before tuning\",metrics.accuracy_score(y_test,y_test_pred))"
   ]
  },
  {
   "cell_type": "code",
   "execution_count": 78,
   "metadata": {},
   "outputs": [],
   "source": [
    "params={'min_samples_leaf':[2,5,6,7],\n",
    "        'min_samples_split':[10,15,20,25,30],\n",
    "        'max_depth':[6,8,10,12,15]\n",
    "}"
   ]
  },
  {
   "cell_type": "code",
   "execution_count": 79,
   "metadata": {},
   "outputs": [],
   "source": [
    "### Hyperparameter tuning using randomizedsearchCV\n",
    "Decisionclassifier=RandomizedSearchCV(tree_model,params,n_jobs=-1,cv=5,verbose=True)"
   ]
  },
  {
   "cell_type": "code",
   "execution_count": 80,
   "metadata": {},
   "outputs": [
    {
     "name": "stdout",
     "output_type": "stream",
     "text": [
      "Fitting 5 folds for each of 10 candidates, totalling 50 fits\n"
     ]
    }
   ],
   "source": [
    "## Fitting on the best parameter\n",
    "Decisionclassifier=Decisionclassifier.fit(X_train,y_train)"
   ]
  },
  {
   "cell_type": "code",
   "execution_count": 81,
   "metadata": {},
   "outputs": [
    {
     "data": {
      "text/plain": [
       "DecisionTreeClassifier(max_depth=15, min_samples_leaf=6, min_samples_split=30,\n",
       "                       random_state=42)"
      ]
     },
     "execution_count": 81,
     "metadata": {},
     "output_type": "execute_result"
    }
   ],
   "source": [
    "Decisionclassifier.best_estimator_"
   ]
  },
  {
   "cell_type": "code",
   "execution_count": 82,
   "metadata": {},
   "outputs": [],
   "source": [
    "Decisionclassifier=Decisionclassifier.best_estimator_"
   ]
  },
  {
   "cell_type": "markdown",
   "metadata": {},
   "source": [
    "### Model evaluation"
   ]
  },
  {
   "cell_type": "code",
   "execution_count": 83,
   "metadata": {},
   "outputs": [],
   "source": [
    "y_train_pred=Decisionclassifier.predict(X_train)"
   ]
  },
  {
   "cell_type": "code",
   "execution_count": 84,
   "metadata": {},
   "outputs": [],
   "source": [
    "y_test_pred=Decisionclassifier.predict(X_test)"
   ]
  },
  {
   "cell_type": "code",
   "execution_count": 85,
   "metadata": {},
   "outputs": [
    {
     "name": "stdout",
     "output_type": "stream",
     "text": [
      "Accuracy on decision tree on train set after tuning 0.8574237288135593\n",
      "Accuracy on decision tree on test set after tuning 0.7837709585574185\n",
      "ROC_AUC score on test set  0.7837709585574185\n"
     ]
    }
   ],
   "source": [
    "## Accuracy on test data\n",
    "print(\"Accuracy on decision tree on train set after tuning\",metrics.accuracy_score(y_train,y_train_pred))\n",
    "print(\"Accuracy on decision tree on test set after tuning\",metrics.accuracy_score(y_test,y_test_pred))\n",
    "print(\"ROC_AUC score on test set \",metrics.accuracy_score(y_test,y_test_pred))"
   ]
  },
  {
   "cell_type": "code",
   "execution_count": 86,
   "metadata": {},
   "outputs": [
    {
     "name": "stdout",
     "output_type": "stream",
     "text": [
      "              precision    recall  f1-score   support\n",
      "\n",
      "           0       0.82      0.82      0.82      1599\n",
      "           1       0.80      0.81      0.81      1477\n",
      "           2       0.74      0.76      0.75       655\n",
      "           3       0.78      0.69      0.74      1440\n",
      "           4       0.74      0.82      0.78      1151\n",
      "\n",
      "    accuracy                           0.78      6322\n",
      "   macro avg       0.78      0.78      0.78      6322\n",
      "weighted avg       0.78      0.78      0.78      6322\n",
      "\n"
     ]
    }
   ],
   "source": [
    "## classification report\n",
    "print(metrics.classification_report(y_test,y_test_pred))"
   ]
  },
  {
   "cell_type": "markdown",
   "metadata": {},
   "source": [
    "## Random Forest Classifier"
   ]
  },
  {
   "cell_type": "code",
   "execution_count": 87,
   "metadata": {},
   "outputs": [],
   "source": [
    "from sklearn.ensemble import RandomForestClassifier"
   ]
  },
  {
   "cell_type": "code",
   "execution_count": 88,
   "metadata": {},
   "outputs": [],
   "source": [
    "randomforest=RandomForestClassifier(random_state=42)"
   ]
  },
  {
   "cell_type": "code",
   "execution_count": 89,
   "metadata": {},
   "outputs": [
    {
     "data": {
      "text/plain": [
       "RandomForestClassifier(random_state=42)"
      ]
     },
     "execution_count": 89,
     "metadata": {},
     "output_type": "execute_result"
    }
   ],
   "source": [
    "randomforest.fit(X_train,y_train)"
   ]
  },
  {
   "cell_type": "code",
   "execution_count": 90,
   "metadata": {},
   "outputs": [],
   "source": [
    "y_test_pred=randomforest.predict(X_test)"
   ]
  },
  {
   "cell_type": "code",
   "execution_count": 91,
   "metadata": {},
   "outputs": [
    {
     "name": "stdout",
     "output_type": "stream",
     "text": [
      "Accuracy before tuning 0.823473584308763\n"
     ]
    }
   ],
   "source": [
    "## Accuracy on the untuned randomforest classifier\n",
    "print(\"Accuracy before tuning\",metrics.accuracy_score(y_test,y_test_pred))"
   ]
  },
  {
   "cell_type": "code",
   "execution_count": 92,
   "metadata": {},
   "outputs": [],
   "source": [
    "params={'min_samples_leaf':[3,5,8,10,12,20,25],\n",
    "        'min_samples_split':[1,2,5,10,15,20,30],\n",
    "        'max_depth':[20,18,17,16,15,10,5,4,3]\n",
    "}"
   ]
  },
  {
   "cell_type": "code",
   "execution_count": 93,
   "metadata": {},
   "outputs": [],
   "source": [
    "## Using randomizedsearch CV to identify the best params \n",
    "\n",
    "forest_classifier=RandomizedSearchCV(randomforest,params,n_jobs=-1,verbose=True,cv=3)"
   ]
  },
  {
   "cell_type": "code",
   "execution_count": 94,
   "metadata": {},
   "outputs": [
    {
     "name": "stdout",
     "output_type": "stream",
     "text": [
      "Fitting 3 folds for each of 10 candidates, totalling 30 fits\n"
     ]
    }
   ],
   "source": [
    "forest_classifier=forest_classifier.fit(X_train,y_train)"
   ]
  },
  {
   "cell_type": "code",
   "execution_count": 95,
   "metadata": {},
   "outputs": [],
   "source": [
    "forest_classifier=forest_classifier.best_estimator_"
   ]
  },
  {
   "cell_type": "markdown",
   "metadata": {},
   "source": [
    "### Model Evaluation"
   ]
  },
  {
   "cell_type": "code",
   "execution_count": 96,
   "metadata": {},
   "outputs": [],
   "source": [
    "y_train_pred=forest_classifier.predict(X_train)"
   ]
  },
  {
   "cell_type": "code",
   "execution_count": 97,
   "metadata": {},
   "outputs": [],
   "source": [
    "y_test_pred=forest_classifier.predict(X_test)"
   ]
  },
  {
   "cell_type": "code",
   "execution_count": 98,
   "metadata": {},
   "outputs": [
    {
     "name": "stdout",
     "output_type": "stream",
     "text": [
      "Random Forest Classifier Model Results:\n",
      "Accuracy on decision tree on train set after tuning 0.7970847457627118\n",
      "Accuracy on decision tree on test set after tuning 0.755931667193926\n",
      "ROC_AUC score on test set  0.755931667193926\n"
     ]
    }
   ],
   "source": [
    "## Accuracy on test data\n",
    "print(\"Random Forest Classifier Model Results:\")\n",
    "print(\"Accuracy on decision tree on train set after tuning\",metrics.accuracy_score(y_train,y_train_pred))\n",
    "print(\"Accuracy on decision tree on test set after tuning\",metrics.accuracy_score(y_test,y_test_pred))\n",
    "print(\"ROC_AUC score on test set \",metrics.accuracy_score(y_test,y_test_pred))"
   ]
  },
  {
   "cell_type": "code",
   "execution_count": 99,
   "metadata": {},
   "outputs": [
    {
     "name": "stdout",
     "output_type": "stream",
     "text": [
      "              precision    recall  f1-score   support\n",
      "\n",
      "           0       0.74      0.90      0.81      1599\n",
      "           1       0.70      0.83      0.76      1477\n",
      "           2       0.94      0.12      0.22       655\n",
      "           3       0.76      0.80      0.78      1440\n",
      "           4       0.86      0.77      0.81      1151\n",
      "\n",
      "    accuracy                           0.76      6322\n",
      "   macro avg       0.80      0.68      0.68      6322\n",
      "weighted avg       0.78      0.76      0.73      6322\n",
      "\n"
     ]
    }
   ],
   "source": [
    "print(metrics.classification_report(y_test,y_test_pred))"
   ]
  },
  {
   "cell_type": "markdown",
   "metadata": {},
   "source": [
    "## Overall model evaluation\n",
    "\n",
    "-  <b>Logisitic Regression model</b>:Accuracy score and ROC AUC score of Logistic regression on both the test and train data after hyperparameter tuning is high, with the test data accuracy at 92%, meaning a perfect balance of bias-variance. Hence a logistic model with hyperparameter tuning would work the best in this case\n",
    "\n",
    "- <b>Decision tree classifier</b>: Accuracy and ROC AUC score of this model is between 70-80% for both the test and training dataset, implying low variance and higher bias, hence the accuracy might decrease on more unseen dataset\n",
    "\n",
    "- <b>Random forest classifier</b>: This model performs similarly to the Decision tress classfier, and may not perform very well on future unseen datasets as it has low variance and high bias."
   ]
  },
  {
   "cell_type": "code",
   "execution_count": null,
   "metadata": {},
   "outputs": [],
   "source": []
  },
  {
   "cell_type": "code",
   "execution_count": null,
   "metadata": {},
   "outputs": [],
   "source": []
  },
  {
   "cell_type": "code",
   "execution_count": null,
   "metadata": {},
   "outputs": [],
   "source": []
  },
  {
   "cell_type": "code",
   "execution_count": null,
   "metadata": {},
   "outputs": [],
   "source": []
  }
 ],
 "metadata": {
  "colab": {
   "collapsed_sections": [
    "T9jD_6SeJrF3",
    "5DfCSbbmJrF4",
    "yYzD85nTJrGA",
    "piyLxzj6v07j",
    "280Vbqk-7a8M"
   ],
   "name": "Automatic_Ticket_Classification_Assignment-Group case study.ipynb",
   "provenance": []
  },
  "kernelspec": {
   "display_name": "Python 3 (ipykernel)",
   "language": "python",
   "name": "python3"
  },
  "language_info": {
   "codemirror_mode": {
    "name": "ipython",
    "version": 3
   },
   "file_extension": ".py",
   "mimetype": "text/x-python",
   "name": "python",
   "nbconvert_exporter": "python",
   "pygments_lexer": "ipython3",
   "version": "3.9.7"
  }
 },
 "nbformat": 4,
 "nbformat_minor": 1
}
